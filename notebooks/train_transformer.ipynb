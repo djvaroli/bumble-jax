{
 "cells": [
  {
   "cell_type": "code",
   "execution_count": 1,
   "metadata": {},
   "outputs": [
    {
     "name": "stderr",
     "output_type": "stream",
     "text": [
      "/Users/danielvaroli/opt/anaconda3/envs/optjx/lib/python3.10/site-packages/tqdm/auto.py:21: TqdmWarning: IProgress not found. Please update jupyter and ipywidgets. See https://ipywidgets.readthedocs.io/en/stable/user_install.html\n",
      "  from .autonotebook import tqdm as notebook_tqdm\n"
     ]
    }
   ],
   "source": [
    "\n",
    "import jax\n",
    "from transformers import AutoTokenizer\n",
    "from datasets import load_dataset\n",
    "from matplotlib import pyplot as plt\n",
    "import torch\n",
    "from torch.utils.data import DataLoader, Dataset\n",
    "\n",
    "from optimusjx.model import TransformerLM\n",
    "from optimusjx.train import CollatorForCausalLM, LMTrainer"
   ]
  },
  {
   "cell_type": "code",
   "execution_count": 2,
   "metadata": {},
   "outputs": [],
   "source": [
    "tokenizer = AutoTokenizer.from_pretrained(\"gpt2\")"
   ]
  },
  {
   "cell_type": "code",
   "execution_count": 3,
   "metadata": {},
   "outputs": [],
   "source": [
    "tokenizer.pad_token = tokenizer.eos_token"
   ]
  },
  {
   "cell_type": "code",
   "execution_count": 4,
   "metadata": {},
   "outputs": [],
   "source": [
    "# load the dataset\n",
    "d = load_dataset(\"huanggab/reddit_haiku\", data_files={'test':'merged_with_keywords.csv'})  # use data_files or it will result in error\n",
    "\n",
    "# we will use test to compute the test perplexity\n",
    "train_test_ratio = 0.1\n",
    "d['test'] = d['test'].train_test_split(test_size=1-train_test_ratio)\n",
    "\n",
    "# Now you have the train and test datasets\n",
    "train_dataset = d['test']['train']\n",
    "test_dataset = d['test']['test']\n"
   ]
  },
  {
   "cell_type": "code",
   "execution_count": 5,
   "metadata": {},
   "outputs": [
    {
     "data": {
      "text/plain": [
       "(Dataset({\n",
       "     features: ['Unnamed: 0', 'id', 'processed_title', 'ups', 'keywords'],\n",
       "     num_rows: 1528\n",
       " }),\n",
       " Dataset({\n",
       "     features: ['Unnamed: 0', 'id', 'processed_title', 'ups', 'keywords'],\n",
       "     num_rows: 13753\n",
       " }))"
      ]
     },
     "execution_count": 5,
     "metadata": {},
     "output_type": "execute_result"
    }
   ],
   "source": [
    "train_dataset, test_dataset"
   ]
  },
  {
   "cell_type": "code",
   "execution_count": 6,
   "metadata": {},
   "outputs": [],
   "source": [
    "from itertools import chain\n",
    "# plot the distribution of the lengths of the sequences\n",
    "lengths = []\n",
    "\n",
    "for row in chain(train_dataset, test_dataset):\n",
    "    lengths.append(len(tokenizer(row['processed_title'])['input_ids']))\n",
    "\n",
    "plt.hist(lengths, bins=100)\n",
    "plt.show()"
   ]
  },
  {
   "cell_type": "code",
   "execution_count": 7,
   "metadata": {},
   "outputs": [],
   "source": [
    "train_dataset = train_dataset.map(\n",
    "    lambda x: tokenizer(x['processed_title'], padding='max_length', truncation=True), \n",
    "    batched=True,\n",
    "    remove_columns=['Unnamed: 0', 'processed_title', 'keywords', \"ups\", \"id\", \"processed_title\"],\n",
    ")\n",
    "\n",
    "test_dataset = test_dataset.map(\n",
    "    lambda x: tokenizer(x['processed_title'], padding='max_length', truncation=True), \n",
    "    batched=True,\n",
    "    remove_columns=['Unnamed: 0', 'processed_title', 'keywords', \"ups\", \"id\", \"processed_title\"]\n",
    ")\n",
    "\n",
    "\n",
    "class RandomIntDataset(Dataset):\n",
    "    def __init__(\n",
    "        self, \n",
    "        seq_len: int,\n",
    "        vocab_size: int, \n",
    "        n_batches: int = 10,\n",
    "        seed: int = 42\n",
    "    ) -> None:\n",
    "        self.vocab_size = vocab_size\n",
    "        self.seq_len = seq_len\n",
    "        self.n_batches = n_batches\n",
    "        self.rng = jax.random.PRNGKey(seed)\n",
    "    \n",
    "    def __getitem__(self, index) -> dict[str, list]:\n",
    "        if index > self.n_batches - 1:\n",
    "            raise ValueError(\"Index larger than length.\")\n",
    "        \n",
    "        random_vocab = jax.random.randint(\n",
    "            self.rng, \n",
    "            (self.seq_len,), \n",
    "            minval=0,\n",
    "            maxval=self.vocab_size\n",
    "        ).tolist()\n",
    "\n",
    "        self.rng, _ = jax.random.split(self.rng, 2)\n",
    "        \n",
    "        return {\"input_ids\": random_vocab}\n",
    "\n",
    "    def __len__(self) -> int:\n",
    "        return self.n_batches\n",
    "\n",
    "train_dataset = RandomIntDataset(3, 4)"
   ]
  },
  {
   "cell_type": "code",
   "execution_count": 8,
   "metadata": {},
   "outputs": [
    {
     "data": {
      "text/plain": [
       "{'input_ids': [3, 2, 1]}"
      ]
     },
     "execution_count": 8,
     "metadata": {},
     "output_type": "execute_result"
    }
   ],
   "source": [
    "train_dataset[0]"
   ]
  },
  {
   "cell_type": "code",
   "execution_count": 9,
   "metadata": {},
   "outputs": [],
   "source": [
    "random_seed = 42\n",
    "batch_size = 8\n",
    "\n",
    "rng = torch.Generator()\n",
    "rng.manual_seed(random_seed)\n",
    "\n",
    "collator = CollatorForCausalLM(tokenizer)\n",
    "\n",
    "train_loader = DataLoader(\n",
    "    train_dataset, \n",
    "    batch_size=batch_size,\n",
    "    generator=rng,\n",
    "    collate_fn=collator\n",
    ")"
   ]
  },
  {
   "cell_type": "code",
   "execution_count": 10,
   "metadata": {},
   "outputs": [
    {
     "name": "stdout",
     "output_type": "stream",
     "text": [
      "{'inputs': Array([[2, 2, 1],\n",
      "       [1, 3, 2],\n",
      "       [1, 0, 1],\n",
      "       [1, 2, 3],\n",
      "       [0, 3, 3],\n",
      "       [1, 0, 3],\n",
      "       [3, 0, 1],\n",
      "       [2, 1, 1]], dtype=int32), 'labels': Array([[2, 2, 1],\n",
      "       [1, 3, 2],\n",
      "       [1, 0, 1],\n",
      "       [1, 2, 3],\n",
      "       [0, 3, 3],\n",
      "       [1, 0, 3],\n",
      "       [3, 0, 1],\n",
      "       [2, 1, 1]], dtype=int32), 'lookahead_mask': Array([[  0., -inf, -inf],\n",
      "       [  0.,   0., -inf],\n",
      "       [  0.,   0.,   0.]], dtype=float32), 'padding_mask': Array([[0., 0., 0.],\n",
      "       [0., 0., 0.],\n",
      "       [0., 0., 0.],\n",
      "       [0., 0., 0.],\n",
      "       [0., 0., 0.],\n",
      "       [0., 0., 0.],\n",
      "       [0., 0., 0.],\n",
      "       [0., 0., 0.]], dtype=float32)}\n"
     ]
    }
   ],
   "source": [
    "for batch in train_loader:\n",
    "    break\n",
    "\n",
    "print(batch)"
   ]
  },
  {
   "cell_type": "code",
   "execution_count": 11,
   "metadata": {},
   "outputs": [],
   "source": [
    "model = TransformerLM(vocab_size=train_dataset.vocab_size)"
   ]
  },
  {
   "cell_type": "code",
   "execution_count": 12,
   "metadata": {},
   "outputs": [],
   "source": [
    "trainer = LMTrainer(\n",
    "    model, \n",
    "    example_batch=batch, \n",
    "    max_iters=101\n",
    ")"
   ]
  },
  {
   "cell_type": "code",
   "execution_count": 13,
   "metadata": {},
   "outputs": [
    {
     "name": "stderr",
     "output_type": "stream",
     "text": [
      "Epoch 5 / 5: 100%|██████████| 5/5 [00:29<00:00,  5.95s/it, loss=1.36]\n"
     ]
    }
   ],
   "source": [
    "trainer.train(5, train_loader)"
   ]
  },
  {
   "cell_type": "code",
   "execution_count": 14,
   "metadata": {},
   "outputs": [
    {
     "data": {
      "text/plain": [
       "[CpuDevice(id=0)]"
      ]
     },
     "execution_count": 14,
     "metadata": {},
     "output_type": "execute_result"
    }
   ],
   "source": [
    "jax.devices()"
   ]
  }
 ],
 "metadata": {
  "kernelspec": {
   "display_name": "jax-transformer",
   "language": "python",
   "name": "python3"
  },
  "language_info": {
   "codemirror_mode": {
    "name": "ipython",
    "version": 3
   },
   "file_extension": ".py",
   "mimetype": "text/x-python",
   "name": "python",
   "nbconvert_exporter": "python",
   "pygments_lexer": "ipython3",
   "version": "3.10.13"
  }
 },
 "nbformat": 4,
 "nbformat_minor": 2
}
