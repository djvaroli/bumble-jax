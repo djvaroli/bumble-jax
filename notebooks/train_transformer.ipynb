{
 "cells": [
  {
   "cell_type": "code",
   "execution_count": 1,
   "metadata": {},
   "outputs": [],
   "source": [
    "\n",
    "import jax\n",
    "import torch\n",
    "from torch.utils.data import DataLoader, Dataset\n",
    "\n",
    "from optimusjx.model import TransformerLM\n",
    "from optimusjx.train import CollatorForCausalLM, LMTrainer"
   ]
  },
  {
   "cell_type": "code",
   "execution_count": 26,
   "metadata": {},
   "outputs": [],
   "source": [
    "class RandomIntDataset(Dataset):\n",
    "    def __init__(\n",
    "        self, \n",
    "        seq_len: int,\n",
    "        vocab_size: int, \n",
    "        n_batches: int = 10,\n",
    "        seed: int = 42,\n",
    "        padding_amount: int | None = None\n",
    "    ) -> None:\n",
    "        self.vocab_size = vocab_size\n",
    "        self.seq_len = seq_len\n",
    "        self.n_batches = n_batches\n",
    "        self.rng = jax.random.PRNGKey(seed)\n",
    "        self.padding_amount = padding_amount\n",
    "        if self.padding_amount is not None:\n",
    "            self.pad_token_id = self.vocab_size + 1\n",
    "            self.vocab_size += 1\n",
    "        \n",
    "    def __getitem__(self, index) -> dict[str, list]:\n",
    "        if index > self.n_batches - 1:\n",
    "            raise ValueError(\"Index larger than length.\")\n",
    "        \n",
    "        random_vocab = jax.random.randint(\n",
    "            self.rng, \n",
    "            (self.seq_len,), \n",
    "            minval=0,\n",
    "            maxval=self.vocab_size\n",
    "        )\n",
    "\n",
    "        if self.padding_amount is not None and self.pad_token_id is not None:\n",
    "            padding = jax.numpy.full((self.padding_amount), self.pad_token_id)\n",
    "            random_vocab = jax.numpy.concatenate([random_vocab, padding], axis=-1)\n",
    "        \n",
    "        self.rng, _ = jax.random.split(self.rng, 2)\n",
    "        \n",
    "        return {\"input_ids\": random_vocab.tolist()}\n",
    "\n",
    "    def __len__(self) -> int:\n",
    "        return self.n_batches\n",
    "\n",
    "\n",
    "class TokenizerStandin:\n",
    "    def __init__(self, pad_token_id: int = 0) -> None:\n",
    "        self.pad_token_id = pad_token_id\n",
    "    \n",
    "\n",
    "train_dataset = RandomIntDataset(3, 4, padding_amount=3)"
   ]
  },
  {
   "cell_type": "code",
   "execution_count": 27,
   "metadata": {},
   "outputs": [
    {
     "data": {
      "text/plain": [
       "{'input_ids': [0, 3, 2, 5, 5, 5]}"
      ]
     },
     "execution_count": 27,
     "metadata": {},
     "output_type": "execute_result"
    }
   ],
   "source": [
    "train_dataset[0]"
   ]
  },
  {
   "cell_type": "code",
   "execution_count": 28,
   "metadata": {},
   "outputs": [],
   "source": [
    "random_seed = 42\n",
    "batch_size = 8\n",
    "\n",
    "rng = torch.Generator()\n",
    "rng.manual_seed(random_seed)\n",
    "\n",
    "collator = CollatorForCausalLM(TokenizerStandin(pad_token_id=train_dataset.pad_token_id))\n",
    "\n",
    "train_loader = DataLoader(\n",
    "    train_dataset, \n",
    "    batch_size=batch_size,\n",
    "    generator=rng,\n",
    "    collate_fn=collator\n",
    ")"
   ]
  },
  {
   "cell_type": "code",
   "execution_count": 29,
   "metadata": {},
   "outputs": [
    {
     "name": "stdout",
     "output_type": "stream",
     "text": [
      "{'inputs': Array([[0, 3, 3, 5, 5, 5],\n",
      "       [1, 0, 2, 5, 5, 5],\n",
      "       [0, 4, 2, 5, 5, 5],\n",
      "       [2, 2, 0, 5, 5, 5],\n",
      "       [1, 1, 0, 5, 5, 5],\n",
      "       [3, 0, 0, 5, 5, 5],\n",
      "       [2, 3, 0, 5, 5, 5],\n",
      "       [1, 4, 3, 5, 5, 5]], dtype=int32), 'labels': Array([[   0,    3,    3, -100, -100, -100],\n",
      "       [   1,    0,    2, -100, -100, -100],\n",
      "       [   0,    4,    2, -100, -100, -100],\n",
      "       [   2,    2,    0, -100, -100, -100],\n",
      "       [   1,    1,    0, -100, -100, -100],\n",
      "       [   3,    0,    0, -100, -100, -100],\n",
      "       [   2,    3,    0, -100, -100, -100],\n",
      "       [   1,    4,    3, -100, -100, -100]], dtype=int32), 'lookahead_mask': Array([[  0., -inf, -inf, -inf, -inf, -inf],\n",
      "       [  0.,   0., -inf, -inf, -inf, -inf],\n",
      "       [  0.,   0.,   0., -inf, -inf, -inf],\n",
      "       [  0.,   0.,   0.,   0., -inf, -inf],\n",
      "       [  0.,   0.,   0.,   0.,   0., -inf],\n",
      "       [  0.,   0.,   0.,   0.,   0.,   0.]], dtype=float32), 'padding_mask': Array([[  0.,   0.,   0., -inf, -inf, -inf],\n",
      "       [  0.,   0.,   0., -inf, -inf, -inf],\n",
      "       [  0.,   0.,   0., -inf, -inf, -inf],\n",
      "       [  0.,   0.,   0., -inf, -inf, -inf],\n",
      "       [  0.,   0.,   0., -inf, -inf, -inf],\n",
      "       [  0.,   0.,   0., -inf, -inf, -inf],\n",
      "       [  0.,   0.,   0., -inf, -inf, -inf],\n",
      "       [  0.,   0.,   0., -inf, -inf, -inf]], dtype=float32)}\n"
     ]
    }
   ],
   "source": [
    "for batch in train_loader:\n",
    "    break\n",
    "\n",
    "print(batch)"
   ]
  },
  {
   "cell_type": "code",
   "execution_count": 30,
   "metadata": {},
   "outputs": [],
   "source": [
    "model = TransformerLM(vocab_size=train_dataset.vocab_size)"
   ]
  },
  {
   "cell_type": "code",
   "execution_count": 31,
   "metadata": {},
   "outputs": [],
   "source": [
    "trainer = LMTrainer(\n",
    "    model, \n",
    "    example_batch=batch, \n",
    "    max_iters=101,\n",
    "    report_to=\"wandb\"\n",
    ")"
   ]
  },
  {
   "cell_type": "code",
   "execution_count": 32,
   "metadata": {},
   "outputs": [
    {
     "data": {
      "text/html": [
       "Finishing last run (ID:gin3ij1c) before initializing another..."
      ],
      "text/plain": [
       "<IPython.core.display.HTML object>"
      ]
     },
     "metadata": {},
     "output_type": "display_data"
    },
    {
     "name": "stderr",
     "output_type": "stream",
     "text": [
      "wandb: WARNING Source type is set to 'repo' but some required information is missing from the environment. A job will not be created from this run. See https://docs.wandb.ai/guides/launch/create-job\n"
     ]
    },
    {
     "data": {
      "text/html": [
       "<style>\n",
       "    table.wandb td:nth-child(1) { padding: 0 10px; text-align: left ; width: auto;} td:nth-child(2) {text-align: left ; width: 100%}\n",
       "    .wandb-row { display: flex; flex-direction: row; flex-wrap: wrap; justify-content: flex-start; width: 100% }\n",
       "    .wandb-col { display: flex; flex-direction: column; flex-basis: 100%; flex: 1; padding: 10px; }\n",
       "    </style>\n",
       "<div class=\"wandb-row\"><div class=\"wandb-col\"><h3>Run summary:</h3><br/><table class=\"wandb\"><tr><td>train_loss</td><td>nan</td></tr></table><br/></div></div>"
      ],
      "text/plain": [
       "<IPython.core.display.HTML object>"
      ]
     },
     "metadata": {},
     "output_type": "display_data"
    },
    {
     "data": {
      "text/html": [
       " View run <strong style=\"color:#cdcd00\">playful-dawn-3</strong> at: <a href='https://wandb.ai/djvaroli/bubmle-jax/runs/gin3ij1c' target=\"_blank\">https://wandb.ai/djvaroli/bubmle-jax/runs/gin3ij1c</a><br/>Synced 6 W&B file(s), 0 media file(s), 0 artifact file(s) and 0 other file(s)"
      ],
      "text/plain": [
       "<IPython.core.display.HTML object>"
      ]
     },
     "metadata": {},
     "output_type": "display_data"
    },
    {
     "data": {
      "text/html": [
       "Find logs at: <code>./wandb/run-20231218_233517-gin3ij1c/logs</code>"
      ],
      "text/plain": [
       "<IPython.core.display.HTML object>"
      ]
     },
     "metadata": {},
     "output_type": "display_data"
    },
    {
     "data": {
      "text/html": [
       "Successfully finished last run (ID:gin3ij1c). Initializing new run:<br/>"
      ],
      "text/plain": [
       "<IPython.core.display.HTML object>"
      ]
     },
     "metadata": {},
     "output_type": "display_data"
    },
    {
     "data": {
      "text/html": [
       "Tracking run with wandb version 0.16.1"
      ],
      "text/plain": [
       "<IPython.core.display.HTML object>"
      ]
     },
     "metadata": {},
     "output_type": "display_data"
    },
    {
     "data": {
      "text/html": [
       "Run data is saved locally in <code>/Users/danielvaroli/Desktop/projects/jax-transformer/notebooks/wandb/run-20231219_000528-4tgbeqcy</code>"
      ],
      "text/plain": [
       "<IPython.core.display.HTML object>"
      ]
     },
     "metadata": {},
     "output_type": "display_data"
    },
    {
     "data": {
      "text/html": [
       "Syncing run <strong><a href='https://wandb.ai/djvaroli/bubmle-jax/runs/4tgbeqcy' target=\"_blank\">confused-darkness-4</a></strong> to <a href='https://wandb.ai/djvaroli/bubmle-jax' target=\"_blank\">Weights & Biases</a> (<a href='https://wandb.me/run' target=\"_blank\">docs</a>)<br/>"
      ],
      "text/plain": [
       "<IPython.core.display.HTML object>"
      ]
     },
     "metadata": {},
     "output_type": "display_data"
    },
    {
     "data": {
      "text/html": [
       " View project at <a href='https://wandb.ai/djvaroli/bubmle-jax' target=\"_blank\">https://wandb.ai/djvaroli/bubmle-jax</a>"
      ],
      "text/plain": [
       "<IPython.core.display.HTML object>"
      ]
     },
     "metadata": {},
     "output_type": "display_data"
    },
    {
     "data": {
      "text/html": [
       " View run at <a href='https://wandb.ai/djvaroli/bubmle-jax/runs/4tgbeqcy' target=\"_blank\">https://wandb.ai/djvaroli/bubmle-jax/runs/4tgbeqcy</a>"
      ],
      "text/plain": [
       "<IPython.core.display.HTML object>"
      ]
     },
     "metadata": {},
     "output_type": "display_data"
    },
    {
     "name": "stderr",
     "output_type": "stream",
     "text": [
      "Epoch 5 / 5: 100%|██████████| 5/5 [00:27<00:00,  5.58s/it, loss=nan]\n"
     ]
    }
   ],
   "source": [
    "trainer.train(5, train_loader)"
   ]
  },
  {
   "cell_type": "code",
   "execution_count": 11,
   "metadata": {},
   "outputs": [
    {
     "data": {
      "text/plain": [
       "{'train_loss': [nan, nan, nan, nan, nan, nan, nan, nan, nan, nan],\n",
       " 'val_loss': []}"
      ]
     },
     "execution_count": 11,
     "metadata": {},
     "output_type": "execute_result"
    }
   ],
   "source": [
    "trainer.history"
   ]
  },
  {
   "cell_type": "code",
   "execution_count": null,
   "metadata": {},
   "outputs": [],
   "source": []
  }
 ],
 "metadata": {
  "kernelspec": {
   "display_name": "jax-transformer",
   "language": "python",
   "name": "python3"
  },
  "language_info": {
   "codemirror_mode": {
    "name": "ipython",
    "version": 3
   },
   "file_extension": ".py",
   "mimetype": "text/x-python",
   "name": "python",
   "nbconvert_exporter": "python",
   "pygments_lexer": "ipython3",
   "version": "3.10.13"
  }
 },
 "nbformat": 4,
 "nbformat_minor": 2
}
