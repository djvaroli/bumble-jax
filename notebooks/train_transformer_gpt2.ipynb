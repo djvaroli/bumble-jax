{
 "cells": [
  {
   "cell_type": "code",
   "execution_count": 1,
   "metadata": {},
   "outputs": [
    {
     "name": "stderr",
     "output_type": "stream",
     "text": [
      "/home/orquestra/.local/lib/python3.10/site-packages/tqdm/auto.py:21: TqdmWarning: IProgress not found. Please update jupyter and ipywidgets. See https://ipywidgets.readthedocs.io/en/stable/user_install.html\n",
      "  from .autonotebook import tqdm as notebook_tqdm\n",
      "WARNING:absl:Tensorflow library not found, tensorflow.io.gfile operations will use native shim calls. GCS paths (i.e. 'gs://...') cannot be accessed.\n"
     ]
    }
   ],
   "source": [
    "import jax\n",
    "import numpy as np\n",
    "import torch\n",
    "from torch.utils.data import DataLoader\n",
    "from matplotlib import pyplot as plt\n",
    "from transformers import AutoTokenizer\n",
    "from datasets import load_dataset\n",
    "\n",
    "from wheeljax.model import TransformerLM\n",
    "from wheeljax.train import CollatorForCausalLM, LMTrainer"
   ]
  },
  {
   "cell_type": "code",
   "execution_count": 2,
   "metadata": {},
   "outputs": [
    {
     "name": "stdout",
     "output_type": "stream",
     "text": [
      "[cuda(id=0)]\n"
     ]
    },
    {
     "name": "stderr",
     "output_type": "stream",
     "text": [
      "2024-02-26 06:32:30.898931: W external/xla/xla/service/gpu/nvptx_compiler.cc:698] The NVIDIA driver's CUDA version is 11.4 which is older than the ptxas CUDA version (11.8.89). Because the driver is older than the ptxas version, XLA is disabling parallel compilation, which may slow down compilation. You should update your NVIDIA driver or use the NVIDIA-provided CUDA forward compatibility packages.\n"
     ]
    },
    {
     "data": {
      "text/plain": [
       "Array([[0., 0.],\n",
       "       [0., 0.]], dtype=float32)"
      ]
     },
     "execution_count": 2,
     "metadata": {},
     "output_type": "execute_result"
    }
   ],
   "source": [
    "# list jax devices\n",
    "print(jax.devices())\n",
    "\n",
    "# catches XLA ptxas<11.8 error on GPU\n",
    "jax.numpy.zeros((2, 2))"
   ]
  },
  {
   "cell_type": "code",
   "execution_count": 3,
   "metadata": {},
   "outputs": [],
   "source": [
    "tokenizer = AutoTokenizer.from_pretrained(\"gpt2\")"
   ]
  },
  {
   "cell_type": "code",
   "execution_count": 4,
   "metadata": {},
   "outputs": [],
   "source": [
    "tokenizer.pad_token = tokenizer.eos_token"
   ]
  },
  {
   "cell_type": "code",
   "execution_count": 5,
   "metadata": {},
   "outputs": [],
   "source": [
    "# load the dataset but keep 70% because my GPU cannot handle more\n",
    "d = load_dataset(\n",
    "    \"huanggab/reddit_haiku\", \n",
    "    data_files={'test':'merged_with_keywords.csv'},\n",
    "    split=\"test[0:70%]\"\n",
    ")  # use data_files or it will result in error\n",
    "\n",
    "datasets = {\"test\": d}\n",
    "\n",
    "# we will use test to compute the test perplexity\n",
    "train_test_ratio = 0.8\n",
    "datasets['test'] = datasets['test'].train_test_split(test_size=1-train_test_ratio)\n",
    "\n",
    "# Now you have the train and test datasets\n",
    "train_dataset = datasets['test']['train']\n",
    "test_dataset = datasets['test']['test']\n"
   ]
  },
  {
   "cell_type": "code",
   "execution_count": 6,
   "metadata": {},
   "outputs": [
    {
     "data": {
      "text/plain": [
       "(Dataset({\n",
       "     features: ['Unnamed: 0', 'id', 'processed_title', 'ups', 'keywords'],\n",
       "     num_rows: 8557\n",
       " }),\n",
       " Dataset({\n",
       "     features: ['Unnamed: 0', 'id', 'processed_title', 'ups', 'keywords'],\n",
       "     num_rows: 2140\n",
       " }))"
      ]
     },
     "execution_count": 6,
     "metadata": {},
     "output_type": "execute_result"
    }
   ],
   "source": [
    "train_dataset, test_dataset"
   ]
  },
  {
   "cell_type": "code",
   "execution_count": 7,
   "metadata": {},
   "outputs": [
    {
     "data": {
      "image/png": "[encoded data removed]",
      "text/plain": [
       "<Figure size 640x480 with 1 Axes>"
      ]
     },
     "metadata": {},
     "output_type": "display_data"
    }
   ],
   "source": [
    "from itertools import chain\n",
    "\n",
    "# plot the distribution of the lengths of the sequences\n",
    "# to select an appropriate max length for padding and truncation\n",
    "lengths = []\n",
    "\n",
    "for row in chain(train_dataset, test_dataset):\n",
    "    lengths.append(len(tokenizer(row['processed_title'])['input_ids']))\n",
    "\n",
    "plt.hist(lengths, bins=100, log=True, label=f\"train (max={max(lengths)})\")\n",
    "plt.legend()\n",
    "plt.show()"
   ]
  },
  {
   "cell_type": "code",
   "execution_count": 8,
   "metadata": {},
   "outputs": [
    {
     "name": "stdout",
     "output_type": "stream",
     "text": [
      " 99.90% of train lengths are <= 46\n"
     ]
    }
   ],
   "source": [
    "# get a max length that covers the vast majority of the data\n",
    "quantile = 0.999\n",
    "max_length = int(np.round(np.quantile(lengths, 0.999)))\n",
    "print(f\"{quantile * 100: .2f}% of train lengths are <= {max_length}\")"
   ]
  },
  {
   "cell_type": "code",
   "execution_count": 9,
   "metadata": {},
   "outputs": [
    {
     "name": "stderr",
     "output_type": "stream",
     "text": [
      "Map: 100%|██████████| 8557/8557 [00:00<00:00, 15551.10 examples/s]\n",
      "Map: 100%|██████████| 2140/2140 [00:00<00:00, 15459.28 examples/s]\n"
     ]
    }
   ],
   "source": [
    "train_dataset = train_dataset.map(\n",
    "    lambda x: tokenizer(\n",
    "        x['processed_title'], \n",
    "        padding='max_length',\n",
    "        truncation=True,\n",
    "        max_length=max_length\n",
    "    ), \n",
    "    batched=True,\n",
    "    remove_columns=['Unnamed: 0', 'processed_title', 'keywords', \"ups\", \"id\", \"processed_title\"],\n",
    ")\n",
    "\n",
    "test_dataset = test_dataset.map(\n",
    "    lambda x: tokenizer(\n",
    "        x['processed_title'], \n",
    "        padding='max_length', \n",
    "        truncation=True,\n",
    "        max_length=max_length\n",
    "    ), \n",
    "    batched=True,\n",
    "    remove_columns=['Unnamed: 0', 'processed_title', 'keywords', \"ups\", \"id\", \"processed_title\"]\n",
    ")"
   ]
  },
  {
   "cell_type": "code",
   "execution_count": 10,
   "metadata": {},
   "outputs": [
    {
     "name": "stdout",
     "output_type": "stream",
     "text": [
      "46\n"
     ]
    }
   ],
   "source": [
    "list(train_dataset[0].keys())\n",
    "print(len(train_dataset[0]['input_ids']))"
   ]
  },
  {
   "cell_type": "code",
   "execution_count": 11,
   "metadata": {},
   "outputs": [],
   "source": [
    "random_seed = 42\n",
    "batch_size = 32\n",
    "\n",
    "rng = torch.Generator()\n",
    "rng.manual_seed(random_seed)\n",
    "\n",
    "collator = CollatorForCausalLM(tokenizer)\n",
    "\n",
    "train_loader = DataLoader(\n",
    "    train_dataset, \n",
    "    batch_size=batch_size,\n",
    "    generator=rng,\n",
    "    collate_fn=collator\n",
    ")\n",
    "\n",
    "test_loader = DataLoader(\n",
    "    test_dataset,\n",
    "    batch_size=batch_size,\n",
    "    collate_fn=collator,\n",
    "    shuffle=False\n",
    ")"
   ]
  },
  {
   "cell_type": "code",
   "execution_count": 12,
   "metadata": {},
   "outputs": [
    {
     "name": "stdout",
     "output_type": "stream",
     "text": [
      "['inputs', 'labels', 'lookahead_mask', 'padding_mask']\n"
     ]
    }
   ],
   "source": [
    "# check that loader works and examine the data that is present in each batch\n",
    "for batch in train_loader:\n",
    "    break\n",
    "\n",
    "print(list(batch.keys()))"
   ]
  },
  {
   "cell_type": "code",
   "execution_count": 13,
   "metadata": {},
   "outputs": [],
   "source": [
    "# keeping the model pretty small because of GPU constraints\n",
    "model = TransformerLM(\n",
    "    dim_feedforward=64,\n",
    "    model_dim=128,\n",
    "    num_heads=4,\n",
    "    num_encoder_layers=8,\n",
    "    vocab_size=tokenizer.vocab_size\n",
    ")"
   ]
  },
  {
   "cell_type": "code",
   "execution_count": 14,
   "metadata": {},
   "outputs": [
    {
     "name": "stderr",
     "output_type": "stream",
     "text": [
      "/home/orquestra/jax-transformer/wheeljax/model/transformer.py:61: UserWarning: Transformer recieved unknown keyword argument labels - ignoring\n",
      "  warn(f\"Transformer recieved unknown keyword argument {key} - ignoring\")\n"
     ]
    }
   ],
   "source": [
    "n_epochs = 20\n",
    "\n",
    "trainer = LMTrainer(\n",
    "    model, \n",
    "    example_batch=batch, \n",
    "    max_iters=len(train_loader) * n_epochs,\n",
    "    report_to=\"wandb\"\n",
    ")"
   ]
  },
  {
   "cell_type": "code",
   "execution_count": 15,
   "metadata": {},
   "outputs": [
    {
     "name": "stderr",
     "output_type": "stream",
     "text": [
      "ERROR:wandb.jupyter:Failed to detect the name of this notebook, you can set it manually with the WANDB_NOTEBOOK_NAME environment variable to enable code saving.\n",
      "\u001b[34m\u001b[1mwandb\u001b[0m: Currently logged in as: \u001b[33mdjvaroli\u001b[0m (\u001b[33muoft-x-z-drug-discovery\u001b[0m). Use \u001b[1m`wandb login --relogin`\u001b[0m to force relogin\n"
     ]
    },
    {
     "data": {
      "text/html": [
       "wandb version 0.16.3 is available!  To upgrade, please run:\n",
       " $ pip install wandb --upgrade"
      ],
      "text/plain": [
       "<IPython.core.display.HTML object>"
      ]
     },
     "metadata": {},
     "output_type": "display_data"
    },
    {
     "data": {
      "text/html": [
       "Tracking run with wandb version 0.16.1"
      ],
      "text/plain": [
       "<IPython.core.display.HTML object>"
      ]
     },
     "metadata": {},
     "output_type": "display_data"
    },
    {
     "data": {
      "text/html": [
       "Run data is saved locally in <code>/home/orquestra/jax-transformer/notebooks/wandb/run-20240226_063432-vwvieyvr</code>"
      ],
      "text/plain": [
       "<IPython.core.display.HTML object>"
      ]
     },
     "metadata": {},
     "output_type": "display_data"
    },
    {
     "data": {
      "text/html": [
       "Syncing run <strong><a href='https://wandb.ai/uoft-x-z-drug-discovery/wheel-jax/runs/vwvieyvr' target=\"_blank\">trim-snow-14</a></strong> to <a href='https://wandb.ai/uoft-x-z-drug-discovery/wheel-jax' target=\"_blank\">Weights & Biases</a> (<a href='https://wandb.me/run' target=\"_blank\">docs</a>)<br/>"
      ],
      "text/plain": [
       "<IPython.core.display.HTML object>"
      ]
     },
     "metadata": {},
     "output_type": "display_data"
    },
    {
     "data": {
      "text/html": [
       " View project at <a href='https://wandb.ai/uoft-x-z-drug-discovery/wheel-jax' target=\"_blank\">https://wandb.ai/uoft-x-z-drug-discovery/wheel-jax</a>"
      ],
      "text/plain": [
       "<IPython.core.display.HTML object>"
      ]
     },
     "metadata": {},
     "output_type": "display_data"
    },
    {
     "data": {
      "text/html": [
       " View run at <a href='https://wandb.ai/uoft-x-z-drug-discovery/wheel-jax/runs/vwvieyvr' target=\"_blank\">https://wandb.ai/uoft-x-z-drug-discovery/wheel-jax/runs/vwvieyvr</a>"
      ],
      "text/plain": [
       "<IPython.core.display.HTML object>"
      ]
     },
     "metadata": {},
     "output_type": "display_data"
    },
    {
     "name": "stderr",
     "output_type": "stream",
     "text": [
      "Epoch 20 / 20: 100%|██████████| 5360/5360 [09:59<00:00,  8.94it/s, loss=1.65, perplexity=5.21, val_loss=2.5, val_perplexity=12.3]    \n"
     ]
    }
   ],
   "source": [
    "trainer.train(n_epochs, train_loader, val_loader=test_loader)"
   ]
  },
  {
   "cell_type": "code",
   "execution_count": 16,
   "metadata": {},
   "outputs": [
    {
     "name": "stderr",
     "output_type": "stream",
     "text": [
      "Generating: 100%|██████████| 20/20 [00:57<00:00,  2.86s/it]\n"
     ]
    }
   ],
   "source": [
    "input_text = \"<|endoftext|> an orange and an apple walk into a\"\n",
    "input_tokens = tokenizer.encode(input_text, return_tensors=\"jax\")\n",
    "\n",
    "tokens = model.generate(\n",
    "    trainer.state.params,\n",
    "    input_tokens=input_tokens,\n",
    "    rng_key=jax.random.PRNGKey(42),\n",
    ")"
   ]
  },
  {
   "cell_type": "code",
   "execution_count": 17,
   "metadata": {},
   "outputs": [
    {
     "data": {
      "text/plain": [
       "[' an orange and an apple walk into a/with light of serious time\"']"
      ]
     },
     "execution_count": 17,
     "metadata": {},
     "output_type": "execute_result"
    }
   ],
   "source": [
    "tokenizer.batch_decode(tokens.tolist(), skip_special_tokens=True)"
   ]
  },
  {
   "cell_type": "code",
   "execution_count": null,
   "metadata": {},
   "outputs": [],
   "source": []
  }
 ],
 "metadata": {
  "kernelspec": {
   "display_name": "wjx",
   "language": "python",
   "name": "wjx"
  },
  "language_info": {
   "codemirror_mode": {
    "name": "ipython",
    "version": 3
   },
   "file_extension": ".py",
   "mimetype": "text/x-python",
   "name": "python",
   "nbconvert_exporter": "python",
   "pygments_lexer": "ipython3",
   "version": "3.10.13"
  }
 },
 "nbformat": 4,
 "nbformat_minor": 4
}
