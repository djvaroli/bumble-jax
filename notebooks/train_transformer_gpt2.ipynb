{
 "cells": [
  {
   "cell_type": "code",
   "execution_count": null,
   "metadata": {},
   "outputs": [],
   "source": [
    "\n",
    "import jax\n",
    "from transformers import AutoTokenizer\n",
    "from datasets import load_dataset\n",
    "from matplotlib import pyplot as plt\n",
    "import torch\n",
    "from torch.utils.data import DataLoader\n",
    "\n",
    "from wheeljax.model import TransformerLM\n",
    "from wheeljax.train import CollatorForCausalLM, LMTrainer"
   ]
  },
  {
   "cell_type": "code",
   "execution_count": null,
   "metadata": {},
   "outputs": [],
   "source": [
    "# list jax devices\n",
    "print(jax.devices())\n",
    "\n",
    "# catches XLA ptxas<11.8 error on GPU\n",
    "jax.numpy.zeros((2, 2))"
   ]
  },
  {
   "cell_type": "code",
   "execution_count": null,
   "metadata": {},
   "outputs": [],
   "source": [
    "tokenizer = AutoTokenizer.from_pretrained(\"gpt2\")"
   ]
  },
  {
   "cell_type": "code",
   "execution_count": null,
   "metadata": {},
   "outputs": [],
   "source": [
    "tokenizer.pad_token = tokenizer.eos_token"
   ]
  },
  {
   "cell_type": "code",
   "execution_count": null,
   "metadata": {},
   "outputs": [],
   "source": [
    "# load the dataset\n",
    "d = load_dataset(\"huanggab/reddit_haiku\", data_files={'test':'merged_with_keywords.csv'})  # use data_files or it will result in error\n",
    "\n",
    "# we will use test to compute the test perplexity\n",
    "train_test_ratio = 0.1\n",
    "d['test'] = d['test'].train_test_split(test_size=1-train_test_ratio)\n",
    "\n",
    "# Now you have the train and test datasets\n",
    "train_dataset = d['test']['train']\n",
    "test_dataset = d['test']['test']\n"
   ]
  },
  {
   "cell_type": "code",
   "execution_count": null,
   "metadata": {},
   "outputs": [],
   "source": [
    "train_dataset, test_dataset"
   ]
  },
  {
   "cell_type": "code",
   "execution_count": null,
   "metadata": {},
   "outputs": [],
   "source": [
    "from itertools import chain\n",
    "# plot the distribution of the lengths of the sequences\n",
    "lengths = []\n",
    "\n",
    "for row in chain(train_dataset, test_dataset):\n",
    "    lengths.append(len(tokenizer(row['processed_title'])['input_ids']))\n",
    "\n",
    "plt.hist(lengths, bins=100)\n",
    "plt.show()"
   ]
  },
  {
   "cell_type": "code",
   "execution_count": null,
   "metadata": {},
   "outputs": [],
   "source": [
    "train_dataset = train_dataset.map(\n",
    "    lambda x: tokenizer(x['processed_title'], padding='max_length', truncation=True), \n",
    "    batched=True,\n",
    "    remove_columns=['Unnamed: 0', 'processed_title', 'keywords', \"ups\", \"id\", \"processed_title\"],\n",
    ")\n",
    "\n",
    "test_dataset = test_dataset.map(\n",
    "    lambda x: tokenizer(x['processed_title'], padding='max_length', truncation=True), \n",
    "    batched=True,\n",
    "    remove_columns=['Unnamed: 0', 'processed_title', 'keywords', \"ups\", \"id\", \"processed_title\"]\n",
    ")"
   ]
  },
  {
   "cell_type": "code",
   "execution_count": null,
   "metadata": {},
   "outputs": [],
   "source": [
    "train_dataset[0]"
   ]
  },
  {
   "cell_type": "code",
   "execution_count": null,
   "metadata": {},
   "outputs": [],
   "source": [
    "random_seed = 42\n",
    "batch_size = 8\n",
    "\n",
    "rng = torch.Generator()\n",
    "rng.manual_seed(random_seed)\n",
    "\n",
    "collator = CollatorForCausalLM(tokenizer)\n",
    "\n",
    "train_loader = DataLoader(\n",
    "    train_dataset, \n",
    "    batch_size=batch_size,\n",
    "    generator=rng,\n",
    "    collate_fn=collator\n",
    ")"
   ]
  },
  {
   "cell_type": "code",
   "execution_count": null,
   "metadata": {},
   "outputs": [],
   "source": [
    "for batch in train_loader:\n",
    "    break\n",
    "\n",
    "print(list(batch.keys()))"
   ]
  },
  {
   "cell_type": "code",
   "execution_count": null,
   "metadata": {},
   "outputs": [],
   "source": [
    "model = TransformerLM(vocab_size=train_dataset.vocab_size)"
   ]
  },
  {
   "cell_type": "code",
   "execution_count": null,
   "metadata": {},
   "outputs": [],
   "source": [
    "trainer = LMTrainer(\n",
    "    model, \n",
    "    example_batch=batch, \n",
    "    max_iters=101\n",
    ")"
   ]
  },
  {
   "cell_type": "code",
   "execution_count": null,
   "metadata": {},
   "outputs": [],
   "source": [
    "trainer.train(5, train_loader)"
   ]
  }
 ],
 "metadata": {
  "kernelspec": {
   "display_name": "jax-transformer",
   "language": "python",
   "name": "python3"
  },
  "language_info": {
   "codemirror_mode": {
    "name": "ipython",
    "version": 3
   },
   "file_extension": ".py",
   "mimetype": "text/x-python",
   "name": "python",
   "nbconvert_exporter": "python",
   "pygments_lexer": "ipython3",
   "version": "3.10.13"
  }
 },
 "nbformat": 4,
 "nbformat_minor": 2
}
