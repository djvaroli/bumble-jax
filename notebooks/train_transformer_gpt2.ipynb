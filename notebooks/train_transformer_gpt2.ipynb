{
 "cells": [
  {
   "cell_type": "code",
   "execution_count": null,
   "metadata": {},
   "outputs": [],
   "source": [
    "import jax\n",
    "import numpy as np\n",
    "import torch\n",
    "from torch.utils.data import DataLoader\n",
    "from matplotlib import pyplot as plt\n",
    "from transformers import AutoTokenizer\n",
    "from datasets import load_dataset\n",
    "\n",
    "from wheeljax.model import TransformerLM\n",
    "from wheeljax.train import CollatorForCausalLM, LMTrainer"
   ]
  },
  {
   "cell_type": "code",
   "execution_count": null,
   "metadata": {},
   "outputs": [],
   "source": [
    "# list jax devices\n",
    "print(jax.devices())\n",
    "\n",
    "# catches XLA ptxas<11.8 error on GPU\n",
    "jax.numpy.zeros((2, 2))"
   ]
  },
  {
   "cell_type": "code",
   "execution_count": null,
   "metadata": {},
   "outputs": [],
   "source": [
    "tokenizer = AutoTokenizer.from_pretrained(\"gpt2\")"
   ]
  },
  {
   "cell_type": "code",
   "execution_count": null,
   "metadata": {},
   "outputs": [],
   "source": [
    "tokenizer.pad_token = tokenizer.eos_token"
   ]
  },
  {
   "cell_type": "code",
   "execution_count": null,
   "metadata": {},
   "outputs": [],
   "source": [
    "# load the dataset\n",
    "d = load_dataset(\"huanggab/reddit_haiku\", data_files={'test':'merged_with_keywords.csv'})  # use data_files or it will result in error\n",
    "\n",
    "# we will use test to compute the test perplexity\n",
    "train_test_ratio = 0.8\n",
    "d['test'] = d['test'].train_test_split(test_size=1-train_test_ratio)\n",
    "\n",
    "# Now you have the train and test datasets\n",
    "train_dataset = d['test']['train']\n",
    "test_dataset = d['test']['test']\n"
   ]
  },
  {
   "cell_type": "code",
   "execution_count": null,
   "metadata": {},
   "outputs": [],
   "source": [
    "train_dataset, test_dataset"
   ]
  },
  {
   "cell_type": "code",
   "execution_count": null,
   "metadata": {},
   "outputs": [],
   "source": [
    "# plot the distribution of the lengths of the sequences\n",
    "lengths = []\n",
    "\n",
    "for row in train_dataset:\n",
    "    lengths.append(len(tokenizer(row['processed_title'])['input_ids']))\n",
    "\n",
    "plt.hist(lengths, bins=100, log=True, label=f\"train (max={max(lengths)})\")\n",
    "plt.legend()\n",
    "plt.show()"
   ]
  },
  {
   "cell_type": "code",
   "execution_count": null,
   "metadata": {},
   "outputs": [],
   "source": [
    "# get a max length that covers the vast majority of the data\n",
    "quantile = 0.999\n",
    "max_length = int(np.round(np.quantile(lengths, 0.999)))\n",
    "print(f\"{quantile * 100: .2f}% of lengths are <= {max_length}\")"
   ]
  },
  {
   "cell_type": "code",
   "execution_count": null,
   "metadata": {},
   "outputs": [],
   "source": [
    "train_dataset = train_dataset.map(\n",
    "    lambda x: tokenizer(\n",
    "        x['processed_title'], \n",
    "        padding='max_length',\n",
    "        truncation=True,\n",
    "        max_length=max_length\n",
    "    ), \n",
    "    batched=True,\n",
    "    remove_columns=['Unnamed: 0', 'processed_title', 'keywords', \"ups\", \"id\", \"processed_title\"],\n",
    ")\n",
    "\n",
    "test_dataset = test_dataset.map(\n",
    "    lambda x: tokenizer(x['processed_title'], padding='max_length', truncation=True), \n",
    "    batched=True,\n",
    "    remove_columns=['Unnamed: 0', 'processed_title', 'keywords', \"ups\", \"id\", \"processed_title\"]\n",
    ")"
   ]
  },
  {
   "cell_type": "code",
   "execution_count": null,
   "metadata": {},
   "outputs": [],
   "source": [
    "list(train_dataset[0].keys())\n",
    "print(len(train_dataset[0]['input_ids']))"
   ]
  },
  {
   "cell_type": "code",
   "execution_count": null,
   "metadata": {},
   "outputs": [],
   "source": [
    "random_seed = 42\n",
    "batch_size = 32\n",
    "\n",
    "rng = torch.Generator()\n",
    "rng.manual_seed(random_seed)\n",
    "\n",
    "collator = CollatorForCausalLM(tokenizer)\n",
    "\n",
    "train_loader = DataLoader(\n",
    "    train_dataset, \n",
    "    batch_size=batch_size,\n",
    "    generator=rng,\n",
    "    collate_fn=collator\n",
    ")\n",
    "\n",
    "test_loader = DataLoader(\n",
    "    test_dataset,\n",
    "    batch_size=batch_size,\n",
    "    collate_fn=collator,\n",
    "    shuffle=False\n",
    ")"
   ]
  },
  {
   "cell_type": "code",
   "execution_count": null,
   "metadata": {},
   "outputs": [],
   "source": [
    "for batch in train_loader:\n",
    "    break\n",
    "\n",
    "print(list(batch.keys()))"
   ]
  },
  {
   "cell_type": "code",
   "execution_count": null,
   "metadata": {},
   "outputs": [],
   "source": [
    "print(tokenizer.vocab_size)"
   ]
  },
  {
   "cell_type": "code",
   "execution_count": null,
   "metadata": {},
   "outputs": [],
   "source": [
    "model = TransformerLM(\n",
    "    dim_feedforward=32,\n",
    "    model_dim=64,\n",
    "    num_heads=4,\n",
    "    num_encoder_layers=4,\n",
    "    vocab_size=tokenizer.vocab_size\n",
    ")"
   ]
  },
  {
   "cell_type": "code",
   "execution_count": null,
   "metadata": {},
   "outputs": [],
   "source": [
    "n_epochs = 2\n",
    "\n",
    "trainer = LMTrainer(\n",
    "    model, \n",
    "    example_batch=batch, \n",
    "    max_iters=len(train_loader) * n_epochs,\n",
    "    report_to=\"wandb\"\n",
    ")"
   ]
  },
  {
   "cell_type": "code",
   "execution_count": null,
   "metadata": {},
   "outputs": [],
   "source": [
    "trainer.train(n_epochs, train_loader, val_loader=test_loader)"
   ]
  },
  {
   "cell_type": "code",
   "execution_count": null,
   "metadata": {},
   "outputs": [],
   "source": [
    "input_text = \"<|endoftext|> an orange and an apple walk into a\"\n",
    "input_tokens = tokenizer.encode(input_text, return_tensors=\"jax\")\n",
    "\n",
    "tokens = model.generate(\n",
    "    trainer.state.params,\n",
    "    input_tokens=input_tokens,\n",
    "    rng_key=jax.random.PRNGKey(42),\n",
    ")"
   ]
  },
  {
   "cell_type": "code",
   "execution_count": null,
   "metadata": {},
   "outputs": [],
   "source": [
    "tokenizer.batch_decode(tokens.tolist(), skip_special_tokens=True)"
   ]
  },
  {
   "cell_type": "code",
   "execution_count": null,
   "metadata": {},
   "outputs": [],
   "source": []
  }
 ],
 "metadata": {
  "kernelspec": {
   "display_name": "wjx",
   "language": "python",
   "name": "python3"
  },
  "language_info": {
   "codemirror_mode": {
    "name": "ipython",
    "version": 3
   },
   "file_extension": ".py",
   "mimetype": "text/x-python",
   "name": "python",
   "nbconvert_exporter": "python",
   "pygments_lexer": "ipython3",
   "version": "3.10.13"
  }
 },
 "nbformat": 4,
 "nbformat_minor": 4
}
