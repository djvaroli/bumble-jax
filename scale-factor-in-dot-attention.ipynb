{
 "cells": [
  {
   "cell_type": "markdown",
   "metadata": {},
   "source": [
    "# Why the Scaling Factor in Scalted Dot Product Attention?"
   ]
  },
  {
   "cell_type": "markdown",
   "metadata": {},
   "source": [
    "$$\\text{Attention}(Q,K,V)=\\text{softmax}\\left(\\frac{QK^T}{\\sqrt{d_k}}\\right)V$$"
   ]
  },
  {
   "cell_type": "markdown",
   "metadata": {},
   "source": [
    "The attention mechanism in transformers was my introducton into the idea of \"attention\" in neural networks and the first time I saw it, there was one part that appeared trivial to me. \n",
    "\n",
    "I knew what the Softmax function was and I knew what it produces as the output. Though that wasn't it. Keys, Queries and Values were completely foreign to me, so looking at it firs time definitely did not seem trivial. In fact, it felt like the hardest thing about transformers. \n",
    "\n",
    "So what was it that I found trivial in this newly discovered attention mechanism? \n",
    "\n",
    "The scaling factor! It's just division right? Make the numbers a bit smaller because that worked experimentally, so no need to focus on that. \n",
    "\n",
    "At the time, considering I knew nothing about attention, that was the right call. It was much more important to understand the idea of attention, rather than the little details. However, now, after many years of wokring with transformers, reading and re-reading many tutorials, papers and posts about it, I've decided to take another look. Why divide by anything? Why the square root? Why $d_k$? \n",
    "\n",
    "This is the question I want to answer with a few examples!"
   ]
  },
  {
   "cell_type": "markdown",
   "metadata": {},
   "source": [
    "## Why Is This Important?"
   ]
  },
  {
   "cell_type": "markdown",
   "metadata": {},
   "source": [
    "I would say that it really depends. If attention is a brand new concept for you, then there are plenty of incredible resources out there to help you walk through attention and its application in transformers. Even if you have a decent understaning of it, answering this specific question may not be necessary or even that important or impactful. \n",
    "\n",
    "<b>So then why do I want to answer it?</b>\n",
    "\n",
    "Machine learning, deep learning and probably anything that involves implemented algorithms comes with tricks, sleights of hand or little gems of someone's intuition that sometimes make all the difference. Applying normalization to gradients, how you initialize weights, applying residual connections, changing the order of some layers in a neural network sometimes appear so simple and yet they can end up having profound effects. I want to understanding the rationale behind them so that I can develop my own intution and read these algorithms more as a story than equations and numbers. I beleive that at the right moment with the right setting these gems can help myself and others make all the difference too! Which is why I want to share my workings with others. \n",
    "\n",
    "It's such an amazing feeling to understand something to the level where you begin to appreciate its signficance and it's even more incredible when you see something similar in another place and can transfer that understanding to a different problem! I want to help others have more of those moments, which is why I am sharing these workings, I'm sure someone will find them insightful too! \n",
    "\n",
    "Let's look at some code!"
   ]
  },
  {
   "cell_type": "code",
   "execution_count": 75,
   "metadata": {},
   "outputs": [],
   "source": [
    "import inspect\n",
    "\n",
    "import jax\n",
    "from jax import random\n",
    "from jax import numpy as jnp\n",
    "from rich.syntax import Syntax\n",
    "from rich import print\n",
    "import matplotlib.pyplot as plt\n",
    "\n",
    "from attention.dotprod import scaled_dot_product_attn, _scaled_dot_product_attention_with_logits"
   ]
  },
  {
   "cell_type": "code",
   "execution_count": 38,
   "metadata": {},
   "outputs": [],
   "source": [
    "# set the main RNG to make the notebook reproducible\n",
    "main_rng = random.PRNGKey(0)"
   ]
  },
  {
   "cell_type": "markdown",
   "metadata": {},
   "source": [
    "Let's first examine how I implemented the scaled dot product attention function."
   ]
  },
  {
   "cell_type": "code",
   "execution_count": 39,
   "metadata": {},
   "outputs": [
    {
     "data": {
      "text/html": [
       "<pre style=\"white-space:pre;overflow-x:auto;line-height:normal;font-family:Menlo,'DejaVu Sans Mono',consolas,'Courier New',monospace\"><span style=\"color: #e3e3dd; text-decoration-color: #e3e3dd; background-color: #272822; font-weight: bold\">  </span><span style=\"color: #656660; text-decoration-color: #656660; background-color: #272822\"> 1 </span><span style=\"color: #a6e22e; text-decoration-color: #a6e22e; background-color: #272822\">@jax</span><span style=\"color: #ff4689; text-decoration-color: #ff4689; background-color: #272822\">.</span><span style=\"color: #f8f8f2; text-decoration-color: #f8f8f2; background-color: #272822\">vmap</span><span style=\"background-color: #272822\">                                                                                                     </span>\n",
       "<span style=\"color: #e3e3dd; text-decoration-color: #e3e3dd; background-color: #272822; font-weight: bold\">  </span><span style=\"color: #656660; text-decoration-color: #656660; background-color: #272822\"> 2 </span><span style=\"color: #66d9ef; text-decoration-color: #66d9ef; background-color: #272822\">def</span><span style=\"color: #f8f8f2; text-decoration-color: #f8f8f2; background-color: #272822\"> </span><span style=\"color: #a6e22e; text-decoration-color: #a6e22e; background-color: #272822\">_scaled_dot_product_attention_with_logits</span><span style=\"color: #f8f8f2; text-decoration-color: #f8f8f2; background-color: #272822\">(</span><span style=\"background-color: #272822\">                                                                </span>\n",
       "<span style=\"color: #e3e3dd; text-decoration-color: #e3e3dd; background-color: #272822; font-weight: bold\">  </span><span style=\"color: #656660; text-decoration-color: #656660; background-color: #272822\"> 3 </span><span style=\"color: #f8f8f2; text-decoration-color: #f8f8f2; background-color: #272822\">    q: Array,</span><span style=\"background-color: #272822\">                                                                                                 </span>\n",
       "<span style=\"color: #e3e3dd; text-decoration-color: #e3e3dd; background-color: #272822; font-weight: bold\">  </span><span style=\"color: #656660; text-decoration-color: #656660; background-color: #272822\"> 4 </span><span style=\"color: #f8f8f2; text-decoration-color: #f8f8f2; background-color: #272822\">    k: Array,</span><span style=\"background-color: #272822\">                                                                                                 </span>\n",
       "<span style=\"color: #e3e3dd; text-decoration-color: #e3e3dd; background-color: #272822; font-weight: bold\">  </span><span style=\"color: #656660; text-decoration-color: #656660; background-color: #272822\"> 5 </span><span style=\"color: #f8f8f2; text-decoration-color: #f8f8f2; background-color: #272822\">    v: Array,</span><span style=\"background-color: #272822\">                                                                                                 </span>\n",
       "<span style=\"color: #e3e3dd; text-decoration-color: #e3e3dd; background-color: #272822; font-weight: bold\">  </span><span style=\"color: #656660; text-decoration-color: #656660; background-color: #272822\"> 6 </span><span style=\"color: #f8f8f2; text-decoration-color: #f8f8f2; background-color: #272822\">    mask: Optional[Array] </span><span style=\"color: #ff4689; text-decoration-color: #ff4689; background-color: #272822\">=</span><span style=\"color: #f8f8f2; text-decoration-color: #f8f8f2; background-color: #272822\"> </span><span style=\"color: #66d9ef; text-decoration-color: #66d9ef; background-color: #272822\">None</span><span style=\"color: #f8f8f2; text-decoration-color: #f8f8f2; background-color: #272822\">,</span><span style=\"background-color: #272822\">                                                                             </span>\n",
       "<span style=\"color: #e3e3dd; text-decoration-color: #e3e3dd; background-color: #272822; font-weight: bold\">  </span><span style=\"color: #656660; text-decoration-color: #656660; background-color: #272822\"> 7 </span><span style=\"color: #f8f8f2; text-decoration-color: #f8f8f2; background-color: #272822\">) </span><span style=\"color: #ff4689; text-decoration-color: #ff4689; background-color: #272822\">-&gt;</span><span style=\"color: #f8f8f2; text-decoration-color: #f8f8f2; background-color: #272822\"> Tuple[Array, Array, Array]:</span><span style=\"background-color: #272822\">                                                                              </span>\n",
       "<span style=\"color: #e3e3dd; text-decoration-color: #e3e3dd; background-color: #272822; font-weight: bold\">  </span><span style=\"color: #656660; text-decoration-color: #656660; background-color: #272822\"> 8 </span><span style=\"color: #f8f8f2; text-decoration-color: #f8f8f2; background-color: #272822\">    </span><span style=\"color: #e6db74; text-decoration-color: #e6db74; background-color: #272822\">\"\"\"Performs scaled dot product attention for a single attention head.</span><span style=\"background-color: #272822\">                                     </span>\n",
       "<span style=\"color: #e3e3dd; text-decoration-color: #e3e3dd; background-color: #272822; font-weight: bold\">  </span><span style=\"color: #656660; text-decoration-color: #656660; background-color: #272822\"> 9 </span><span style=\"background-color: #272822\">                                                                                                              </span>\n",
       "<span style=\"color: #e3e3dd; text-decoration-color: #e3e3dd; background-color: #272822; font-weight: bold\">  </span><span style=\"color: #656660; text-decoration-color: #656660; background-color: #272822\">10 </span><span style=\"color: #e6db74; text-decoration-color: #e6db74; background-color: #272822\">    Note:</span><span style=\"background-color: #272822\">                                                                                                     </span>\n",
       "<span style=\"color: #e3e3dd; text-decoration-color: #e3e3dd; background-color: #272822; font-weight: bold\">  </span><span style=\"color: #656660; text-decoration-color: #656660; background-color: #272822\">11 </span><span style=\"color: #e6db74; text-decoration-color: #e6db74; background-color: #272822\">        * function is vectorized over the batch dimension using jax.vmap.</span><span style=\"background-color: #272822\">                                     </span>\n",
       "<span style=\"color: #e3e3dd; text-decoration-color: #e3e3dd; background-color: #272822; font-weight: bold\">  </span><span style=\"color: #656660; text-decoration-color: #656660; background-color: #272822\">12 </span><span style=\"background-color: #272822\">                                                                                                              </span>\n",
       "<span style=\"color: #e3e3dd; text-decoration-color: #e3e3dd; background-color: #272822; font-weight: bold\">  </span><span style=\"color: #656660; text-decoration-color: #656660; background-color: #272822\">13 </span><span style=\"color: #e6db74; text-decoration-color: #e6db74; background-color: #272822\">    Args:</span><span style=\"background-color: #272822\">                                                                                                     </span>\n",
       "<span style=\"color: #e3e3dd; text-decoration-color: #e3e3dd; background-color: #272822; font-weight: bold\">  </span><span style=\"color: #656660; text-decoration-color: #656660; background-color: #272822\">14 </span><span style=\"color: #e6db74; text-decoration-color: #e6db74; background-color: #272822\">        q (Array): query matrix with shape (seq_len, Dk).</span><span style=\"background-color: #272822\">                                                     </span>\n",
       "<span style=\"color: #e3e3dd; text-decoration-color: #e3e3dd; background-color: #272822; font-weight: bold\">  </span><span style=\"color: #656660; text-decoration-color: #656660; background-color: #272822\">15 </span><span style=\"color: #e6db74; text-decoration-color: #e6db74; background-color: #272822\">        k (Array): keys matrix with shape (seq_len, Dk).</span><span style=\"background-color: #272822\">                                                      </span>\n",
       "<span style=\"color: #e3e3dd; text-decoration-color: #e3e3dd; background-color: #272822; font-weight: bold\">  </span><span style=\"color: #656660; text-decoration-color: #656660; background-color: #272822\">16 </span><span style=\"color: #e6db74; text-decoration-color: #e6db74; background-color: #272822\">        v (Array): values matrix with shape (seq_len, Dv).</span><span style=\"background-color: #272822\">                                                    </span>\n",
       "<span style=\"color: #e3e3dd; text-decoration-color: #e3e3dd; background-color: #272822; font-weight: bold\">  </span><span style=\"color: #656660; text-decoration-color: #656660; background-color: #272822\">17 </span><span style=\"color: #e6db74; text-decoration-color: #e6db74; background-color: #272822\">        mask (Optional[Array], optional): padding mask with shape (seq_len, seq_len). Defaults to None.</span><span style=\"background-color: #272822\">       </span>\n",
       "<span style=\"color: #e3e3dd; text-decoration-color: #e3e3dd; background-color: #272822; font-weight: bold\">  </span><span style=\"color: #656660; text-decoration-color: #656660; background-color: #272822\">18 </span><span style=\"color: #e6db74; text-decoration-color: #e6db74; background-color: #272822\">            If specified must be a binary matrix with 1s indicating valid positions and 0s indicating masked p</span>\n",
       "<span style=\"color: #e3e3dd; text-decoration-color: #e3e3dd; background-color: #272822; font-weight: bold\">  </span><span style=\"color: #656660; text-decoration-color: #656660; background-color: #272822\">19 </span><span style=\"color: #e6db74; text-decoration-color: #e6db74; background-color: #272822\">            Expected shape is (seq_len, seq_len) where seq_len is the length of the sequence.</span><span style=\"background-color: #272822\">                 </span>\n",
       "<span style=\"color: #e3e3dd; text-decoration-color: #e3e3dd; background-color: #272822; font-weight: bold\">  </span><span style=\"color: #656660; text-decoration-color: #656660; background-color: #272822\">20 </span><span style=\"color: #e6db74; text-decoration-color: #e6db74; background-color: #272822\">        </span><span style=\"background-color: #272822\">                                                                                                      </span>\n",
       "<span style=\"color: #e3e3dd; text-decoration-color: #e3e3dd; background-color: #272822; font-weight: bold\">  </span><span style=\"color: #656660; text-decoration-color: #656660; background-color: #272822\">21 </span><span style=\"color: #e6db74; text-decoration-color: #e6db74; background-color: #272822\">    Returns:</span><span style=\"background-color: #272822\">                                                                                                  </span>\n",
       "<span style=\"color: #e3e3dd; text-decoration-color: #e3e3dd; background-color: #272822; font-weight: bold\">  </span><span style=\"color: #656660; text-decoration-color: #656660; background-color: #272822\">22 </span><span style=\"color: #e6db74; text-decoration-color: #e6db74; background-color: #272822\">        Tuple[Array, Array]: </span><span style=\"background-color: #272822\">                                                                                 </span>\n",
       "<span style=\"color: #e3e3dd; text-decoration-color: #e3e3dd; background-color: #272822; font-weight: bold\">  </span><span style=\"color: #656660; text-decoration-color: #656660; background-color: #272822\">23 </span><span style=\"color: #e6db74; text-decoration-color: #e6db74; background-color: #272822\">            Array: scaled dot product attention output with shape (seq_len, Dv).</span><span style=\"background-color: #272822\">                              </span>\n",
       "<span style=\"color: #e3e3dd; text-decoration-color: #e3e3dd; background-color: #272822; font-weight: bold\">  </span><span style=\"color: #656660; text-decoration-color: #656660; background-color: #272822\">24 </span><span style=\"color: #e6db74; text-decoration-color: #e6db74; background-color: #272822\">            Array: attention weights with shape (seq_len, seq_len).</span><span style=\"background-color: #272822\">                                           </span>\n",
       "<span style=\"color: #e3e3dd; text-decoration-color: #e3e3dd; background-color: #272822; font-weight: bold\">  </span><span style=\"color: #656660; text-decoration-color: #656660; background-color: #272822\">25 </span><span style=\"color: #e6db74; text-decoration-color: #e6db74; background-color: #272822\">            Array: attention logits with shape (seq_len, seq_len).</span><span style=\"background-color: #272822\">                                            </span>\n",
       "<span style=\"color: #e3e3dd; text-decoration-color: #e3e3dd; background-color: #272822; font-weight: bold\">  </span><span style=\"color: #656660; text-decoration-color: #656660; background-color: #272822\">26 </span><span style=\"color: #e6db74; text-decoration-color: #e6db74; background-color: #272822\">    \"\"\"</span><span style=\"background-color: #272822\">                                                                                                       </span>\n",
       "<span style=\"color: #e3e3dd; text-decoration-color: #e3e3dd; background-color: #272822; font-weight: bold\">  </span><span style=\"color: #656660; text-decoration-color: #656660; background-color: #272822\">27 </span><span style=\"color: #f8f8f2; text-decoration-color: #f8f8f2; background-color: #272822\">    seq_len, vector_dim </span><span style=\"color: #ff4689; text-decoration-color: #ff4689; background-color: #272822\">=</span><span style=\"color: #f8f8f2; text-decoration-color: #f8f8f2; background-color: #272822\"> q</span><span style=\"color: #ff4689; text-decoration-color: #ff4689; background-color: #272822\">.</span><span style=\"color: #f8f8f2; text-decoration-color: #f8f8f2; background-color: #272822\">shape</span><span style=\"background-color: #272822\">                                                                             </span>\n",
       "<span style=\"color: #e3e3dd; text-decoration-color: #e3e3dd; background-color: #272822; font-weight: bold\">  </span><span style=\"color: #656660; text-decoration-color: #656660; background-color: #272822\">28 </span><span style=\"color: #f8f8f2; text-decoration-color: #f8f8f2; background-color: #272822\">    </span><span style=\"color: #66d9ef; text-decoration-color: #66d9ef; background-color: #272822\">if</span><span style=\"color: #f8f8f2; text-decoration-color: #f8f8f2; background-color: #272822\"> mask </span><span style=\"color: #ff4689; text-decoration-color: #ff4689; background-color: #272822\">is</span><span style=\"color: #f8f8f2; text-decoration-color: #f8f8f2; background-color: #272822\"> </span><span style=\"color: #66d9ef; text-decoration-color: #66d9ef; background-color: #272822\">None</span><span style=\"color: #f8f8f2; text-decoration-color: #f8f8f2; background-color: #272822\">:</span><span style=\"background-color: #272822\">                                                                                          </span>\n",
       "<span style=\"color: #e3e3dd; text-decoration-color: #e3e3dd; background-color: #272822; font-weight: bold\">  </span><span style=\"color: #656660; text-decoration-color: #656660; background-color: #272822\">29 </span><span style=\"color: #f8f8f2; text-decoration-color: #f8f8f2; background-color: #272822\">        mask </span><span style=\"color: #ff4689; text-decoration-color: #ff4689; background-color: #272822\">=</span><span style=\"color: #f8f8f2; text-decoration-color: #f8f8f2; background-color: #272822\"> jnp</span><span style=\"color: #ff4689; text-decoration-color: #ff4689; background-color: #272822\">.</span><span style=\"color: #f8f8f2; text-decoration-color: #f8f8f2; background-color: #272822\">ones((seq_len, seq_len))</span><span style=\"background-color: #272822\">                                                                   </span>\n",
       "<span style=\"color: #e3e3dd; text-decoration-color: #e3e3dd; background-color: #272822; font-weight: bold\">  </span><span style=\"color: #656660; text-decoration-color: #656660; background-color: #272822\">30 </span><span style=\"color: #f8f8f2; text-decoration-color: #f8f8f2; background-color: #272822\">    </span><span style=\"background-color: #272822\">                                                                                                          </span>\n",
       "<span style=\"color: #e3e3dd; text-decoration-color: #e3e3dd; background-color: #272822; font-weight: bold\">  </span><span style=\"color: #656660; text-decoration-color: #656660; background-color: #272822\">31 </span><span style=\"color: #f8f8f2; text-decoration-color: #f8f8f2; background-color: #272822\">    </span><span style=\"color: #959077; text-decoration-color: #959077; background-color: #272822\"># will ensure that variance of dot product remains sigma^4 ~= 1 since we init with sigma = 1</span><span style=\"background-color: #272822\">              </span>\n",
       "<span style=\"color: #e3e3dd; text-decoration-color: #e3e3dd; background-color: #272822; font-weight: bold\">  </span><span style=\"color: #656660; text-decoration-color: #656660; background-color: #272822\">32 </span><span style=\"color: #f8f8f2; text-decoration-color: #f8f8f2; background-color: #272822\">    </span><span style=\"color: #959077; text-decoration-color: #959077; background-color: #272822\"># see dotprod-step-by-step.ipynb for more details</span><span style=\"background-color: #272822\">                                                         </span>\n",
       "<span style=\"color: #e3e3dd; text-decoration-color: #e3e3dd; background-color: #272822; font-weight: bold\">  </span><span style=\"color: #656660; text-decoration-color: #656660; background-color: #272822\">33 </span><span style=\"color: #f8f8f2; text-decoration-color: #f8f8f2; background-color: #272822\">    variance_scale_factor </span><span style=\"color: #ff4689; text-decoration-color: #ff4689; background-color: #272822\">=</span><span style=\"color: #f8f8f2; text-decoration-color: #f8f8f2; background-color: #272822\"> </span><span style=\"color: #ae81ff; text-decoration-color: #ae81ff; background-color: #272822\">1</span><span style=\"color: #f8f8f2; text-decoration-color: #f8f8f2; background-color: #272822\"> </span><span style=\"color: #ff4689; text-decoration-color: #ff4689; background-color: #272822\">/</span><span style=\"color: #f8f8f2; text-decoration-color: #f8f8f2; background-color: #272822\"> jnp</span><span style=\"color: #ff4689; text-decoration-color: #ff4689; background-color: #272822\">.</span><span style=\"color: #f8f8f2; text-decoration-color: #f8f8f2; background-color: #272822\">sqrt(vector_dim)</span><span style=\"background-color: #272822\">                                                          </span>\n",
       "<span style=\"color: #e3e3dd; text-decoration-color: #e3e3dd; background-color: #272822; font-weight: bold\">  </span><span style=\"color: #656660; text-decoration-color: #656660; background-color: #272822\">34 </span><span style=\"background-color: #272822\">                                                                                                              </span>\n",
       "<span style=\"color: #e3e3dd; text-decoration-color: #e3e3dd; background-color: #272822; font-weight: bold\">  </span><span style=\"color: #656660; text-decoration-color: #656660; background-color: #272822\">35 </span><span style=\"color: #f8f8f2; text-decoration-color: #f8f8f2; background-color: #272822\">    </span><span style=\"color: #959077; text-decoration-color: #959077; background-color: #272822\"># compute QK^T, transpose K to get (Dk, seq_len)</span><span style=\"background-color: #272822\">                                                          </span>\n",
       "<span style=\"color: #e3e3dd; text-decoration-color: #e3e3dd; background-color: #272822; font-weight: bold\">  </span><span style=\"color: #656660; text-decoration-color: #656660; background-color: #272822\">36 </span><span style=\"color: #f8f8f2; text-decoration-color: #f8f8f2; background-color: #272822\">    </span><span style=\"color: #959077; text-decoration-color: #959077; background-color: #272822\"># output shape (seq_len, seq_len)</span><span style=\"background-color: #272822\">                                                                         </span>\n",
       "<span style=\"color: #e3e3dd; text-decoration-color: #e3e3dd; background-color: #272822; font-weight: bold\">  </span><span style=\"color: #656660; text-decoration-color: #656660; background-color: #272822\">37 </span><span style=\"color: #f8f8f2; text-decoration-color: #f8f8f2; background-color: #272822\">    attention_logits </span><span style=\"color: #ff4689; text-decoration-color: #ff4689; background-color: #272822\">=</span><span style=\"color: #f8f8f2; text-decoration-color: #f8f8f2; background-color: #272822\"> jnp</span><span style=\"color: #ff4689; text-decoration-color: #ff4689; background-color: #272822\">.</span><span style=\"color: #f8f8f2; text-decoration-color: #f8f8f2; background-color: #272822\">matmul(q, jnp</span><span style=\"color: #ff4689; text-decoration-color: #ff4689; background-color: #272822\">.</span><span style=\"color: #f8f8f2; text-decoration-color: #f8f8f2; background-color: #272822\">swapaxes(k, </span><span style=\"color: #ae81ff; text-decoration-color: #ae81ff; background-color: #272822\">0</span><span style=\"color: #f8f8f2; text-decoration-color: #f8f8f2; background-color: #272822\">, </span><span style=\"color: #ae81ff; text-decoration-color: #ae81ff; background-color: #272822\">1</span><span style=\"color: #f8f8f2; text-decoration-color: #f8f8f2; background-color: #272822\">)) </span><span style=\"color: #ff4689; text-decoration-color: #ff4689; background-color: #272822\">*</span><span style=\"color: #f8f8f2; text-decoration-color: #f8f8f2; background-color: #272822\"> variance_scale_factor</span><span style=\"background-color: #272822\">                           </span>\n",
       "<span style=\"color: #e3e3dd; text-decoration-color: #e3e3dd; background-color: #272822; font-weight: bold\">  </span><span style=\"color: #656660; text-decoration-color: #656660; background-color: #272822\">38 </span><span style=\"background-color: #272822\">                                                                                                              </span>\n",
       "<span style=\"color: #e3e3dd; text-decoration-color: #e3e3dd; background-color: #272822; font-weight: bold\">  </span><span style=\"color: #656660; text-decoration-color: #656660; background-color: #272822\">39 </span><span style=\"color: #f8f8f2; text-decoration-color: #f8f8f2; background-color: #272822\">    </span><span style=\"color: #959077; text-decoration-color: #959077; background-color: #272822\"># apply mask if provided</span><span style=\"background-color: #272822\">                                                                                  </span>\n",
       "<span style=\"color: #e3e3dd; text-decoration-color: #e3e3dd; background-color: #272822; font-weight: bold\">  </span><span style=\"color: #656660; text-decoration-color: #656660; background-color: #272822\">40 </span><span style=\"color: #f8f8f2; text-decoration-color: #f8f8f2; background-color: #272822\">    </span><span style=\"color: #959077; text-decoration-color: #959077; background-color: #272822\"># positions at 1 remain unchanged, positions at 0 are set to -inf (-1e10)</span><span style=\"background-color: #272822\">                                 </span>\n",
       "<span style=\"color: #e3e3dd; text-decoration-color: #e3e3dd; background-color: #272822; font-weight: bold\">  </span><span style=\"color: #656660; text-decoration-color: #656660; background-color: #272822\">41 </span><span style=\"color: #f8f8f2; text-decoration-color: #f8f8f2; background-color: #272822\">    </span><span style=\"color: #959077; text-decoration-color: #959077; background-color: #272822\"># 1 - mask = 1 for masked positions, 0 for valid positions</span><span style=\"background-color: #272822\">                                                </span>\n",
       "<span style=\"color: #e3e3dd; text-decoration-color: #e3e3dd; background-color: #272822; font-weight: bold\">  </span><span style=\"color: #656660; text-decoration-color: #656660; background-color: #272822\">42 </span><span style=\"color: #f8f8f2; text-decoration-color: #f8f8f2; background-color: #272822\">    attention_logits </span><span style=\"color: #ff4689; text-decoration-color: #ff4689; background-color: #272822\">=</span><span style=\"color: #f8f8f2; text-decoration-color: #f8f8f2; background-color: #272822\"> attention_logits </span><span style=\"color: #ff4689; text-decoration-color: #ff4689; background-color: #272822\">-</span><span style=\"color: #f8f8f2; text-decoration-color: #f8f8f2; background-color: #272822\"> </span><span style=\"color: #ae81ff; text-decoration-color: #ae81ff; background-color: #272822\">1e10</span><span style=\"color: #f8f8f2; text-decoration-color: #f8f8f2; background-color: #272822\"> </span><span style=\"color: #ff4689; text-decoration-color: #ff4689; background-color: #272822\">*</span><span style=\"color: #f8f8f2; text-decoration-color: #f8f8f2; background-color: #272822\"> (</span><span style=\"color: #ae81ff; text-decoration-color: #ae81ff; background-color: #272822\">1</span><span style=\"color: #f8f8f2; text-decoration-color: #f8f8f2; background-color: #272822\"> </span><span style=\"color: #ff4689; text-decoration-color: #ff4689; background-color: #272822\">-</span><span style=\"color: #f8f8f2; text-decoration-color: #f8f8f2; background-color: #272822\"> mask)</span><span style=\"background-color: #272822\">                                                   </span>\n",
       "<span style=\"color: #e3e3dd; text-decoration-color: #e3e3dd; background-color: #272822; font-weight: bold\">  </span><span style=\"color: #656660; text-decoration-color: #656660; background-color: #272822\">43 </span><span style=\"background-color: #272822\">                                                                                                              </span>\n",
       "<span style=\"color: #e3e3dd; text-decoration-color: #e3e3dd; background-color: #272822; font-weight: bold\">  </span><span style=\"color: #656660; text-decoration-color: #656660; background-color: #272822\">44 </span><span style=\"color: #f8f8f2; text-decoration-color: #f8f8f2; background-color: #272822\">    </span><span style=\"color: #959077; text-decoration-color: #959077; background-color: #272822\"># apply softmax element-wise along the rows</span><span style=\"background-color: #272822\">                                                               </span>\n",
       "<span style=\"color: #e3e3dd; text-decoration-color: #e3e3dd; background-color: #272822; font-weight: bold\">  </span><span style=\"color: #656660; text-decoration-color: #656660; background-color: #272822\">45 </span><span style=\"color: #f8f8f2; text-decoration-color: #f8f8f2; background-color: #272822\">    attention_weights </span><span style=\"color: #ff4689; text-decoration-color: #ff4689; background-color: #272822\">=</span><span style=\"color: #f8f8f2; text-decoration-color: #f8f8f2; background-color: #272822\"> jax</span><span style=\"color: #ff4689; text-decoration-color: #ff4689; background-color: #272822\">.</span><span style=\"color: #f8f8f2; text-decoration-color: #f8f8f2; background-color: #272822\">nn</span><span style=\"color: #ff4689; text-decoration-color: #ff4689; background-color: #272822\">.</span><span style=\"color: #f8f8f2; text-decoration-color: #f8f8f2; background-color: #272822\">softmax(attention_logits, axis</span><span style=\"color: #ff4689; text-decoration-color: #ff4689; background-color: #272822\">=-</span><span style=\"color: #ae81ff; text-decoration-color: #ae81ff; background-color: #272822\">1</span><span style=\"color: #f8f8f2; text-decoration-color: #f8f8f2; background-color: #272822\">)</span><span style=\"background-color: #272822\">                                             </span>\n",
       "<span style=\"color: #e3e3dd; text-decoration-color: #e3e3dd; background-color: #272822; font-weight: bold\">  </span><span style=\"color: #656660; text-decoration-color: #656660; background-color: #272822\">46 </span><span style=\"background-color: #272822\">                                                                                                              </span>\n",
       "<span style=\"color: #e3e3dd; text-decoration-color: #e3e3dd; background-color: #272822; font-weight: bold\">  </span><span style=\"color: #656660; text-decoration-color: #656660; background-color: #272822\">47 </span><span style=\"color: #f8f8f2; text-decoration-color: #f8f8f2; background-color: #272822\">    </span><span style=\"color: #959077; text-decoration-color: #959077; background-color: #272822\"># weighted average of value vectors (weighted retrieval)</span><span style=\"background-color: #272822\">                                                  </span>\n",
       "<span style=\"color: #e3e3dd; text-decoration-color: #e3e3dd; background-color: #272822; font-weight: bold\">  </span><span style=\"color: #656660; text-decoration-color: #656660; background-color: #272822\">48 </span><span style=\"color: #f8f8f2; text-decoration-color: #f8f8f2; background-color: #272822\">    result </span><span style=\"color: #ff4689; text-decoration-color: #ff4689; background-color: #272822\">=</span><span style=\"color: #f8f8f2; text-decoration-color: #f8f8f2; background-color: #272822\"> jnp</span><span style=\"color: #ff4689; text-decoration-color: #ff4689; background-color: #272822\">.</span><span style=\"color: #f8f8f2; text-decoration-color: #f8f8f2; background-color: #272822\">matmul(attention_weights, v)</span><span style=\"background-color: #272822\">                                                                 </span>\n",
       "<span style=\"color: #e3e3dd; text-decoration-color: #e3e3dd; background-color: #272822; font-weight: bold\">  </span><span style=\"color: #656660; text-decoration-color: #656660; background-color: #272822\">49 </span><span style=\"background-color: #272822\">                                                                                                              </span>\n",
       "<span style=\"color: #e3e3dd; text-decoration-color: #e3e3dd; background-color: #272822; font-weight: bold\">  </span><span style=\"color: #656660; text-decoration-color: #656660; background-color: #272822\">50 </span><span style=\"color: #f8f8f2; text-decoration-color: #f8f8f2; background-color: #272822\">    </span><span style=\"color: #66d9ef; text-decoration-color: #66d9ef; background-color: #272822\">return</span><span style=\"color: #f8f8f2; text-decoration-color: #f8f8f2; background-color: #272822\"> result, attention_weights, attention_logits</span><span style=\"background-color: #272822\">                                                        </span>\n",
       "<span style=\"color: #e3e3dd; text-decoration-color: #e3e3dd; background-color: #272822; font-weight: bold\">  </span><span style=\"color: #656660; text-decoration-color: #656660; background-color: #272822\">51 </span><span style=\"background-color: #272822\">                                                                                                              </span>\n",
       "</pre>\n"
      ],
      "text/plain": [
       "\u001b[1;38;2;227;227;221;48;2;39;40;34m  \u001b[0m\u001b[38;2;101;102;96;48;2;39;40;34m 1 \u001b[0m\u001b[38;2;166;226;46;48;2;39;40;34m@jax\u001b[0m\u001b[38;2;255;70;137;48;2;39;40;34m.\u001b[0m\u001b[38;2;248;248;242;48;2;39;40;34mvmap\u001b[0m\u001b[48;2;39;40;34m                                                                                                     \u001b[0m\n",
       "\u001b[1;38;2;227;227;221;48;2;39;40;34m  \u001b[0m\u001b[38;2;101;102;96;48;2;39;40;34m 2 \u001b[0m\u001b[38;2;102;217;239;48;2;39;40;34mdef\u001b[0m\u001b[38;2;248;248;242;48;2;39;40;34m \u001b[0m\u001b[38;2;166;226;46;48;2;39;40;34m_scaled_dot_product_attention_with_logits\u001b[0m\u001b[38;2;248;248;242;48;2;39;40;34m(\u001b[0m\u001b[48;2;39;40;34m                                                                \u001b[0m\n",
       "\u001b[1;38;2;227;227;221;48;2;39;40;34m  \u001b[0m\u001b[38;2;101;102;96;48;2;39;40;34m 3 \u001b[0m\u001b[38;2;248;248;242;48;2;39;40;34m    \u001b[0m\u001b[38;2;248;248;242;48;2;39;40;34mq\u001b[0m\u001b[38;2;248;248;242;48;2;39;40;34m:\u001b[0m\u001b[38;2;248;248;242;48;2;39;40;34m \u001b[0m\u001b[38;2;248;248;242;48;2;39;40;34mArray\u001b[0m\u001b[38;2;248;248;242;48;2;39;40;34m,\u001b[0m\u001b[48;2;39;40;34m                                                                                                 \u001b[0m\n",
       "\u001b[1;38;2;227;227;221;48;2;39;40;34m  \u001b[0m\u001b[38;2;101;102;96;48;2;39;40;34m 4 \u001b[0m\u001b[38;2;248;248;242;48;2;39;40;34m    \u001b[0m\u001b[38;2;248;248;242;48;2;39;40;34mk\u001b[0m\u001b[38;2;248;248;242;48;2;39;40;34m:\u001b[0m\u001b[38;2;248;248;242;48;2;39;40;34m \u001b[0m\u001b[38;2;248;248;242;48;2;39;40;34mArray\u001b[0m\u001b[38;2;248;248;242;48;2;39;40;34m,\u001b[0m\u001b[48;2;39;40;34m                                                                                                 \u001b[0m\n",
       "\u001b[1;38;2;227;227;221;48;2;39;40;34m  \u001b[0m\u001b[38;2;101;102;96;48;2;39;40;34m 5 \u001b[0m\u001b[38;2;248;248;242;48;2;39;40;34m    \u001b[0m\u001b[38;2;248;248;242;48;2;39;40;34mv\u001b[0m\u001b[38;2;248;248;242;48;2;39;40;34m:\u001b[0m\u001b[38;2;248;248;242;48;2;39;40;34m \u001b[0m\u001b[38;2;248;248;242;48;2;39;40;34mArray\u001b[0m\u001b[38;2;248;248;242;48;2;39;40;34m,\u001b[0m\u001b[48;2;39;40;34m                                                                                                 \u001b[0m\n",
       "\u001b[1;38;2;227;227;221;48;2;39;40;34m  \u001b[0m\u001b[38;2;101;102;96;48;2;39;40;34m 6 \u001b[0m\u001b[38;2;248;248;242;48;2;39;40;34m    \u001b[0m\u001b[38;2;248;248;242;48;2;39;40;34mmask\u001b[0m\u001b[38;2;248;248;242;48;2;39;40;34m:\u001b[0m\u001b[38;2;248;248;242;48;2;39;40;34m \u001b[0m\u001b[38;2;248;248;242;48;2;39;40;34mOptional\u001b[0m\u001b[38;2;248;248;242;48;2;39;40;34m[\u001b[0m\u001b[38;2;248;248;242;48;2;39;40;34mArray\u001b[0m\u001b[38;2;248;248;242;48;2;39;40;34m]\u001b[0m\u001b[38;2;248;248;242;48;2;39;40;34m \u001b[0m\u001b[38;2;255;70;137;48;2;39;40;34m=\u001b[0m\u001b[38;2;248;248;242;48;2;39;40;34m \u001b[0m\u001b[38;2;102;217;239;48;2;39;40;34mNone\u001b[0m\u001b[38;2;248;248;242;48;2;39;40;34m,\u001b[0m\u001b[48;2;39;40;34m                                                                             \u001b[0m\n",
       "\u001b[1;38;2;227;227;221;48;2;39;40;34m  \u001b[0m\u001b[38;2;101;102;96;48;2;39;40;34m 7 \u001b[0m\u001b[38;2;248;248;242;48;2;39;40;34m)\u001b[0m\u001b[38;2;248;248;242;48;2;39;40;34m \u001b[0m\u001b[38;2;255;70;137;48;2;39;40;34m-\u001b[0m\u001b[38;2;255;70;137;48;2;39;40;34m>\u001b[0m\u001b[38;2;248;248;242;48;2;39;40;34m \u001b[0m\u001b[38;2;248;248;242;48;2;39;40;34mTuple\u001b[0m\u001b[38;2;248;248;242;48;2;39;40;34m[\u001b[0m\u001b[38;2;248;248;242;48;2;39;40;34mArray\u001b[0m\u001b[38;2;248;248;242;48;2;39;40;34m,\u001b[0m\u001b[38;2;248;248;242;48;2;39;40;34m \u001b[0m\u001b[38;2;248;248;242;48;2;39;40;34mArray\u001b[0m\u001b[38;2;248;248;242;48;2;39;40;34m,\u001b[0m\u001b[38;2;248;248;242;48;2;39;40;34m \u001b[0m\u001b[38;2;248;248;242;48;2;39;40;34mArray\u001b[0m\u001b[38;2;248;248;242;48;2;39;40;34m]\u001b[0m\u001b[38;2;248;248;242;48;2;39;40;34m:\u001b[0m\u001b[48;2;39;40;34m                                                                              \u001b[0m\n",
       "\u001b[1;38;2;227;227;221;48;2;39;40;34m  \u001b[0m\u001b[38;2;101;102;96;48;2;39;40;34m 8 \u001b[0m\u001b[38;2;248;248;242;48;2;39;40;34m    \u001b[0m\u001b[38;2;230;219;116;48;2;39;40;34m\"\"\"Performs scaled dot product attention for a single attention head.\u001b[0m\u001b[48;2;39;40;34m                                     \u001b[0m\n",
       "\u001b[1;38;2;227;227;221;48;2;39;40;34m  \u001b[0m\u001b[38;2;101;102;96;48;2;39;40;34m 9 \u001b[0m\u001b[48;2;39;40;34m                                                                                                              \u001b[0m\n",
       "\u001b[1;38;2;227;227;221;48;2;39;40;34m  \u001b[0m\u001b[38;2;101;102;96;48;2;39;40;34m10 \u001b[0m\u001b[38;2;230;219;116;48;2;39;40;34m    Note:\u001b[0m\u001b[48;2;39;40;34m                                                                                                     \u001b[0m\n",
       "\u001b[1;38;2;227;227;221;48;2;39;40;34m  \u001b[0m\u001b[38;2;101;102;96;48;2;39;40;34m11 \u001b[0m\u001b[38;2;230;219;116;48;2;39;40;34m        * function is vectorized over the batch dimension using jax.vmap.\u001b[0m\u001b[48;2;39;40;34m                                     \u001b[0m\n",
       "\u001b[1;38;2;227;227;221;48;2;39;40;34m  \u001b[0m\u001b[38;2;101;102;96;48;2;39;40;34m12 \u001b[0m\u001b[48;2;39;40;34m                                                                                                              \u001b[0m\n",
       "\u001b[1;38;2;227;227;221;48;2;39;40;34m  \u001b[0m\u001b[38;2;101;102;96;48;2;39;40;34m13 \u001b[0m\u001b[38;2;230;219;116;48;2;39;40;34m    Args:\u001b[0m\u001b[48;2;39;40;34m                                                                                                     \u001b[0m\n",
       "\u001b[1;38;2;227;227;221;48;2;39;40;34m  \u001b[0m\u001b[38;2;101;102;96;48;2;39;40;34m14 \u001b[0m\u001b[38;2;230;219;116;48;2;39;40;34m        q (Array): query matrix with shape (seq_len, Dk).\u001b[0m\u001b[48;2;39;40;34m                                                     \u001b[0m\n",
       "\u001b[1;38;2;227;227;221;48;2;39;40;34m  \u001b[0m\u001b[38;2;101;102;96;48;2;39;40;34m15 \u001b[0m\u001b[38;2;230;219;116;48;2;39;40;34m        k (Array): keys matrix with shape (seq_len, Dk).\u001b[0m\u001b[48;2;39;40;34m                                                      \u001b[0m\n",
       "\u001b[1;38;2;227;227;221;48;2;39;40;34m  \u001b[0m\u001b[38;2;101;102;96;48;2;39;40;34m16 \u001b[0m\u001b[38;2;230;219;116;48;2;39;40;34m        v (Array): values matrix with shape (seq_len, Dv).\u001b[0m\u001b[48;2;39;40;34m                                                    \u001b[0m\n",
       "\u001b[1;38;2;227;227;221;48;2;39;40;34m  \u001b[0m\u001b[38;2;101;102;96;48;2;39;40;34m17 \u001b[0m\u001b[38;2;230;219;116;48;2;39;40;34m        mask (Optional[Array], optional): padding mask with shape (seq_len, seq_len). Defaults to None.\u001b[0m\u001b[48;2;39;40;34m       \u001b[0m\n",
       "\u001b[1;38;2;227;227;221;48;2;39;40;34m  \u001b[0m\u001b[38;2;101;102;96;48;2;39;40;34m18 \u001b[0m\u001b[38;2;230;219;116;48;2;39;40;34m            If specified must be a binary matrix with 1s indicating valid positions and 0s indicating masked p\u001b[0m\n",
       "\u001b[1;38;2;227;227;221;48;2;39;40;34m  \u001b[0m\u001b[38;2;101;102;96;48;2;39;40;34m19 \u001b[0m\u001b[38;2;230;219;116;48;2;39;40;34m            Expected shape is (seq_len, seq_len) where seq_len is the length of the sequence.\u001b[0m\u001b[48;2;39;40;34m                 \u001b[0m\n",
       "\u001b[1;38;2;227;227;221;48;2;39;40;34m  \u001b[0m\u001b[38;2;101;102;96;48;2;39;40;34m20 \u001b[0m\u001b[38;2;230;219;116;48;2;39;40;34m        \u001b[0m\u001b[48;2;39;40;34m                                                                                                      \u001b[0m\n",
       "\u001b[1;38;2;227;227;221;48;2;39;40;34m  \u001b[0m\u001b[38;2;101;102;96;48;2;39;40;34m21 \u001b[0m\u001b[38;2;230;219;116;48;2;39;40;34m    Returns:\u001b[0m\u001b[48;2;39;40;34m                                                                                                  \u001b[0m\n",
       "\u001b[1;38;2;227;227;221;48;2;39;40;34m  \u001b[0m\u001b[38;2;101;102;96;48;2;39;40;34m22 \u001b[0m\u001b[38;2;230;219;116;48;2;39;40;34m        Tuple[Array, Array]: \u001b[0m\u001b[48;2;39;40;34m                                                                                 \u001b[0m\n",
       "\u001b[1;38;2;227;227;221;48;2;39;40;34m  \u001b[0m\u001b[38;2;101;102;96;48;2;39;40;34m23 \u001b[0m\u001b[38;2;230;219;116;48;2;39;40;34m            Array: scaled dot product attention output with shape (seq_len, Dv).\u001b[0m\u001b[48;2;39;40;34m                              \u001b[0m\n",
       "\u001b[1;38;2;227;227;221;48;2;39;40;34m  \u001b[0m\u001b[38;2;101;102;96;48;2;39;40;34m24 \u001b[0m\u001b[38;2;230;219;116;48;2;39;40;34m            Array: attention weights with shape (seq_len, seq_len).\u001b[0m\u001b[48;2;39;40;34m                                           \u001b[0m\n",
       "\u001b[1;38;2;227;227;221;48;2;39;40;34m  \u001b[0m\u001b[38;2;101;102;96;48;2;39;40;34m25 \u001b[0m\u001b[38;2;230;219;116;48;2;39;40;34m            Array: attention logits with shape (seq_len, seq_len).\u001b[0m\u001b[48;2;39;40;34m                                            \u001b[0m\n",
       "\u001b[1;38;2;227;227;221;48;2;39;40;34m  \u001b[0m\u001b[38;2;101;102;96;48;2;39;40;34m26 \u001b[0m\u001b[38;2;230;219;116;48;2;39;40;34m    \"\"\"\u001b[0m\u001b[48;2;39;40;34m                                                                                                       \u001b[0m\n",
       "\u001b[1;38;2;227;227;221;48;2;39;40;34m  \u001b[0m\u001b[38;2;101;102;96;48;2;39;40;34m27 \u001b[0m\u001b[38;2;248;248;242;48;2;39;40;34m    \u001b[0m\u001b[38;2;248;248;242;48;2;39;40;34mseq_len\u001b[0m\u001b[38;2;248;248;242;48;2;39;40;34m,\u001b[0m\u001b[38;2;248;248;242;48;2;39;40;34m \u001b[0m\u001b[38;2;248;248;242;48;2;39;40;34mvector_dim\u001b[0m\u001b[38;2;248;248;242;48;2;39;40;34m \u001b[0m\u001b[38;2;255;70;137;48;2;39;40;34m=\u001b[0m\u001b[38;2;248;248;242;48;2;39;40;34m \u001b[0m\u001b[38;2;248;248;242;48;2;39;40;34mq\u001b[0m\u001b[38;2;255;70;137;48;2;39;40;34m.\u001b[0m\u001b[38;2;248;248;242;48;2;39;40;34mshape\u001b[0m\u001b[48;2;39;40;34m                                                                             \u001b[0m\n",
       "\u001b[1;38;2;227;227;221;48;2;39;40;34m  \u001b[0m\u001b[38;2;101;102;96;48;2;39;40;34m28 \u001b[0m\u001b[38;2;248;248;242;48;2;39;40;34m    \u001b[0m\u001b[38;2;102;217;239;48;2;39;40;34mif\u001b[0m\u001b[38;2;248;248;242;48;2;39;40;34m \u001b[0m\u001b[38;2;248;248;242;48;2;39;40;34mmask\u001b[0m\u001b[38;2;248;248;242;48;2;39;40;34m \u001b[0m\u001b[38;2;255;70;137;48;2;39;40;34mis\u001b[0m\u001b[38;2;248;248;242;48;2;39;40;34m \u001b[0m\u001b[38;2;102;217;239;48;2;39;40;34mNone\u001b[0m\u001b[38;2;248;248;242;48;2;39;40;34m:\u001b[0m\u001b[48;2;39;40;34m                                                                                          \u001b[0m\n",
       "\u001b[1;38;2;227;227;221;48;2;39;40;34m  \u001b[0m\u001b[38;2;101;102;96;48;2;39;40;34m29 \u001b[0m\u001b[38;2;248;248;242;48;2;39;40;34m        \u001b[0m\u001b[38;2;248;248;242;48;2;39;40;34mmask\u001b[0m\u001b[38;2;248;248;242;48;2;39;40;34m \u001b[0m\u001b[38;2;255;70;137;48;2;39;40;34m=\u001b[0m\u001b[38;2;248;248;242;48;2;39;40;34m \u001b[0m\u001b[38;2;248;248;242;48;2;39;40;34mjnp\u001b[0m\u001b[38;2;255;70;137;48;2;39;40;34m.\u001b[0m\u001b[38;2;248;248;242;48;2;39;40;34mones\u001b[0m\u001b[38;2;248;248;242;48;2;39;40;34m(\u001b[0m\u001b[38;2;248;248;242;48;2;39;40;34m(\u001b[0m\u001b[38;2;248;248;242;48;2;39;40;34mseq_len\u001b[0m\u001b[38;2;248;248;242;48;2;39;40;34m,\u001b[0m\u001b[38;2;248;248;242;48;2;39;40;34m \u001b[0m\u001b[38;2;248;248;242;48;2;39;40;34mseq_len\u001b[0m\u001b[38;2;248;248;242;48;2;39;40;34m)\u001b[0m\u001b[38;2;248;248;242;48;2;39;40;34m)\u001b[0m\u001b[48;2;39;40;34m                                                                   \u001b[0m\n",
       "\u001b[1;38;2;227;227;221;48;2;39;40;34m  \u001b[0m\u001b[38;2;101;102;96;48;2;39;40;34m30 \u001b[0m\u001b[38;2;248;248;242;48;2;39;40;34m    \u001b[0m\u001b[48;2;39;40;34m                                                                                                          \u001b[0m\n",
       "\u001b[1;38;2;227;227;221;48;2;39;40;34m  \u001b[0m\u001b[38;2;101;102;96;48;2;39;40;34m31 \u001b[0m\u001b[38;2;248;248;242;48;2;39;40;34m    \u001b[0m\u001b[38;2;149;144;119;48;2;39;40;34m# will ensure that variance of dot product remains sigma^4 ~= 1 since we init with sigma = 1\u001b[0m\u001b[48;2;39;40;34m              \u001b[0m\n",
       "\u001b[1;38;2;227;227;221;48;2;39;40;34m  \u001b[0m\u001b[38;2;101;102;96;48;2;39;40;34m32 \u001b[0m\u001b[38;2;248;248;242;48;2;39;40;34m    \u001b[0m\u001b[38;2;149;144;119;48;2;39;40;34m# see dotprod-step-by-step.ipynb for more details\u001b[0m\u001b[48;2;39;40;34m                                                         \u001b[0m\n",
       "\u001b[1;38;2;227;227;221;48;2;39;40;34m  \u001b[0m\u001b[38;2;101;102;96;48;2;39;40;34m33 \u001b[0m\u001b[38;2;248;248;242;48;2;39;40;34m    \u001b[0m\u001b[38;2;248;248;242;48;2;39;40;34mvariance_scale_factor\u001b[0m\u001b[38;2;248;248;242;48;2;39;40;34m \u001b[0m\u001b[38;2;255;70;137;48;2;39;40;34m=\u001b[0m\u001b[38;2;248;248;242;48;2;39;40;34m \u001b[0m\u001b[38;2;174;129;255;48;2;39;40;34m1\u001b[0m\u001b[38;2;248;248;242;48;2;39;40;34m \u001b[0m\u001b[38;2;255;70;137;48;2;39;40;34m/\u001b[0m\u001b[38;2;248;248;242;48;2;39;40;34m \u001b[0m\u001b[38;2;248;248;242;48;2;39;40;34mjnp\u001b[0m\u001b[38;2;255;70;137;48;2;39;40;34m.\u001b[0m\u001b[38;2;248;248;242;48;2;39;40;34msqrt\u001b[0m\u001b[38;2;248;248;242;48;2;39;40;34m(\u001b[0m\u001b[38;2;248;248;242;48;2;39;40;34mvector_dim\u001b[0m\u001b[38;2;248;248;242;48;2;39;40;34m)\u001b[0m\u001b[48;2;39;40;34m                                                          \u001b[0m\n",
       "\u001b[1;38;2;227;227;221;48;2;39;40;34m  \u001b[0m\u001b[38;2;101;102;96;48;2;39;40;34m34 \u001b[0m\u001b[48;2;39;40;34m                                                                                                              \u001b[0m\n",
       "\u001b[1;38;2;227;227;221;48;2;39;40;34m  \u001b[0m\u001b[38;2;101;102;96;48;2;39;40;34m35 \u001b[0m\u001b[38;2;248;248;242;48;2;39;40;34m    \u001b[0m\u001b[38;2;149;144;119;48;2;39;40;34m# compute QK^T, transpose K to get (Dk, seq_len)\u001b[0m\u001b[48;2;39;40;34m                                                          \u001b[0m\n",
       "\u001b[1;38;2;227;227;221;48;2;39;40;34m  \u001b[0m\u001b[38;2;101;102;96;48;2;39;40;34m36 \u001b[0m\u001b[38;2;248;248;242;48;2;39;40;34m    \u001b[0m\u001b[38;2;149;144;119;48;2;39;40;34m# output shape (seq_len, seq_len)\u001b[0m\u001b[48;2;39;40;34m                                                                         \u001b[0m\n",
       "\u001b[1;38;2;227;227;221;48;2;39;40;34m  \u001b[0m\u001b[38;2;101;102;96;48;2;39;40;34m37 \u001b[0m\u001b[38;2;248;248;242;48;2;39;40;34m    \u001b[0m\u001b[38;2;248;248;242;48;2;39;40;34mattention_logits\u001b[0m\u001b[38;2;248;248;242;48;2;39;40;34m \u001b[0m\u001b[38;2;255;70;137;48;2;39;40;34m=\u001b[0m\u001b[38;2;248;248;242;48;2;39;40;34m \u001b[0m\u001b[38;2;248;248;242;48;2;39;40;34mjnp\u001b[0m\u001b[38;2;255;70;137;48;2;39;40;34m.\u001b[0m\u001b[38;2;248;248;242;48;2;39;40;34mmatmul\u001b[0m\u001b[38;2;248;248;242;48;2;39;40;34m(\u001b[0m\u001b[38;2;248;248;242;48;2;39;40;34mq\u001b[0m\u001b[38;2;248;248;242;48;2;39;40;34m,\u001b[0m\u001b[38;2;248;248;242;48;2;39;40;34m \u001b[0m\u001b[38;2;248;248;242;48;2;39;40;34mjnp\u001b[0m\u001b[38;2;255;70;137;48;2;39;40;34m.\u001b[0m\u001b[38;2;248;248;242;48;2;39;40;34mswapaxes\u001b[0m\u001b[38;2;248;248;242;48;2;39;40;34m(\u001b[0m\u001b[38;2;248;248;242;48;2;39;40;34mk\u001b[0m\u001b[38;2;248;248;242;48;2;39;40;34m,\u001b[0m\u001b[38;2;248;248;242;48;2;39;40;34m \u001b[0m\u001b[38;2;174;129;255;48;2;39;40;34m0\u001b[0m\u001b[38;2;248;248;242;48;2;39;40;34m,\u001b[0m\u001b[38;2;248;248;242;48;2;39;40;34m \u001b[0m\u001b[38;2;174;129;255;48;2;39;40;34m1\u001b[0m\u001b[38;2;248;248;242;48;2;39;40;34m)\u001b[0m\u001b[38;2;248;248;242;48;2;39;40;34m)\u001b[0m\u001b[38;2;248;248;242;48;2;39;40;34m \u001b[0m\u001b[38;2;255;70;137;48;2;39;40;34m*\u001b[0m\u001b[38;2;248;248;242;48;2;39;40;34m \u001b[0m\u001b[38;2;248;248;242;48;2;39;40;34mvariance_scale_factor\u001b[0m\u001b[48;2;39;40;34m                           \u001b[0m\n",
       "\u001b[1;38;2;227;227;221;48;2;39;40;34m  \u001b[0m\u001b[38;2;101;102;96;48;2;39;40;34m38 \u001b[0m\u001b[48;2;39;40;34m                                                                                                              \u001b[0m\n",
       "\u001b[1;38;2;227;227;221;48;2;39;40;34m  \u001b[0m\u001b[38;2;101;102;96;48;2;39;40;34m39 \u001b[0m\u001b[38;2;248;248;242;48;2;39;40;34m    \u001b[0m\u001b[38;2;149;144;119;48;2;39;40;34m# apply mask if provided\u001b[0m\u001b[48;2;39;40;34m                                                                                  \u001b[0m\n",
       "\u001b[1;38;2;227;227;221;48;2;39;40;34m  \u001b[0m\u001b[38;2;101;102;96;48;2;39;40;34m40 \u001b[0m\u001b[38;2;248;248;242;48;2;39;40;34m    \u001b[0m\u001b[38;2;149;144;119;48;2;39;40;34m# positions at 1 remain unchanged, positions at 0 are set to -inf (-1e10)\u001b[0m\u001b[48;2;39;40;34m                                 \u001b[0m\n",
       "\u001b[1;38;2;227;227;221;48;2;39;40;34m  \u001b[0m\u001b[38;2;101;102;96;48;2;39;40;34m41 \u001b[0m\u001b[38;2;248;248;242;48;2;39;40;34m    \u001b[0m\u001b[38;2;149;144;119;48;2;39;40;34m# 1 - mask = 1 for masked positions, 0 for valid positions\u001b[0m\u001b[48;2;39;40;34m                                                \u001b[0m\n",
       "\u001b[1;38;2;227;227;221;48;2;39;40;34m  \u001b[0m\u001b[38;2;101;102;96;48;2;39;40;34m42 \u001b[0m\u001b[38;2;248;248;242;48;2;39;40;34m    \u001b[0m\u001b[38;2;248;248;242;48;2;39;40;34mattention_logits\u001b[0m\u001b[38;2;248;248;242;48;2;39;40;34m \u001b[0m\u001b[38;2;255;70;137;48;2;39;40;34m=\u001b[0m\u001b[38;2;248;248;242;48;2;39;40;34m \u001b[0m\u001b[38;2;248;248;242;48;2;39;40;34mattention_logits\u001b[0m\u001b[38;2;248;248;242;48;2;39;40;34m \u001b[0m\u001b[38;2;255;70;137;48;2;39;40;34m-\u001b[0m\u001b[38;2;248;248;242;48;2;39;40;34m \u001b[0m\u001b[38;2;174;129;255;48;2;39;40;34m1e10\u001b[0m\u001b[38;2;248;248;242;48;2;39;40;34m \u001b[0m\u001b[38;2;255;70;137;48;2;39;40;34m*\u001b[0m\u001b[38;2;248;248;242;48;2;39;40;34m \u001b[0m\u001b[38;2;248;248;242;48;2;39;40;34m(\u001b[0m\u001b[38;2;174;129;255;48;2;39;40;34m1\u001b[0m\u001b[38;2;248;248;242;48;2;39;40;34m \u001b[0m\u001b[38;2;255;70;137;48;2;39;40;34m-\u001b[0m\u001b[38;2;248;248;242;48;2;39;40;34m \u001b[0m\u001b[38;2;248;248;242;48;2;39;40;34mmask\u001b[0m\u001b[38;2;248;248;242;48;2;39;40;34m)\u001b[0m\u001b[48;2;39;40;34m                                                   \u001b[0m\n",
       "\u001b[1;38;2;227;227;221;48;2;39;40;34m  \u001b[0m\u001b[38;2;101;102;96;48;2;39;40;34m43 \u001b[0m\u001b[48;2;39;40;34m                                                                                                              \u001b[0m\n",
       "\u001b[1;38;2;227;227;221;48;2;39;40;34m  \u001b[0m\u001b[38;2;101;102;96;48;2;39;40;34m44 \u001b[0m\u001b[38;2;248;248;242;48;2;39;40;34m    \u001b[0m\u001b[38;2;149;144;119;48;2;39;40;34m# apply softmax element-wise along the rows\u001b[0m\u001b[48;2;39;40;34m                                                               \u001b[0m\n",
       "\u001b[1;38;2;227;227;221;48;2;39;40;34m  \u001b[0m\u001b[38;2;101;102;96;48;2;39;40;34m45 \u001b[0m\u001b[38;2;248;248;242;48;2;39;40;34m    \u001b[0m\u001b[38;2;248;248;242;48;2;39;40;34mattention_weights\u001b[0m\u001b[38;2;248;248;242;48;2;39;40;34m \u001b[0m\u001b[38;2;255;70;137;48;2;39;40;34m=\u001b[0m\u001b[38;2;248;248;242;48;2;39;40;34m \u001b[0m\u001b[38;2;248;248;242;48;2;39;40;34mjax\u001b[0m\u001b[38;2;255;70;137;48;2;39;40;34m.\u001b[0m\u001b[38;2;248;248;242;48;2;39;40;34mnn\u001b[0m\u001b[38;2;255;70;137;48;2;39;40;34m.\u001b[0m\u001b[38;2;248;248;242;48;2;39;40;34msoftmax\u001b[0m\u001b[38;2;248;248;242;48;2;39;40;34m(\u001b[0m\u001b[38;2;248;248;242;48;2;39;40;34mattention_logits\u001b[0m\u001b[38;2;248;248;242;48;2;39;40;34m,\u001b[0m\u001b[38;2;248;248;242;48;2;39;40;34m \u001b[0m\u001b[38;2;248;248;242;48;2;39;40;34maxis\u001b[0m\u001b[38;2;255;70;137;48;2;39;40;34m=\u001b[0m\u001b[38;2;255;70;137;48;2;39;40;34m-\u001b[0m\u001b[38;2;174;129;255;48;2;39;40;34m1\u001b[0m\u001b[38;2;248;248;242;48;2;39;40;34m)\u001b[0m\u001b[48;2;39;40;34m                                             \u001b[0m\n",
       "\u001b[1;38;2;227;227;221;48;2;39;40;34m  \u001b[0m\u001b[38;2;101;102;96;48;2;39;40;34m46 \u001b[0m\u001b[48;2;39;40;34m                                                                                                              \u001b[0m\n",
       "\u001b[1;38;2;227;227;221;48;2;39;40;34m  \u001b[0m\u001b[38;2;101;102;96;48;2;39;40;34m47 \u001b[0m\u001b[38;2;248;248;242;48;2;39;40;34m    \u001b[0m\u001b[38;2;149;144;119;48;2;39;40;34m# weighted average of value vectors (weighted retrieval)\u001b[0m\u001b[48;2;39;40;34m                                                  \u001b[0m\n",
       "\u001b[1;38;2;227;227;221;48;2;39;40;34m  \u001b[0m\u001b[38;2;101;102;96;48;2;39;40;34m48 \u001b[0m\u001b[38;2;248;248;242;48;2;39;40;34m    \u001b[0m\u001b[38;2;248;248;242;48;2;39;40;34mresult\u001b[0m\u001b[38;2;248;248;242;48;2;39;40;34m \u001b[0m\u001b[38;2;255;70;137;48;2;39;40;34m=\u001b[0m\u001b[38;2;248;248;242;48;2;39;40;34m \u001b[0m\u001b[38;2;248;248;242;48;2;39;40;34mjnp\u001b[0m\u001b[38;2;255;70;137;48;2;39;40;34m.\u001b[0m\u001b[38;2;248;248;242;48;2;39;40;34mmatmul\u001b[0m\u001b[38;2;248;248;242;48;2;39;40;34m(\u001b[0m\u001b[38;2;248;248;242;48;2;39;40;34mattention_weights\u001b[0m\u001b[38;2;248;248;242;48;2;39;40;34m,\u001b[0m\u001b[38;2;248;248;242;48;2;39;40;34m \u001b[0m\u001b[38;2;248;248;242;48;2;39;40;34mv\u001b[0m\u001b[38;2;248;248;242;48;2;39;40;34m)\u001b[0m\u001b[48;2;39;40;34m                                                                 \u001b[0m\n",
       "\u001b[1;38;2;227;227;221;48;2;39;40;34m  \u001b[0m\u001b[38;2;101;102;96;48;2;39;40;34m49 \u001b[0m\u001b[48;2;39;40;34m                                                                                                              \u001b[0m\n",
       "\u001b[1;38;2;227;227;221;48;2;39;40;34m  \u001b[0m\u001b[38;2;101;102;96;48;2;39;40;34m50 \u001b[0m\u001b[38;2;248;248;242;48;2;39;40;34m    \u001b[0m\u001b[38;2;102;217;239;48;2;39;40;34mreturn\u001b[0m\u001b[38;2;248;248;242;48;2;39;40;34m \u001b[0m\u001b[38;2;248;248;242;48;2;39;40;34mresult\u001b[0m\u001b[38;2;248;248;242;48;2;39;40;34m,\u001b[0m\u001b[38;2;248;248;242;48;2;39;40;34m \u001b[0m\u001b[38;2;248;248;242;48;2;39;40;34mattention_weights\u001b[0m\u001b[38;2;248;248;242;48;2;39;40;34m,\u001b[0m\u001b[38;2;248;248;242;48;2;39;40;34m \u001b[0m\u001b[38;2;248;248;242;48;2;39;40;34mattention_logits\u001b[0m\u001b[48;2;39;40;34m                                                        \u001b[0m\n",
       "\u001b[1;38;2;227;227;221;48;2;39;40;34m  \u001b[0m\u001b[38;2;101;102;96;48;2;39;40;34m51 \u001b[0m\u001b[48;2;39;40;34m                                                                                                              \u001b[0m\n"
      ]
     },
     "metadata": {},
     "output_type": "display_data"
    }
   ],
   "source": [
    "lines = inspect.getsource(_scaled_dot_product_attention_with_logits)\n",
    "syntax = Syntax(lines, lexer=\"python\", line_numbers=True)\n",
    "print(syntax)"
   ]
  },
  {
   "cell_type": "markdown",
   "metadata": {},
   "source": [
    "## Variance Scaling Factor\n",
    "\n",
    "If you look at line 33 (at the time of writing) you will see that we define a `variance_scale_factor` definde as  \n",
    "\n",
    "$$\\text{variance\\textunderscore scale\\textunderscore factor} = \\frac{1}{\\sqrt{d_k}}$$\n",
    "\n",
    "We then divide the product of the Q and K matrices by that factor. Why?\n",
    "\n",
    "Most sources the internet, including the original [\"Attention Is All You Neeed Paper\"](https://arxiv.org/abs/1706.03762) explain that this scaling is needed to prevent the softmax from getting saturated (i.e. one value being very close to 1 and others very close 0) which would result in very small gradients (see [here](https://eli.thegreenplace.net/2016/the-softmax-function-and-its-derivative) for derivation of softmax derivative). \n",
    "\n",
    "Some resources (i.e. [this notebook](https://colab.research.google.com/github/phlippe/uvadlc_notebooks/blob/master/docs/tutorial_notebooks/JAX/tutorial6/Transformers_and_MHAttention.ipynb#scrollTo=T1yF9TRkpXWq)) provide deeper insight explaining that the variance of the dot product vector increases with $d_k$. Higher variance means that one value can become very large squishing others after the softmax is applied. However, why is that actually the case? I want to walk through this step by step. "
   ]
  },
  {
   "cell_type": "markdown",
   "metadata": {},
   "source": [
    "### Before We Begin\n",
    "\n",
    "A critical piece of information is to see what happens after we multiply the `queries` and `keys` matrices and scale them. Well, we apply the `Softmax` function. \n",
    "\n",
    "The softmax function is designed as follows \n",
    "\n",
    "$$\\sigma(\\mathbf{z})_i = \\frac{e^{z_i}}{\\sum_{j=1}^{K} e^{z_j}}$$\n",
    "\n",
    "It takes an array of numbers and scales them such that they sum up to 1. Let's look at a few examples in code."
   ]
  },
  {
   "cell_type": "code",
   "execution_count": 54,
   "metadata": {},
   "outputs": [],
   "source": [
    "def print_matrix(name, matrix):\n",
    "    print(f\"[bold]{name}\\n{matrix}[/bold]\")"
   ]
  },
  {
   "cell_type": "code",
   "execution_count": 58,
   "metadata": {},
   "outputs": [
    {
     "data": {
      "text/html": [
       "<pre style=\"white-space:pre;overflow-x:auto;line-height:normal;font-family:Menlo,'DejaVu Sans Mono',consolas,'Courier New',monospace\"><span style=\"font-weight: bold\">Array</span>\n",
       "<span style=\"font-weight: bold\">[[</span><span style=\"color: #008080; text-decoration-color: #008080; font-weight: bold\">3</span><span style=\"font-weight: bold\">.  </span><span style=\"color: #008080; text-decoration-color: #008080; font-weight: bold\">2.4</span><span style=\"font-weight: bold\"> </span><span style=\"color: #008080; text-decoration-color: #008080; font-weight: bold\">3.6</span><span style=\"font-weight: bold\">]</span>\n",
       "<span style=\"font-weight: bold\"> [</span><span style=\"color: #008080; text-decoration-color: #008080; font-weight: bold\">4.8</span><span style=\"font-weight: bold\"> </span><span style=\"color: #008080; text-decoration-color: #008080; font-weight: bold\">6</span><span style=\"font-weight: bold\">.  </span><span style=\"color: #008080; text-decoration-color: #008080; font-weight: bold\">5.2</span><span style=\"font-weight: bold\">]]</span>\n",
       "</pre>\n"
      ],
      "text/plain": [
       "\u001b[1mArray\u001b[0m\n",
       "\u001b[1m[\u001b[0m\u001b[1m[\u001b[0m\u001b[1;36m3\u001b[0m\u001b[1m.  \u001b[0m\u001b[1;36m2.4\u001b[0m\u001b[1m \u001b[0m\u001b[1;36m3.6\u001b[0m\u001b[1m]\u001b[0m\n",
       "\u001b[1m \u001b[0m\u001b[1m[\u001b[0m\u001b[1;36m4.8\u001b[0m\u001b[1m \u001b[0m\u001b[1;36m6\u001b[0m\u001b[1m.  \u001b[0m\u001b[1;36m5.2\u001b[0m\u001b[1m]\u001b[0m\u001b[1m]\u001b[0m\n"
      ]
     },
     "metadata": {},
     "output_type": "display_data"
    },
    {
     "data": {
      "text/html": [
       "<pre style=\"white-space:pre;overflow-x:auto;line-height:normal;font-family:Menlo,'DejaVu Sans Mono',consolas,'Courier New',monospace\"><span style=\"color: #800080; text-decoration-color: #800080; font-weight: bold\">Softmax</span><span style=\"font-weight: bold\">(Array)</span>\n",
       "<span style=\"font-weight: bold\">[[</span><span style=\"color: #008080; text-decoration-color: #008080; font-weight: bold\">0.296654</span><span style=\"font-weight: bold\">   </span><span style=\"color: #008080; text-decoration-color: #008080; font-weight: bold\">0.1628072</span><span style=\"font-weight: bold\">  </span><span style=\"color: #008080; text-decoration-color: #008080; font-weight: bold\">0.5405388</span><span style=\"font-weight: bold\"> ]</span>\n",
       "<span style=\"font-weight: bold\"> [</span><span style=\"color: #008080; text-decoration-color: #008080; font-weight: bold\">0.17205958</span><span style=\"font-weight: bold\"> </span><span style=\"color: #008080; text-decoration-color: #008080; font-weight: bold\">0.57125777</span><span style=\"font-weight: bold\"> </span><span style=\"color: #008080; text-decoration-color: #008080; font-weight: bold\">0.2566826</span><span style=\"font-weight: bold\"> ]]</span>\n",
       "</pre>\n"
      ],
      "text/plain": [
       "\u001b[1;35mSoftmax\u001b[0m\u001b[1m(\u001b[0m\u001b[1mArray\u001b[0m\u001b[1m)\u001b[0m\n",
       "\u001b[1m[\u001b[0m\u001b[1m[\u001b[0m\u001b[1;36m0.296654\u001b[0m\u001b[1m   \u001b[0m\u001b[1;36m0.1628072\u001b[0m\u001b[1m  \u001b[0m\u001b[1;36m0.5405388\u001b[0m\u001b[1m \u001b[0m\u001b[1m]\u001b[0m\n",
       "\u001b[1m \u001b[0m\u001b[1m[\u001b[0m\u001b[1;36m0.17205958\u001b[0m\u001b[1m \u001b[0m\u001b[1;36m0.57125777\u001b[0m\u001b[1m \u001b[0m\u001b[1;36m0.2566826\u001b[0m\u001b[1m \u001b[0m\u001b[1m]\u001b[0m\u001b[1m]\u001b[0m\n"
      ]
     },
     "metadata": {},
     "output_type": "display_data"
    }
   ],
   "source": [
    "arr = jnp.asarray([[3, 2.4, 3.6], [4.8, 6, 5.2]])\n",
    "print_matrix(\"Array\", arr)\n",
    "\n",
    "# apply softmax\n",
    "soft_arr = jax.nn.softmax(arr)\n",
    "print_matrix(\"Softmax(Array)\", soft_arr)"
   ]
  },
  {
   "cell_type": "markdown",
   "metadata": {},
   "source": [
    "We can see that the largest values in our original array are still the largest values in our transformed array, but all numbers have been scaled such that they add up to 1 (along the rows). This is grat because we can use these numbers as probabilities or as a weights for example. \n",
    "\n",
    "However, what happens, when one number because quite a bit larger than the others?"
   ]
  },
  {
   "cell_type": "code",
   "execution_count": 60,
   "metadata": {},
   "outputs": [
    {
     "data": {
      "text/html": [
       "<pre style=\"white-space:pre;overflow-x:auto;line-height:normal;font-family:Menlo,'DejaVu Sans Mono',consolas,'Courier New',monospace\"><span style=\"font-weight: bold\">Array</span>\n",
       "<span style=\"font-weight: bold\">[[ </span><span style=\"color: #008080; text-decoration-color: #008080; font-weight: bold\">3</span><span style=\"font-weight: bold\">.   </span><span style=\"color: #008080; text-decoration-color: #008080; font-weight: bold\">2.4</span><span style=\"font-weight: bold\"> </span><span style=\"color: #008080; text-decoration-color: #008080; font-weight: bold\">10</span><span style=\"font-weight: bold\">. ]</span>\n",
       "<span style=\"font-weight: bold\"> [ </span><span style=\"color: #008080; text-decoration-color: #008080; font-weight: bold\">4.8</span><span style=\"font-weight: bold\"> </span><span style=\"color: #008080; text-decoration-color: #008080; font-weight: bold\">10</span><span style=\"font-weight: bold\">.   </span><span style=\"color: #008080; text-decoration-color: #008080; font-weight: bold\">5.2</span><span style=\"font-weight: bold\">]]</span>\n",
       "</pre>\n"
      ],
      "text/plain": [
       "\u001b[1mArray\u001b[0m\n",
       "\u001b[1m[\u001b[0m\u001b[1m[\u001b[0m\u001b[1m \u001b[0m\u001b[1;36m3\u001b[0m\u001b[1m.   \u001b[0m\u001b[1;36m2.4\u001b[0m\u001b[1m \u001b[0m\u001b[1;36m10\u001b[0m\u001b[1m. \u001b[0m\u001b[1m]\u001b[0m\n",
       "\u001b[1m \u001b[0m\u001b[1m[\u001b[0m\u001b[1m \u001b[0m\u001b[1;36m4.8\u001b[0m\u001b[1m \u001b[0m\u001b[1;36m10\u001b[0m\u001b[1m.   \u001b[0m\u001b[1;36m5.2\u001b[0m\u001b[1m]\u001b[0m\u001b[1m]\u001b[0m\n"
      ]
     },
     "metadata": {},
     "output_type": "display_data"
    },
    {
     "data": {
      "text/html": [
       "<pre style=\"white-space:pre;overflow-x:auto;line-height:normal;font-family:Menlo,'DejaVu Sans Mono',consolas,'Courier New',monospace\"><span style=\"color: #800080; text-decoration-color: #800080; font-weight: bold\">Softmax</span><span style=\"font-weight: bold\">(Array)</span>\n",
       "<span style=\"font-weight: bold\">[[</span><span style=\"color: #008080; text-decoration-color: #008080; font-weight: bold\">9.1059587e-04</span><span style=\"font-weight: bold\"> </span><span style=\"color: #008080; text-decoration-color: #008080; font-weight: bold\">4.9974566e-04</span><span style=\"font-weight: bold\"> </span><span style=\"color: #008080; text-decoration-color: #008080; font-weight: bold\">9.9858958e-01</span><span style=\"font-weight: bold\">]</span>\n",
       "<span style=\"font-weight: bold\"> [</span><span style=\"color: #008080; text-decoration-color: #008080; font-weight: bold\">5.4417616e-03</span><span style=\"font-weight: bold\"> </span><span style=\"color: #008080; text-decoration-color: #008080; font-weight: bold\">9.8644012e-01</span><span style=\"font-weight: bold\"> </span><span style=\"color: #008080; text-decoration-color: #008080; font-weight: bold\">8.1181517e-03</span><span style=\"font-weight: bold\">]]</span>\n",
       "</pre>\n"
      ],
      "text/plain": [
       "\u001b[1;35mSoftmax\u001b[0m\u001b[1m(\u001b[0m\u001b[1mArray\u001b[0m\u001b[1m)\u001b[0m\n",
       "\u001b[1m[\u001b[0m\u001b[1m[\u001b[0m\u001b[1;36m9.1059587e-04\u001b[0m\u001b[1m \u001b[0m\u001b[1;36m4.9974566e-04\u001b[0m\u001b[1m \u001b[0m\u001b[1;36m9.9858958e-01\u001b[0m\u001b[1m]\u001b[0m\n",
       "\u001b[1m \u001b[0m\u001b[1m[\u001b[0m\u001b[1;36m5.4417616e-03\u001b[0m\u001b[1m \u001b[0m\u001b[1;36m9.8644012e-01\u001b[0m\u001b[1m \u001b[0m\u001b[1;36m8.1181517e-03\u001b[0m\u001b[1m]\u001b[0m\u001b[1m]\u001b[0m\n"
      ]
     },
     "metadata": {},
     "output_type": "display_data"
    }
   ],
   "source": [
    "arr = jnp.asarray([[3, 2.4, 10], [4.8, 10, 5.2]])\n",
    "print_matrix(\"Array\", arr)\n",
    "\n",
    "# apply softmax\n",
    "soft_arr = jax.nn.softmax(arr)\n",
    "print_matrix(\"Softmax(Array)\", soft_arr)"
   ]
  },
  {
   "cell_type": "markdown",
   "metadata": {},
   "source": [
    "The softmax becomes saturated. What does that mean? That one value becomes very close to 1 while the others are close to 0. The effects get worse as the range of the numbers in the array gets larger. The largest value in the arrays squashes out the other values."
   ]
  },
  {
   "cell_type": "code",
   "execution_count": 61,
   "metadata": {},
   "outputs": [
    {
     "data": {
      "text/html": [
       "<pre style=\"white-space:pre;overflow-x:auto;line-height:normal;font-family:Menlo,'DejaVu Sans Mono',consolas,'Courier New',monospace\"><span style=\"font-weight: bold\">Array</span>\n",
       "<span style=\"font-weight: bold\">[[ </span><span style=\"color: #008080; text-decoration-color: #008080; font-weight: bold\">0.1</span><span style=\"font-weight: bold\">  </span><span style=\"color: #008080; text-decoration-color: #008080; font-weight: bold\">2.4</span><span style=\"font-weight: bold\"> </span><span style=\"color: #008080; text-decoration-color: #008080; font-weight: bold\">10</span><span style=\"font-weight: bold\">. ]</span>\n",
       "<span style=\"font-weight: bold\"> [ </span><span style=\"color: #008080; text-decoration-color: #008080; font-weight: bold\">0.8</span><span style=\"font-weight: bold\"> </span><span style=\"color: #008080; text-decoration-color: #008080; font-weight: bold\">10</span><span style=\"font-weight: bold\">.   </span><span style=\"color: #008080; text-decoration-color: #008080; font-weight: bold\">5.2</span><span style=\"font-weight: bold\">]]</span>\n",
       "</pre>\n"
      ],
      "text/plain": [
       "\u001b[1mArray\u001b[0m\n",
       "\u001b[1m[\u001b[0m\u001b[1m[\u001b[0m\u001b[1m \u001b[0m\u001b[1;36m0.1\u001b[0m\u001b[1m  \u001b[0m\u001b[1;36m2.4\u001b[0m\u001b[1m \u001b[0m\u001b[1;36m10\u001b[0m\u001b[1m. \u001b[0m\u001b[1m]\u001b[0m\n",
       "\u001b[1m \u001b[0m\u001b[1m[\u001b[0m\u001b[1m \u001b[0m\u001b[1;36m0.8\u001b[0m\u001b[1m \u001b[0m\u001b[1;36m10\u001b[0m\u001b[1m.   \u001b[0m\u001b[1;36m5.2\u001b[0m\u001b[1m]\u001b[0m\u001b[1m]\u001b[0m\n"
      ]
     },
     "metadata": {},
     "output_type": "display_data"
    },
    {
     "data": {
      "text/html": [
       "<pre style=\"white-space:pre;overflow-x:auto;line-height:normal;font-family:Menlo,'DejaVu Sans Mono',consolas,'Courier New',monospace\"><span style=\"color: #800080; text-decoration-color: #800080; font-weight: bold\">Softmax</span><span style=\"font-weight: bold\">(Array)</span>\n",
       "<span style=\"font-weight: bold\">[[</span><span style=\"color: #008080; text-decoration-color: #008080; font-weight: bold\">5.01470895e-05</span><span style=\"font-weight: bold\"> </span><span style=\"color: #008080; text-decoration-color: #008080; font-weight: bold\">5.00176044e-04</span><span style=\"font-weight: bold\"> </span><span style=\"color: #008080; text-decoration-color: #008080; font-weight: bold\">9.99449670e-01</span><span style=\"font-weight: bold\">]</span>\n",
       "<span style=\"font-weight: bold\"> [</span><span style=\"color: #008080; text-decoration-color: #008080; font-weight: bold\">1.00204634e-04</span><span style=\"font-weight: bold\"> </span><span style=\"color: #008080; text-decoration-color: #008080; font-weight: bold\">9.91738021e-01</span><span style=\"font-weight: bold\"> </span><span style=\"color: #008080; text-decoration-color: #008080; font-weight: bold\">8.16175155e-03</span><span style=\"font-weight: bold\">]]</span>\n",
       "</pre>\n"
      ],
      "text/plain": [
       "\u001b[1;35mSoftmax\u001b[0m\u001b[1m(\u001b[0m\u001b[1mArray\u001b[0m\u001b[1m)\u001b[0m\n",
       "\u001b[1m[\u001b[0m\u001b[1m[\u001b[0m\u001b[1;36m5.01470895e-05\u001b[0m\u001b[1m \u001b[0m\u001b[1;36m5.00176044e-04\u001b[0m\u001b[1m \u001b[0m\u001b[1;36m9.99449670e-01\u001b[0m\u001b[1m]\u001b[0m\n",
       "\u001b[1m \u001b[0m\u001b[1m[\u001b[0m\u001b[1;36m1.00204634e-04\u001b[0m\u001b[1m \u001b[0m\u001b[1;36m9.91738021e-01\u001b[0m\u001b[1m \u001b[0m\u001b[1;36m8.16175155e-03\u001b[0m\u001b[1m]\u001b[0m\u001b[1m]\u001b[0m\n"
      ]
     },
     "metadata": {},
     "output_type": "display_data"
    }
   ],
   "source": [
    "arr = jnp.asarray([[0.1, 2.4, 10], [0.8, 10, 5.2]])\n",
    "print_matrix(\"Array\", arr)\n",
    "\n",
    "# apply softmax\n",
    "soft_arr = jax.nn.softmax(arr)\n",
    "print_matrix(\"Softmax(Array)\", soft_arr)"
   ]
  },
  {
   "cell_type": "markdown",
   "metadata": {},
   "source": [
    "### So Why Is That A Problem?\n",
    "\n",
    "This can become a serious issue in a neural network during back-propagation. Consider the derivative of the softmax (see [here](https://eli.thegreenplace.net/2016/the-softmax-function-and-its-derivative) for derivation)\n",
    "\n",
    "$$S_j = \\frac{e^{a_j}}{\\sum_{k=1}^{N} e^{a_k}} \\quad \\forall j \\in 1..N$$\n",
    "\n",
    "$$D_{j} S_{i} = \\begin{cases} \n",
    "S_{i}(1 - S_{j}) & \\text{if } i = j \\\\\n",
    "-S_{j} S_{i} & \\text{if } i \\neq j \n",
    "\\end{cases}$$\n",
    "\n",
    "When the softmax saturates, i.e. one value approaches 1 and others approach 0, this leads to the derivative being tiny (as per the equation above). This makes it much harder for the nueral network to learn as weight updates happen slower."
   ]
  },
  {
   "cell_type": "markdown",
   "metadata": {},
   "source": [
    "We want to avoid that when we multiply our `Queries` and `Keys` matrices. We want to make sure that they do not produce values, such that when they are passed through the softmax would result in a wild range of numbers causing the output of the softmax to saturate. \n",
    "\n",
    "Spoiler! That's why we apply the scaling, which is what other sources explain. However, let's see the details of why we need it. Why is it that the product of the `Quries` and `Keys` matrices results in numbers that would saturate the softmax?"
   ]
  },
  {
   "cell_type": "markdown",
   "metadata": {},
   "source": [
    "### Code Time!\n",
    "\n",
    "I am going to initialize two matrices where each entry is sampled from a standard normal distribution, i.e. $X \\sim \\mathcal{N}(0, 1)$\n",
    "\n",
    "<b>Why two matrices? Aren't there three in the attention equation?</b>\n",
    "\n",
    "Yes, there are! However, here we are going to forget about the last step of multiplying by the values matrix, we're concerned with the scaling factor!\n",
    "\n",
    "<b>Ok, and why sample from the standard normal distribution?</b>\n",
    "\n",
    "We want the mean of our values to be close to zero to ensure that we keep activiations of the neural network from exploding (but not zero because zero will result in zero gradients). For the variance, we want to keep the range of our values small specifically to avoid saturation when applying the softmax function. Too small of a variance could result in similar updates being made to many weights which could cause neurons to change symmetrically and lead to poorer model performance. On the other hand too large of a variance and we could end up with softmax saturation and vanishing gradients. A variance of `1` appears to be a reasonable choice.\n"
   ]
  },
  {
   "cell_type": "code",
   "execution_count": 65,
   "metadata": {},
   "outputs": [],
   "source": [
    "key1, key2 = random.split(main_rng, 2)"
   ]
  },
  {
   "cell_type": "code",
   "execution_count": 69,
   "metadata": {},
   "outputs": [],
   "source": [
    "batch_size = 1\n",
    "seq_len = 100\n",
    "d_q = d_k = 1000\n",
    "\n",
    "q = random.normal(key1, (batch_size, seq_len, d_q))\n",
    "k = random.normal(key2, (batch_size, seq_len, d_k))"
   ]
  },
  {
   "cell_type": "code",
   "execution_count": 70,
   "metadata": {},
   "outputs": [
    {
     "data": {
      "text/html": [
       "<pre style=\"white-space:pre;overflow-x:auto;line-height:normal;font-family:Menlo,'DejaVu Sans Mono',consolas,'Courier New',monospace\"><span style=\"font-weight: bold\">q mean: </span><span style=\"color: #008080; text-decoration-color: #008080; font-weight: bold\">-0.0005608737701550126</span><span style=\"font-weight: bold\">, std: </span><span style=\"color: #008080; text-decoration-color: #008080; font-weight: bold\">0.9991742372512817</span>\n",
       "</pre>\n"
      ],
      "text/plain": [
       "\u001b[1mq mean: \u001b[0m\u001b[1;36m-0.0005608737701550126\u001b[0m\u001b[1m, std: \u001b[0m\u001b[1;36m0.9991742372512817\u001b[0m\n"
      ]
     },
     "metadata": {},
     "output_type": "display_data"
    },
    {
     "data": {
      "text/html": [
       "<pre style=\"white-space:pre;overflow-x:auto;line-height:normal;font-family:Menlo,'DejaVu Sans Mono',consolas,'Courier New',monospace\"><span style=\"font-weight: bold\">k mean: </span><span style=\"color: #008080; text-decoration-color: #008080; font-weight: bold\">0.0010934597812592983</span><span style=\"font-weight: bold\">, std: </span><span style=\"color: #008080; text-decoration-color: #008080; font-weight: bold\">1.0024572610855103</span>\n",
       "</pre>\n"
      ],
      "text/plain": [
       "\u001b[1mk mean: \u001b[0m\u001b[1;36m0.0010934597812592983\u001b[0m\u001b[1m, std: \u001b[0m\u001b[1;36m1.0024572610855103\u001b[0m\n"
      ]
     },
     "metadata": {},
     "output_type": "display_data"
    }
   ],
   "source": [
    "# print mean and std of q and k\n",
    "print(f\"[bold]q mean: {jnp.mean(q)}, std: {jnp.std(q)}[/bold]\")\n",
    "print(f\"[bold]k mean: {jnp.mean(k)}, std: {jnp.std(k)}[/bold]\")"
   ]
  },
  {
   "cell_type": "markdown",
   "metadata": {},
   "source": [
    "Looking at their means and standard deviations, we see that they're close to the 0 and 1 we initialized them with. Great, no surprises there. \n",
    "Let's multiply the two (like in attention) and see what happens."
   ]
  },
  {
   "cell_type": "code",
   "execution_count": 73,
   "metadata": {},
   "outputs": [
    {
     "data": {
      "text/html": [
       "<pre style=\"white-space:pre;overflow-x:auto;line-height:normal;font-family:Menlo,'DejaVu Sans Mono',consolas,'Courier New',monospace\"><span style=\"font-weight: bold\">attn_logits</span>\n",
       "<span style=\"font-weight: bold\">[[[  </span><span style=\"color: #008080; text-decoration-color: #008080; font-weight: bold\">0.58258057</span><span style=\"font-weight: bold\">  </span><span style=\"color: #008080; text-decoration-color: #008080; font-weight: bold\">-6.9096413</span><span style=\"font-weight: bold\">   </span><span style=\"color: #008080; text-decoration-color: #008080; font-weight: bold\">32.7293</span><span style=\"font-weight: bold\">     </span><span style=\"color: #808000; text-decoration-color: #808000; font-weight: bold\">...</span><span style=\"font-weight: bold\">  </span><span style=\"color: #008080; text-decoration-color: #008080; font-weight: bold\">18.75351</span><span style=\"font-weight: bold\">    </span><span style=\"color: #008080; text-decoration-color: #008080; font-weight: bold\">-12.444878</span>\n",
       "<span style=\"font-weight: bold\">    </span><span style=\"color: #008080; text-decoration-color: #008080; font-weight: bold\">29.457623</span><span style=\"font-weight: bold\">  ]</span>\n",
       "<span style=\"font-weight: bold\">  [  </span><span style=\"color: #008080; text-decoration-color: #008080; font-weight: bold\">6.389431</span><span style=\"font-weight: bold\">    </span><span style=\"color: #008080; text-decoration-color: #008080; font-weight: bold\">24.134903</span><span style=\"font-weight: bold\">     </span><span style=\"color: #008080; text-decoration-color: #008080; font-weight: bold\">4.4726806</span><span style=\"font-weight: bold\">  </span><span style=\"color: #808000; text-decoration-color: #808000; font-weight: bold\">...</span><span style=\"font-weight: bold\">  </span><span style=\"color: #008080; text-decoration-color: #008080; font-weight: bold\">53.15055</span><span style=\"font-weight: bold\">     </span><span style=\"color: #008080; text-decoration-color: #008080; font-weight: bold\">23.586643</span>\n",
       "<span style=\"font-weight: bold\">    </span><span style=\"color: #008080; text-decoration-color: #008080; font-weight: bold\">27.149685</span><span style=\"font-weight: bold\">  ]</span>\n",
       "<span style=\"font-weight: bold\">  [</span><span style=\"color: #008080; text-decoration-color: #008080; font-weight: bold\">-29.103306</span><span style=\"font-weight: bold\">    </span><span style=\"color: #008080; text-decoration-color: #008080; font-weight: bold\">18.96471</span><span style=\"font-weight: bold\">     </span><span style=\"color: #008080; text-decoration-color: #008080; font-weight: bold\">69.86938</span><span style=\"font-weight: bold\">    </span><span style=\"color: #808000; text-decoration-color: #808000; font-weight: bold\">...</span><span style=\"font-weight: bold\">  </span><span style=\"color: #008080; text-decoration-color: #008080; font-weight: bold\">48.208244</span><span style=\"font-weight: bold\">   </span><span style=\"color: #008080; text-decoration-color: #008080; font-weight: bold\">-49.304134</span>\n",
       "<span style=\"font-weight: bold\">    </span><span style=\"color: #008080; text-decoration-color: #008080; font-weight: bold\">38.2608</span><span style=\"font-weight: bold\">    ]</span>\n",
       "<span style=\"font-weight: bold\">  </span><span style=\"color: #808000; text-decoration-color: #808000; font-weight: bold\">...</span>\n",
       "<span style=\"font-weight: bold\">  [ </span><span style=\"color: #008080; text-decoration-color: #008080; font-weight: bold\">10.397432</span><span style=\"font-weight: bold\">   </span><span style=\"color: #008080; text-decoration-color: #008080; font-weight: bold\">-38.604023</span><span style=\"font-weight: bold\">    </span><span style=\"color: #008080; text-decoration-color: #008080; font-weight: bold\">25.956514</span><span style=\"font-weight: bold\">   </span><span style=\"color: #808000; text-decoration-color: #808000; font-weight: bold\">...</span><span style=\"font-weight: bold\"> </span><span style=\"color: #008080; text-decoration-color: #008080; font-weight: bold\">-30.788982</span><span style=\"font-weight: bold\">    </span><span style=\"color: #008080; text-decoration-color: #008080; font-weight: bold\">20.908705</span>\n",
       "<span style=\"font-weight: bold\">    </span><span style=\"color: #008080; text-decoration-color: #008080; font-weight: bold\">77.33066</span><span style=\"font-weight: bold\">   ]</span>\n",
       "<span style=\"font-weight: bold\">  [ </span><span style=\"color: #008080; text-decoration-color: #008080; font-weight: bold\">-6.6769195</span><span style=\"font-weight: bold\">    </span><span style=\"color: #008080; text-decoration-color: #008080; font-weight: bold\">5.7138944</span><span style=\"font-weight: bold\">    </span><span style=\"color: #008080; text-decoration-color: #008080; font-weight: bold\">9.8476305</span><span style=\"font-weight: bold\">  </span><span style=\"color: #808000; text-decoration-color: #808000; font-weight: bold\">...</span><span style=\"font-weight: bold\">  </span><span style=\"color: #008080; text-decoration-color: #008080; font-weight: bold\">37.5526</span><span style=\"font-weight: bold\">       </span><span style=\"color: #008080; text-decoration-color: #008080; font-weight: bold\">1.2411785</span>\n",
       "<span style=\"font-weight: bold\">   </span><span style=\"color: #008080; text-decoration-color: #008080; font-weight: bold\">-10.840807</span><span style=\"font-weight: bold\">  ]</span>\n",
       "<span style=\"font-weight: bold\">  [ </span><span style=\"color: #008080; text-decoration-color: #008080; font-weight: bold\">34.355415</span><span style=\"font-weight: bold\">    </span><span style=\"color: #008080; text-decoration-color: #008080; font-weight: bold\">-6.8087406</span><span style=\"font-weight: bold\">   </span><span style=\"color: #008080; text-decoration-color: #008080; font-weight: bold\">27.63369</span><span style=\"font-weight: bold\">    </span><span style=\"color: #808000; text-decoration-color: #808000; font-weight: bold\">...</span><span style=\"font-weight: bold\"> </span><span style=\"color: #008080; text-decoration-color: #008080; font-weight: bold\">-17.313995</span><span style=\"font-weight: bold\">   </span><span style=\"color: #008080; text-decoration-color: #008080; font-weight: bold\">-16.589275</span>\n",
       "<span style=\"font-weight: bold\">    </span><span style=\"color: #008080; text-decoration-color: #008080; font-weight: bold\">20.30392</span><span style=\"font-weight: bold\">   ]]]</span>\n",
       "</pre>\n"
      ],
      "text/plain": [
       "\u001b[1mattn_logits\u001b[0m\n",
       "\u001b[1m[\u001b[0m\u001b[1m[\u001b[0m\u001b[1m[\u001b[0m\u001b[1m  \u001b[0m\u001b[1;36m0.58258057\u001b[0m\u001b[1m  \u001b[0m\u001b[1;36m-6.9096413\u001b[0m\u001b[1m   \u001b[0m\u001b[1;36m32.7293\u001b[0m\u001b[1m     \u001b[0m\u001b[1;33m...\u001b[0m\u001b[1m  \u001b[0m\u001b[1;36m18.75351\u001b[0m\u001b[1m    \u001b[0m\u001b[1;36m-12.444878\u001b[0m\n",
       "\u001b[1m    \u001b[0m\u001b[1;36m29.457623\u001b[0m\u001b[1m  \u001b[0m\u001b[1m]\u001b[0m\n",
       "\u001b[1m  \u001b[0m\u001b[1m[\u001b[0m\u001b[1m  \u001b[0m\u001b[1;36m6.389431\u001b[0m\u001b[1m    \u001b[0m\u001b[1;36m24.134903\u001b[0m\u001b[1m     \u001b[0m\u001b[1;36m4.4726806\u001b[0m\u001b[1m  \u001b[0m\u001b[1;33m...\u001b[0m\u001b[1m  \u001b[0m\u001b[1;36m53.15055\u001b[0m\u001b[1m     \u001b[0m\u001b[1;36m23.586643\u001b[0m\n",
       "\u001b[1m    \u001b[0m\u001b[1;36m27.149685\u001b[0m\u001b[1m  \u001b[0m\u001b[1m]\u001b[0m\n",
       "\u001b[1m  \u001b[0m\u001b[1m[\u001b[0m\u001b[1;36m-29.103306\u001b[0m\u001b[1m    \u001b[0m\u001b[1;36m18.96471\u001b[0m\u001b[1m     \u001b[0m\u001b[1;36m69.86938\u001b[0m\u001b[1m    \u001b[0m\u001b[1;33m...\u001b[0m\u001b[1m  \u001b[0m\u001b[1;36m48.208244\u001b[0m\u001b[1m   \u001b[0m\u001b[1;36m-49.304134\u001b[0m\n",
       "\u001b[1m    \u001b[0m\u001b[1;36m38.2608\u001b[0m\u001b[1m    \u001b[0m\u001b[1m]\u001b[0m\n",
       "\u001b[1m  \u001b[0m\u001b[1;33m...\u001b[0m\n",
       "\u001b[1m  \u001b[0m\u001b[1m[\u001b[0m\u001b[1m \u001b[0m\u001b[1;36m10.397432\u001b[0m\u001b[1m   \u001b[0m\u001b[1;36m-38.604023\u001b[0m\u001b[1m    \u001b[0m\u001b[1;36m25.956514\u001b[0m\u001b[1m   \u001b[0m\u001b[1;33m...\u001b[0m\u001b[1m \u001b[0m\u001b[1;36m-30.788982\u001b[0m\u001b[1m    \u001b[0m\u001b[1;36m20.908705\u001b[0m\n",
       "\u001b[1m    \u001b[0m\u001b[1;36m77.33066\u001b[0m\u001b[1m   \u001b[0m\u001b[1m]\u001b[0m\n",
       "\u001b[1m  \u001b[0m\u001b[1m[\u001b[0m\u001b[1m \u001b[0m\u001b[1;36m-6.6769195\u001b[0m\u001b[1m    \u001b[0m\u001b[1;36m5.7138944\u001b[0m\u001b[1m    \u001b[0m\u001b[1;36m9.8476305\u001b[0m\u001b[1m  \u001b[0m\u001b[1;33m...\u001b[0m\u001b[1m  \u001b[0m\u001b[1;36m37.5526\u001b[0m\u001b[1m       \u001b[0m\u001b[1;36m1.2411785\u001b[0m\n",
       "\u001b[1m   \u001b[0m\u001b[1;36m-10.840807\u001b[0m\u001b[1m  \u001b[0m\u001b[1m]\u001b[0m\n",
       "\u001b[1m  \u001b[0m\u001b[1m[\u001b[0m\u001b[1m \u001b[0m\u001b[1;36m34.355415\u001b[0m\u001b[1m    \u001b[0m\u001b[1;36m-6.8087406\u001b[0m\u001b[1m   \u001b[0m\u001b[1;36m27.63369\u001b[0m\u001b[1m    \u001b[0m\u001b[1;33m...\u001b[0m\u001b[1m \u001b[0m\u001b[1;36m-17.313995\u001b[0m\u001b[1m   \u001b[0m\u001b[1;36m-16.589275\u001b[0m\n",
       "\u001b[1m    \u001b[0m\u001b[1;36m20.30392\u001b[0m\u001b[1m   \u001b[0m\u001b[1m]\u001b[0m\u001b[1m]\u001b[0m\u001b[1m]\u001b[0m\n"
      ]
     },
     "metadata": {},
     "output_type": "display_data"
    },
    {
     "data": {
      "text/html": [
       "<pre style=\"white-space:pre;overflow-x:auto;line-height:normal;font-family:Menlo,'DejaVu Sans Mono',consolas,'Courier New',monospace\"><span style=\"font-weight: bold\">attn_logits mean: </span><span style=\"color: #008080; text-decoration-color: #008080; font-weight: bold\">-0.15942378342151642</span><span style=\"font-weight: bold\">, std: </span><span style=\"color: #008080; text-decoration-color: #008080; font-weight: bold\">31.27756118774414</span>\n",
       "</pre>\n"
      ],
      "text/plain": [
       "\u001b[1mattn_logits mean: \u001b[0m\u001b[1;36m-0.15942378342151642\u001b[0m\u001b[1m, std: \u001b[0m\u001b[1;36m31.27756118774414\u001b[0m\n"
      ]
     },
     "metadata": {},
     "output_type": "display_data"
    }
   ],
   "source": [
    "attn_logits = jnp.matmul(q, k.transpose((0, 2, 1)))\n",
    "print_matrix(\"attn_logits\", attn_logits)\n",
    "\n",
    "print(f\"[bold]attn_logits mean: {jnp.mean(attn_logits)}, std: {jnp.std(attn_logits)}[/bold]\")"
   ]
  },
  {
   "cell_type": "markdown",
   "metadata": {},
   "source": [
    "OOOOF!! The standard deviation (and therefore the variance) of our values has sky-rocketed! Let's plot a historgram of the values of the resultant matrix"
   ]
  },
  {
   "cell_type": "code",
   "execution_count": 84,
   "metadata": {},
   "outputs": [
    {
     "data": {
      "image/png": "[encoded data removed]",
      "text/plain": [
       "<Figure size 640x480 with 1 Axes>"
      ]
     },
     "metadata": {},
     "output_type": "display_data"
    }
   ],
   "source": [
    "# histogram of attn_logits, y axis is log scale\n",
    "plt.hist(attn_logits.flatten(), bins=100);\n",
    "plt.yscale('log')"
   ]
  },
  {
   "cell_type": "markdown",
   "metadata": {},
   "source": [
    "Ok, now let's apply the softmax and see what happens"
   ]
  },
  {
   "cell_type": "code",
   "execution_count": 81,
   "metadata": {},
   "outputs": [
    {
     "data": {
      "text/html": [
       "<pre style=\"white-space:pre;overflow-x:auto;line-height:normal;font-family:Menlo,'DejaVu Sans Mono',consolas,'Courier New',monospace\"><span style=\"font-weight: bold\">attn_weights</span>\n",
       "<span style=\"font-weight: bold\">[[[</span><span style=\"color: #008080; text-decoration-color: #008080; font-weight: bold\">5.7114778e-32</span><span style=\"font-weight: bold\"> </span><span style=\"color: #008080; text-decoration-color: #008080; font-weight: bold\">3.1836081e-35</span><span style=\"font-weight: bold\"> </span><span style=\"color: #008080; text-decoration-color: #008080; font-weight: bold\">5.2226629e-18</span><span style=\"font-weight: bold\"> </span><span style=\"color: #808000; text-decoration-color: #808000; font-weight: bold\">...</span><span style=\"font-weight: bold\"> </span><span style=\"color: #008080; text-decoration-color: #008080; font-weight: bold\">4.4492078e-24</span>\n",
       "<span style=\"font-weight: bold\">   </span><span style=\"color: #008080; text-decoration-color: #008080; font-weight: bold\">1.2560164e-37</span><span style=\"font-weight: bold\"> </span><span style=\"color: #008080; text-decoration-color: #008080; font-weight: bold\">1.9816179e-19</span><span style=\"font-weight: bold\">]</span>\n",
       "<span style=\"font-weight: bold\">  [</span><span style=\"color: #008080; text-decoration-color: #008080; font-weight: bold\">1.1625383e-33</span><span style=\"font-weight: bold\"> </span><span style=\"color: #008080; text-decoration-color: #008080; font-weight: bold\">5.9178798e-26</span><span style=\"font-weight: bold\"> </span><span style=\"color: #008080; text-decoration-color: #008080; font-weight: bold\">1.7099006e-34</span><span style=\"font-weight: bold\"> </span><span style=\"color: #808000; text-decoration-color: #808000; font-weight: bold\">...</span><span style=\"font-weight: bold\"> </span><span style=\"color: #008080; text-decoration-color: #008080; font-weight: bold\">2.3632078e-13</span>\n",
       "<span style=\"font-weight: bold\">   </span><span style=\"color: #008080; text-decoration-color: #008080; font-weight: bold\">3.4202667e-26</span><span style=\"font-weight: bold\"> </span><span style=\"color: #008080; text-decoration-color: #008080; font-weight: bold\">1.2063388e-24</span><span style=\"font-weight: bold\">]</span>\n",
       "<span style=\"font-weight: bold\">  [</span><span style=\"color: #008080; text-decoration-color: #008080; font-weight: bold\">0.0000000e+00</span><span style=\"font-weight: bold\"> </span><span style=\"color: #008080; text-decoration-color: #008080; font-weight: bold\">4.2237502e-32</span><span style=\"font-weight: bold\"> </span><span style=\"color: #008080; text-decoration-color: #008080; font-weight: bold\">5.4114768e-10</span><span style=\"font-weight: bold\"> </span><span style=\"color: #808000; text-decoration-color: #808000; font-weight: bold\">...</span><span style=\"font-weight: bold\"> </span><span style=\"color: #008080; text-decoration-color: #008080; font-weight: bold\">2.1183873e-19</span>\n",
       "<span style=\"font-weight: bold\">   </span><span style=\"color: #008080; text-decoration-color: #008080; font-weight: bold\">0.0000000e+00</span><span style=\"font-weight: bold\"> </span><span style=\"color: #008080; text-decoration-color: #008080; font-weight: bold\">1.0136427e-23</span><span style=\"font-weight: bold\">]</span>\n",
       "<span style=\"font-weight: bold\">  </span><span style=\"color: #808000; text-decoration-color: #808000; font-weight: bold\">...</span>\n",
       "<span style=\"font-weight: bold\">  [</span><span style=\"color: #008080; text-decoration-color: #008080; font-weight: bold\">5.8082027e-31</span><span style=\"font-weight: bold\"> </span><span style=\"color: #008080; text-decoration-color: #008080; font-weight: bold\">0.0000000e+00</span><span style=\"font-weight: bold\"> </span><span style=\"color: #008080; text-decoration-color: #008080; font-weight: bold\">3.3209723e-24</span><span style=\"font-weight: bold\"> </span><span style=\"color: #808000; text-decoration-color: #808000; font-weight: bold\">...</span><span style=\"font-weight: bold\"> </span><span style=\"color: #008080; text-decoration-color: #008080; font-weight: bold\">0.0000000e+00</span>\n",
       "<span style=\"font-weight: bold\">   </span><span style=\"color: #008080; text-decoration-color: #008080; font-weight: bold\">2.1331973e-26</span><span style=\"font-weight: bold\"> </span><span style=\"color: #008080; text-decoration-color: #008080; font-weight: bold\">6.8041377e-02</span><span style=\"font-weight: bold\">]</span>\n",
       "<span style=\"font-weight: bold\">  [</span><span style=\"color: #008080; text-decoration-color: #008080; font-weight: bold\">0.0000000e+00</span><span style=\"font-weight: bold\"> </span><span style=\"color: #008080; text-decoration-color: #008080; font-weight: bold\">0.0000000e+00</span><span style=\"font-weight: bold\"> </span><span style=\"color: #008080; text-decoration-color: #008080; font-weight: bold\">0.0000000e+00</span><span style=\"font-weight: bold\"> </span><span style=\"color: #808000; text-decoration-color: #808000; font-weight: bold\">...</span><span style=\"font-weight: bold\"> </span><span style=\"color: #008080; text-decoration-color: #008080; font-weight: bold\">3.3019265e-33</span>\n",
       "<span style=\"font-weight: bold\">   </span><span style=\"color: #008080; text-decoration-color: #008080; font-weight: bold\">0.0000000e+00</span><span style=\"font-weight: bold\"> </span><span style=\"color: #008080; text-decoration-color: #008080; font-weight: bold\">0.0000000e+00</span><span style=\"font-weight: bold\">]</span>\n",
       "<span style=\"font-weight: bold\">  [</span><span style=\"color: #008080; text-decoration-color: #008080; font-weight: bold\">9.8961004e-12</span><span style=\"font-weight: bold\"> </span><span style=\"color: #008080; text-decoration-color: #008080; font-weight: bold\">1.3124943e-29</span><span style=\"font-weight: bold\"> </span><span style=\"color: #008080; text-decoration-color: #008080; font-weight: bold\">1.1919438e-14</span><span style=\"font-weight: bold\"> </span><span style=\"color: #808000; text-decoration-color: #808000; font-weight: bold\">...</span><span style=\"font-weight: bold\"> </span><span style=\"color: #008080; text-decoration-color: #008080; font-weight: bold\">3.5952226e-34</span>\n",
       "<span style=\"font-weight: bold\">   </span><span style=\"color: #008080; text-decoration-color: #008080; font-weight: bold\">7.4210611e-34</span><span style=\"font-weight: bold\"> </span><span style=\"color: #008080; text-decoration-color: #008080; font-weight: bold\">7.8158733e-18</span><span style=\"font-weight: bold\">]]]</span>\n",
       "</pre>\n"
      ],
      "text/plain": [
       "\u001b[1mattn_weights\u001b[0m\n",
       "\u001b[1m[\u001b[0m\u001b[1m[\u001b[0m\u001b[1m[\u001b[0m\u001b[1;36m5.7114778e-32\u001b[0m\u001b[1m \u001b[0m\u001b[1;36m3.1836081e-35\u001b[0m\u001b[1m \u001b[0m\u001b[1;36m5.2226629e-18\u001b[0m\u001b[1m \u001b[0m\u001b[1;33m...\u001b[0m\u001b[1m \u001b[0m\u001b[1;36m4.4492078e-24\u001b[0m\n",
       "\u001b[1m   \u001b[0m\u001b[1;36m1.2560164e-37\u001b[0m\u001b[1m \u001b[0m\u001b[1;36m1.9816179e-19\u001b[0m\u001b[1m]\u001b[0m\n",
       "\u001b[1m  \u001b[0m\u001b[1m[\u001b[0m\u001b[1;36m1.1625383e-33\u001b[0m\u001b[1m \u001b[0m\u001b[1;36m5.9178798e-26\u001b[0m\u001b[1m \u001b[0m\u001b[1;36m1.7099006e-34\u001b[0m\u001b[1m \u001b[0m\u001b[1;33m...\u001b[0m\u001b[1m \u001b[0m\u001b[1;36m2.3632078e-13\u001b[0m\n",
       "\u001b[1m   \u001b[0m\u001b[1;36m3.4202667e-26\u001b[0m\u001b[1m \u001b[0m\u001b[1;36m1.2063388e-24\u001b[0m\u001b[1m]\u001b[0m\n",
       "\u001b[1m  \u001b[0m\u001b[1m[\u001b[0m\u001b[1;36m0.0000000e+00\u001b[0m\u001b[1m \u001b[0m\u001b[1;36m4.2237502e-32\u001b[0m\u001b[1m \u001b[0m\u001b[1;36m5.4114768e-10\u001b[0m\u001b[1m \u001b[0m\u001b[1;33m...\u001b[0m\u001b[1m \u001b[0m\u001b[1;36m2.1183873e-19\u001b[0m\n",
       "\u001b[1m   \u001b[0m\u001b[1;36m0.0000000e+00\u001b[0m\u001b[1m \u001b[0m\u001b[1;36m1.0136427e-23\u001b[0m\u001b[1m]\u001b[0m\n",
       "\u001b[1m  \u001b[0m\u001b[1;33m...\u001b[0m\n",
       "\u001b[1m  \u001b[0m\u001b[1m[\u001b[0m\u001b[1;36m5.8082027e-31\u001b[0m\u001b[1m \u001b[0m\u001b[1;36m0.0000000e+00\u001b[0m\u001b[1m \u001b[0m\u001b[1;36m3.3209723e-24\u001b[0m\u001b[1m \u001b[0m\u001b[1;33m...\u001b[0m\u001b[1m \u001b[0m\u001b[1;36m0.0000000e+00\u001b[0m\n",
       "\u001b[1m   \u001b[0m\u001b[1;36m2.1331973e-26\u001b[0m\u001b[1m \u001b[0m\u001b[1;36m6.8041377e-02\u001b[0m\u001b[1m]\u001b[0m\n",
       "\u001b[1m  \u001b[0m\u001b[1m[\u001b[0m\u001b[1;36m0.0000000e+00\u001b[0m\u001b[1m \u001b[0m\u001b[1;36m0.0000000e+00\u001b[0m\u001b[1m \u001b[0m\u001b[1;36m0.0000000e+00\u001b[0m\u001b[1m \u001b[0m\u001b[1;33m...\u001b[0m\u001b[1m \u001b[0m\u001b[1;36m3.3019265e-33\u001b[0m\n",
       "\u001b[1m   \u001b[0m\u001b[1;36m0.0000000e+00\u001b[0m\u001b[1m \u001b[0m\u001b[1;36m0.0000000e+00\u001b[0m\u001b[1m]\u001b[0m\n",
       "\u001b[1m  \u001b[0m\u001b[1m[\u001b[0m\u001b[1;36m9.8961004e-12\u001b[0m\u001b[1m \u001b[0m\u001b[1;36m1.3124943e-29\u001b[0m\u001b[1m \u001b[0m\u001b[1;36m1.1919438e-14\u001b[0m\u001b[1m \u001b[0m\u001b[1;33m...\u001b[0m\u001b[1m \u001b[0m\u001b[1;36m3.5952226e-34\u001b[0m\n",
       "\u001b[1m   \u001b[0m\u001b[1;36m7.4210611e-34\u001b[0m\u001b[1m \u001b[0m\u001b[1;36m7.8158733e-18\u001b[0m\u001b[1m]\u001b[0m\u001b[1m]\u001b[0m\u001b[1m]\u001b[0m\n"
      ]
     },
     "metadata": {},
     "output_type": "display_data"
    },
    {
     "data": {
      "text/html": [
       "<pre style=\"white-space:pre;overflow-x:auto;line-height:normal;font-family:Menlo,'DejaVu Sans Mono',consolas,'Courier New',monospace\"><span style=\"font-weight: bold\">attn_weights mean: </span><span style=\"color: #008080; text-decoration-color: #008080; font-weight: bold\">0.009999999776482582</span><span style=\"font-weight: bold\">, std: </span><span style=\"color: #008080; text-decoration-color: #008080; font-weight: bold\">0.09621075540781021</span>\n",
       "</pre>\n"
      ],
      "text/plain": [
       "\u001b[1mattn_weights mean: \u001b[0m\u001b[1;36m0.009999999776482582\u001b[0m\u001b[1m, std: \u001b[0m\u001b[1;36m0.09621075540781021\u001b[0m\n"
      ]
     },
     "metadata": {},
     "output_type": "display_data"
    }
   ],
   "source": [
    "attn_weights = jax.nn.softmax(attn_logits)\n",
    "\n",
    "print_matrix(\"attn_weights\", attn_weights)\n",
    "print(f\"[bold]attn_weights mean: {jnp.mean(attn_weights)}, std: {jnp.std(attn_weights)}[/bold]\")"
   ]
  },
  {
   "cell_type": "code",
   "execution_count": 86,
   "metadata": {},
   "outputs": [
    {
     "data": {
      "image/png": "[encoded data removed]",
      "text/plain": [
       "<Figure size 640x480 with 1 Axes>"
      ]
     },
     "metadata": {},
     "output_type": "display_data"
    }
   ],
   "source": [
    "plt.hist(attn_weights.flatten(), bins=100);\n",
    "plt.yscale('log')"
   ]
  },
  {
   "cell_type": "markdown",
   "metadata": {},
   "source": [
    "We see two peaks, one at 0 and another at 1, which tells us that there are many places where the softmax is pushed to its extreme values. As we saw before that has an effect on the gradients, specifically leading to really small gradient values. "
   ]
  },
  {
   "cell_type": "markdown",
   "metadata": {},
   "source": [
    "### What's Going On and How Do We Fix That?"
   ]
  },
  {
   "cell_type": "markdown",
   "metadata": {},
   "source": [
    "Time for some math! Check out this [post](https://ai.stackexchange.com/questions/21237/why-does-this-multiplication-of-q-and-k-have-a-variance-of-d-k-in-scaled) for some more info!"
   ]
  },
  {
   "cell_type": "markdown",
   "metadata": {},
   "source": [
    "Our `Q` and `K` matrices have values that are sampled from a standard normal distribution. Let's call values of `Q` random variables `X` and values of `K` random variables `Y`, where `X` and `Y` are independent random variables. Since all values will be independent and identically distributed (iid) let's consider an arbitrary entry in both matrices $X_ii$ and $Y_jj$\n",
    "\n",
    "$$ X_ii \\sim \\mathcal{N}(0, 1)$$\n",
    "$$ Y_jj \\sim \\mathcal{N}(0, 1)$$\n",
    "\n",
    "we also know that\n",
    "\n",
    "$$\\mathbb{E}[X_ii] = \\mathbb{E}[Y_jj] = 1$$\n",
    "$$Var[X_ii] = Var[Y_jj] = 1$$\n",
    "\n",
    "We observed earlier that when we multiply our two matrices, the variance explodes. Therefore, it would be great if we could figure out an expression for the variance of our matrix product since that could give us insights into what's going on. How do we find an expression for the variance of an entry of our result matrix? \n",
    "\n",
    "Let's start by calling our result matrix `R`, it's defined as \n",
    "\n",
    "$$R = Q \\cdot K^T$$\n",
    "\n",
    "What does a single entry in `R` look like? What are the operations that result in that value? \n",
    "Assuming you are familar with linear algebra, a single value of `R`, say $R_{r,c}$ is defined as the vector dot product between row `r` of the `Q` matrix and column `c` of the $K^T$ matrix. It looks something like this\n",
    "\n",
    "$$\n",
    "\\begin{bmatrix}\n",
    "- & Q_r & - \\\\\n",
    "\\end{bmatrix}\n",
    "\\begin{bmatrix}\n",
    "|\\\\\n",
    "K^T_c \\\\\n",
    "|\\\\\n",
    "\\end{bmatrix} = Q_{r1} * K^T_{c1} + Q_{r2} * K^T_{c2} + \\ldots = \\sum_{d=dim(Q_{r})=dim(K^T_{c})}Q_{rd} * K^T_{cd}\n",
    "$$\n",
    "\n",
    "Let's take a quick step back and remember that values from our `Q` and `K` matrices are random variables `X` and `Y`. This means that a single entry of our `R` (result) matrix will be a random variable as well. Let's call it `Z_l`. The expected value and variance of `Z_l` will be given by\n",
    "\n",
    "$$\\mathbb{E}[Z_l] = \\mathbb{E}[\\sum_{d}Q_{rd} * K^T_{cd}] = \\mathbb{E}[\\sum_{d}X_{rd} * Y_{cd}]$$\n",
    "$$Var[Z_l] = Var[\\sum_{d}Q_{rd} * K^T_{cd}] = Var[\\sum_{d}X_{rd} * Y_{cd}]$$\n",
    "\n",
    "Cool. So what on earth do we do with that? We recall that `X` and `Y` are independent and identically distributed. We also recall the following proporties for expectations and variances of IID variables.\n",
    "\n",
    "$$\\mathbb{E}[X + Y] = \\mathbb{E}[X] + \\mathbb{E}[Y]$$\n",
    "$$Var[X + Y] = Var[X] + Var[Y]$$\n",
    "\n",
    "This means we can rewrite our equations from before as\n",
    "\n",
    "$$\\mathbb{E}[Z_l] = \\mathbb{E}[\\sum_{d}X_{rd} * Y_{cd}] = \\sum_{d}\\mathbb{E}[X_{rd} * Y_{cd}]$$\n",
    "$$Var[Z_l] = Var[\\sum_{d}Q_{rd} * K^T_{cd}] = \\sum_{d}Var[X_{rd} * Y_{cd}]$$\n",
    "\n",
    "Ok, awesome! But what now?\n",
    "Let's tackle our expected value first. We recall another property of expectations of IID random variables\n",
    "$$\\mathbb{E}[XY] = \\mathbb{E}[X]\\mathbb{E}[Y]$$\n",
    "\n",
    "Which lets us re-write our expected value of `Z` as \n",
    "$$\\mathbb{E}[Z_l] = \\sum_{d}\\mathbb{E}[X_{rd} * Y_{cd}] = \\sum_{d}\\mathbb{E}[X_{rd}] * \\mathbb{E}[Y_{cd}] = \\sum_{d}0 * 0 = 0$$\n",
    "\n",
    "That's great, because it's in line with what we saw when we did our experiment earlier. However, what do we do with the variance? That one is a bit tougher. I did not recall the equation for the variance of the product of two random variables, so I re-derived it from the defintion of variance. The derivation will be added at the very end, since it takes up a bit of space. I would have personally wanted to see it so I'm sure others will too! \n",
    "\n",
    "$$Var[XY] = (Var[X] + \\mathbb{E}[X]^2) * (Var[Y] + \\mathbb{E}[Y]^2)$$\n",
    "\n",
    "In our case, this means that \n",
    "\n",
    "$$Var[X_{rd} * Y_{cd}] = (Var[X_{rd}] + \\mathbb{E}[X_{rd}]^2) * (Var[Y_{cd}] + \\mathbb{E}[Y_{cd}]^2) = Var[X_{rd}] * Var[Y_{cd}]$$\n",
    "\n",
    "Finally, we substitute this result into our earlier definition of $Var[Z_l]$ to get\n",
    "\n",
    "$$Var[Z_l] = \\sum_{d}Var[X_{rd} * Y_{cd}] = \\sum_{d}Var[X_{rd}] * Var[Y_{cd}]$$\n",
    "\n",
    "From earlier we know that $Var[X_{rd}] = Var[Y_{cd}] = 1$, so therefore\n",
    "\n",
    "$$Var[Z_l] = \\sum_{d}Var[X_{rd}] * Var[Y_{cd}] = \\sum_{d} 1 = d$$\n",
    "\n",
    "Putting all of that together, we get that our $Z_{ll}$ variable, which is a single entry of our result `R` matrix (product between `Q` and `K` matrices) is a random variable distributed according to \n",
    "\n",
    "$$Z_{ll} \\sim \\mathcal{N}(0, \\sqrt{d})$$"
   ]
  },
  {
   "cell_type": "markdown",
   "metadata": {},
   "source": [
    "What this means is, that when we multiply the queries and keys matrices, we get values that have a much larger range than the one we started out with. Our initial `Q` and `K` matrices had a variance of `1` while our result matrix has a variance of $d^2$. Does this line up with our experimental observations? \n",
    "\n",
    "Well, from before we saw that our logits matrix had mean and std of \n",
    "\n",
    "`attn_logits mean: -0.15942378342151642, std: 31.27756118774414`\n",
    "\n",
    "Squaring the standard deviation we get `961`, while our `d` in this case is `1000`, so yes, our experimental observations are pretty close!"
   ]
  },
  {
   "cell_type": "markdown",
   "metadata": {},
   "source": [
    "You might already see how we are going to fix it. We want the variance of our result matrix to be equal to `1`, in other words $Var[Z_{ll}] = 1$\n",
    "\n",
    "What do we need to do for that? Let's see!\n",
    "\n",
    "$$Var[Z_{ll}] = \\sum_{d}Var[X_{rd}] * Var[Y_{cd}] = \\sum_{d} 1 = d$$\n",
    "\n",
    "Therefore \n",
    "\n",
    "$$\\frac{1}{d} * Var[Z_{ll}] = \\frac{1}{d} * \\sum_{d}Var[X_{rd}] * Var[Y_{cd}] = \\frac{1}{d} * \\sum_{d} 1 = \\frac{d}{d} = 1$$\n",
    "\n",
    "However, we know that \n",
    "$$Var[cX] = \\mathbb{E}[c^2X^2] - \\mathbb{E}[cX]^2 = c^2 * \\mathbb{E}[X^2] - c^2 * \\mathbb{E}[X]^2 = c^2 * (\\mathbb{E}[X^2] - \\mathbb{E}[X]^2) = c^2 * Var[X]$$\n",
    "\n",
    "Aaaand, therefore\n",
    "\n",
    "$$\\frac{1}{d} * Var[Z_l] = Var[\\frac{1}{\\sqrt{d}} Z_{ll}]$$\n",
    "\n",
    "Finally, we see that by dividing the product of the `Q` and `K` matrices by the square root of `d`, we ensure that the entries in our result matrix have a variance of 1! \n",
    "\n",
    "Let's see this in code!"
   ]
  },
  {
   "cell_type": "code",
   "execution_count": 88,
   "metadata": {},
   "outputs": [
    {
     "data": {
      "text/html": [
       "<pre style=\"white-space:pre;overflow-x:auto;line-height:normal;font-family:Menlo,'DejaVu Sans Mono',consolas,'Courier New',monospace\"><span style=\"font-weight: bold\">attn_logits</span>\n",
       "<span style=\"font-weight: bold\">[[[ </span><span style=\"color: #008080; text-decoration-color: #008080; font-weight: bold\">0.01842282</span><span style=\"font-weight: bold\"> </span><span style=\"color: #008080; text-decoration-color: #008080; font-weight: bold\">-0.21850204</span><span style=\"font-weight: bold\">  </span><span style=\"color: #008080; text-decoration-color: #008080; font-weight: bold\">1.0349914</span><span style=\"font-weight: bold\">  </span><span style=\"color: #808000; text-decoration-color: #808000; font-weight: bold\">...</span><span style=\"font-weight: bold\">  </span><span style=\"color: #008080; text-decoration-color: #008080; font-weight: bold\">0.5930381</span><span style=\"font-weight: bold\">  </span><span style=\"color: #008080; text-decoration-color: #008080; font-weight: bold\">-0.3935416</span>\n",
       "<span style=\"font-weight: bold\">    </span><span style=\"color: #008080; text-decoration-color: #008080; font-weight: bold\">0.93153185</span><span style=\"font-weight: bold\">]</span>\n",
       "<span style=\"font-weight: bold\">  [ </span><span style=\"color: #008080; text-decoration-color: #008080; font-weight: bold\">0.20205155</span><span style=\"font-weight: bold\">  </span><span style=\"color: #008080; text-decoration-color: #008080; font-weight: bold\">0.7632127</span><span style=\"font-weight: bold\">   </span><span style=\"color: #008080; text-decoration-color: #008080; font-weight: bold\">0.14143857</span><span style=\"font-weight: bold\"> </span><span style=\"color: #808000; text-decoration-color: #808000; font-weight: bold\">...</span><span style=\"font-weight: bold\">  </span><span style=\"color: #008080; text-decoration-color: #008080; font-weight: bold\">1.680768</span><span style=\"font-weight: bold\">    </span><span style=\"color: #008080; text-decoration-color: #008080; font-weight: bold\">0.7458752</span>\n",
       "<span style=\"font-weight: bold\">    </span><span style=\"color: #008080; text-decoration-color: #008080; font-weight: bold\">0.85854846</span><span style=\"font-weight: bold\">]</span>\n",
       "<span style=\"font-weight: bold\">  [</span><span style=\"color: #008080; text-decoration-color: #008080; font-weight: bold\">-0.92032737</span><span style=\"font-weight: bold\">  </span><span style=\"color: #008080; text-decoration-color: #008080; font-weight: bold\">0.5997168</span><span style=\"font-weight: bold\">   </span><span style=\"color: #008080; text-decoration-color: #008080; font-weight: bold\">2.2094638</span><span style=\"font-weight: bold\">  </span><span style=\"color: #808000; text-decoration-color: #808000; font-weight: bold\">...</span><span style=\"font-weight: bold\">  </span><span style=\"color: #008080; text-decoration-color: #008080; font-weight: bold\">1.5244786</span><span style=\"font-weight: bold\">  </span><span style=\"color: #008080; text-decoration-color: #008080; font-weight: bold\">-1.5591336</span>\n",
       "<span style=\"font-weight: bold\">    </span><span style=\"color: #008080; text-decoration-color: #008080; font-weight: bold\">1.2099128</span><span style=\"font-weight: bold\"> ]</span>\n",
       "<span style=\"font-weight: bold\">  </span><span style=\"color: #808000; text-decoration-color: #808000; font-weight: bold\">...</span>\n",
       "<span style=\"font-weight: bold\">  [ </span><span style=\"color: #008080; text-decoration-color: #008080; font-weight: bold\">0.32879567</span><span style=\"font-weight: bold\"> </span><span style=\"color: #008080; text-decoration-color: #008080; font-weight: bold\">-1.2207664</span><span style=\"font-weight: bold\">   </span><span style=\"color: #008080; text-decoration-color: #008080; font-weight: bold\">0.82081705</span><span style=\"font-weight: bold\"> </span><span style=\"color: #808000; text-decoration-color: #808000; font-weight: bold\">...</span><span style=\"font-weight: bold\"> </span><span style=\"color: #008080; text-decoration-color: #008080; font-weight: bold\">-0.9736331</span><span style=\"font-weight: bold\">   </span><span style=\"color: #008080; text-decoration-color: #008080; font-weight: bold\">0.6611913</span>\n",
       "<span style=\"font-weight: bold\">    </span><span style=\"color: #008080; text-decoration-color: #008080; font-weight: bold\">2.4454103</span><span style=\"font-weight: bold\"> ]</span>\n",
       "<span style=\"font-weight: bold\">  [</span><span style=\"color: #008080; text-decoration-color: #008080; font-weight: bold\">-0.21114273</span><span style=\"font-weight: bold\">  </span><span style=\"color: #008080; text-decoration-color: #008080; font-weight: bold\">0.18068922</span><span style=\"font-weight: bold\">  </span><span style=\"color: #008080; text-decoration-color: #008080; font-weight: bold\">0.3114094</span><span style=\"font-weight: bold\">  </span><span style=\"color: #808000; text-decoration-color: #808000; font-weight: bold\">...</span><span style=\"font-weight: bold\">  </span><span style=\"color: #008080; text-decoration-color: #008080; font-weight: bold\">1.1875175</span><span style=\"font-weight: bold\">   </span><span style=\"color: #008080; text-decoration-color: #008080; font-weight: bold\">0.03924951</span>\n",
       "<span style=\"font-weight: bold\">   </span><span style=\"color: #008080; text-decoration-color: #008080; font-weight: bold\">-0.3428164</span><span style=\"font-weight: bold\"> ]</span>\n",
       "<span style=\"font-weight: bold\">  [ </span><span style=\"color: #008080; text-decoration-color: #008080; font-weight: bold\">1.0864136</span><span style=\"font-weight: bold\">  </span><span style=\"color: #008080; text-decoration-color: #008080; font-weight: bold\">-0.21531129</span><span style=\"font-weight: bold\">  </span><span style=\"color: #008080; text-decoration-color: #008080; font-weight: bold\">0.87385404</span><span style=\"font-weight: bold\"> </span><span style=\"color: #808000; text-decoration-color: #808000; font-weight: bold\">...</span><span style=\"font-weight: bold\"> </span><span style=\"color: #008080; text-decoration-color: #008080; font-weight: bold\">-0.54751664</span><span style=\"font-weight: bold\"> </span><span style=\"color: #008080; text-decoration-color: #008080; font-weight: bold\">-0.52459896</span>\n",
       "<span style=\"font-weight: bold\">    </span><span style=\"color: #008080; text-decoration-color: #008080; font-weight: bold\">0.64206636</span><span style=\"font-weight: bold\">]]]</span>\n",
       "</pre>\n"
      ],
      "text/plain": [
       "\u001b[1mattn_logits\u001b[0m\n",
       "\u001b[1m[\u001b[0m\u001b[1m[\u001b[0m\u001b[1m[\u001b[0m\u001b[1m \u001b[0m\u001b[1;36m0.01842282\u001b[0m\u001b[1m \u001b[0m\u001b[1;36m-0.21850204\u001b[0m\u001b[1m  \u001b[0m\u001b[1;36m1.0349914\u001b[0m\u001b[1m  \u001b[0m\u001b[1;33m...\u001b[0m\u001b[1m  \u001b[0m\u001b[1;36m0.5930381\u001b[0m\u001b[1m  \u001b[0m\u001b[1;36m-0.3935416\u001b[0m\n",
       "\u001b[1m    \u001b[0m\u001b[1;36m0.93153185\u001b[0m\u001b[1m]\u001b[0m\n",
       "\u001b[1m  \u001b[0m\u001b[1m[\u001b[0m\u001b[1m \u001b[0m\u001b[1;36m0.20205155\u001b[0m\u001b[1m  \u001b[0m\u001b[1;36m0.7632127\u001b[0m\u001b[1m   \u001b[0m\u001b[1;36m0.14143857\u001b[0m\u001b[1m \u001b[0m\u001b[1;33m...\u001b[0m\u001b[1m  \u001b[0m\u001b[1;36m1.680768\u001b[0m\u001b[1m    \u001b[0m\u001b[1;36m0.7458752\u001b[0m\n",
       "\u001b[1m    \u001b[0m\u001b[1;36m0.85854846\u001b[0m\u001b[1m]\u001b[0m\n",
       "\u001b[1m  \u001b[0m\u001b[1m[\u001b[0m\u001b[1;36m-0.92032737\u001b[0m\u001b[1m  \u001b[0m\u001b[1;36m0.5997168\u001b[0m\u001b[1m   \u001b[0m\u001b[1;36m2.2094638\u001b[0m\u001b[1m  \u001b[0m\u001b[1;33m...\u001b[0m\u001b[1m  \u001b[0m\u001b[1;36m1.5244786\u001b[0m\u001b[1m  \u001b[0m\u001b[1;36m-1.5591336\u001b[0m\n",
       "\u001b[1m    \u001b[0m\u001b[1;36m1.2099128\u001b[0m\u001b[1m \u001b[0m\u001b[1m]\u001b[0m\n",
       "\u001b[1m  \u001b[0m\u001b[1;33m...\u001b[0m\n",
       "\u001b[1m  \u001b[0m\u001b[1m[\u001b[0m\u001b[1m \u001b[0m\u001b[1;36m0.32879567\u001b[0m\u001b[1m \u001b[0m\u001b[1;36m-1.2207664\u001b[0m\u001b[1m   \u001b[0m\u001b[1;36m0.82081705\u001b[0m\u001b[1m \u001b[0m\u001b[1;33m...\u001b[0m\u001b[1m \u001b[0m\u001b[1;36m-0.9736331\u001b[0m\u001b[1m   \u001b[0m\u001b[1;36m0.6611913\u001b[0m\n",
       "\u001b[1m    \u001b[0m\u001b[1;36m2.4454103\u001b[0m\u001b[1m \u001b[0m\u001b[1m]\u001b[0m\n",
       "\u001b[1m  \u001b[0m\u001b[1m[\u001b[0m\u001b[1;36m-0.21114273\u001b[0m\u001b[1m  \u001b[0m\u001b[1;36m0.18068922\u001b[0m\u001b[1m  \u001b[0m\u001b[1;36m0.3114094\u001b[0m\u001b[1m  \u001b[0m\u001b[1;33m...\u001b[0m\u001b[1m  \u001b[0m\u001b[1;36m1.1875175\u001b[0m\u001b[1m   \u001b[0m\u001b[1;36m0.03924951\u001b[0m\n",
       "\u001b[1m   \u001b[0m\u001b[1;36m-0.3428164\u001b[0m\u001b[1m \u001b[0m\u001b[1m]\u001b[0m\n",
       "\u001b[1m  \u001b[0m\u001b[1m[\u001b[0m\u001b[1m \u001b[0m\u001b[1;36m1.0864136\u001b[0m\u001b[1m  \u001b[0m\u001b[1;36m-0.21531129\u001b[0m\u001b[1m  \u001b[0m\u001b[1;36m0.87385404\u001b[0m\u001b[1m \u001b[0m\u001b[1;33m...\u001b[0m\u001b[1m \u001b[0m\u001b[1;36m-0.54751664\u001b[0m\u001b[1m \u001b[0m\u001b[1;36m-0.52459896\u001b[0m\n",
       "\u001b[1m    \u001b[0m\u001b[1;36m0.64206636\u001b[0m\u001b[1m]\u001b[0m\u001b[1m]\u001b[0m\u001b[1m]\u001b[0m\n"
      ]
     },
     "metadata": {},
     "output_type": "display_data"
    },
    {
     "data": {
      "text/html": [
       "<pre style=\"white-space:pre;overflow-x:auto;line-height:normal;font-family:Menlo,'DejaVu Sans Mono',consolas,'Courier New',monospace\"><span style=\"font-weight: bold\">attn_logits mean: </span><span style=\"color: #008080; text-decoration-color: #008080; font-weight: bold\">-0.005041422322392464</span><span style=\"font-weight: bold\">, std: </span><span style=\"color: #008080; text-decoration-color: #008080; font-weight: bold\">0.9890833497047424</span>\n",
       "</pre>\n"
      ],
      "text/plain": [
       "\u001b[1mattn_logits mean: \u001b[0m\u001b[1;36m-0.005041422322392464\u001b[0m\u001b[1m, std: \u001b[0m\u001b[1;36m0.9890833497047424\u001b[0m\n"
      ]
     },
     "metadata": {},
     "output_type": "display_data"
    }
   ],
   "source": [
    "# using the same q and k matrices\n",
    "\n",
    "attn_logits = jnp.matmul(q, k.transpose((0, 2, 1)))\n",
    "scaled_attn_logits = attn_logits / jnp.sqrt(d_k)\n",
    "\n",
    "print_matrix(\"attn_logits\", scaled_attn_logits)\n",
    "\n",
    "print(f\"[bold]attn_logits mean: {jnp.mean(scaled_attn_logits)}, std: {jnp.std(scaled_attn_logits)}[/bold]\")"
   ]
  },
  {
   "cell_type": "markdown",
   "metadata": {},
   "source": [
    "YESSS!! The mean is (close to) 0 and the variance (and std) are close to 1! "
   ]
  },
  {
   "cell_type": "code",
   "execution_count": 90,
   "metadata": {},
   "outputs": [
    {
     "data": {
      "image/png": "[encoded data removed]",
      "text/plain": [
       "<Figure size 640x480 with 1 Axes>"
      ]
     },
     "metadata": {},
     "output_type": "display_data"
    }
   ],
   "source": [
    "# histogram of attn_logits, y axis is log scale\n",
    "plt.hist(scaled_attn_logits.flatten(), bins=100);\n",
    "plt.yscale('log')"
   ]
  },
  {
   "cell_type": "code",
   "execution_count": 92,
   "metadata": {},
   "outputs": [
    {
     "data": {
      "text/html": [
       "<pre style=\"white-space:pre;overflow-x:auto;line-height:normal;font-family:Menlo,'DejaVu Sans Mono',consolas,'Courier New',monospace\"><span style=\"font-weight: bold\">attn_weights</span>\n",
       "<span style=\"font-weight: bold\">[[[</span><span style=\"color: #008080; text-decoration-color: #008080; font-weight: bold\">0.00673581</span><span style=\"font-weight: bold\"> </span><span style=\"color: #008080; text-decoration-color: #008080; font-weight: bold\">0.0053149</span><span style=\"font-weight: bold\">  </span><span style=\"color: #008080; text-decoration-color: #008080; font-weight: bold\">0.01861573</span><span style=\"font-weight: bold\"> </span><span style=\"color: #808000; text-decoration-color: #808000; font-weight: bold\">...</span><span style=\"font-weight: bold\"> </span><span style=\"color: #008080; text-decoration-color: #008080; font-weight: bold\">0.01196581</span><span style=\"font-weight: bold\"> </span><span style=\"color: #008080; text-decoration-color: #008080; font-weight: bold\">0.00446145</span><span style=\"font-weight: bold\"> </span><span style=\"color: #008080; text-decoration-color: #008080; font-weight: bold\">0.01678604</span><span style=\"font-weight: bold\">]</span>\n",
       "<span style=\"font-weight: bold\">  [</span><span style=\"color: #008080; text-decoration-color: #008080; font-weight: bold\">0.00707698</span><span style=\"font-weight: bold\"> </span><span style=\"color: #008080; text-decoration-color: #008080; font-weight: bold\">0.01240387</span><span style=\"font-weight: bold\"> </span><span style=\"color: #008080; text-decoration-color: #008080; font-weight: bold\">0.00666076</span><span style=\"font-weight: bold\"> </span><span style=\"color: #808000; text-decoration-color: #808000; font-weight: bold\">...</span><span style=\"font-weight: bold\"> </span><span style=\"color: #008080; text-decoration-color: #008080; font-weight: bold\">0.0310489</span><span style=\"font-weight: bold\">  </span><span style=\"color: #008080; text-decoration-color: #008080; font-weight: bold\">0.01219067</span><span style=\"font-weight: bold\"> </span><span style=\"color: #008080; text-decoration-color: #008080; font-weight: bold\">0.0136446</span><span style=\"font-weight: bold\"> ]</span>\n",
       "<span style=\"font-weight: bold\">  [</span><span style=\"color: #008080; text-decoration-color: #008080; font-weight: bold\">0.00214672</span><span style=\"font-weight: bold\"> </span><span style=\"color: #008080; text-decoration-color: #008080; font-weight: bold\">0.00981574</span><span style=\"font-weight: bold\"> </span><span style=\"color: #008080; text-decoration-color: #008080; font-weight: bold\">0.04909388</span><span style=\"font-weight: bold\"> </span><span style=\"color: #808000; text-decoration-color: #808000; font-weight: bold\">...</span><span style=\"font-weight: bold\"> </span><span style=\"color: #008080; text-decoration-color: #008080; font-weight: bold\">0.02474811</span><span style=\"font-weight: bold\"> </span><span style=\"color: #008080; text-decoration-color: #008080; font-weight: bold\">0.0011333</span><span style=\"font-weight: bold\">  </span><span style=\"color: #008080; text-decoration-color: #008080; font-weight: bold\">0.01806874</span><span style=\"font-weight: bold\">]</span>\n",
       "<span style=\"font-weight: bold\">  </span><span style=\"color: #808000; text-decoration-color: #808000; font-weight: bold\">...</span>\n",
       "<span style=\"font-weight: bold\">  [</span><span style=\"color: #008080; text-decoration-color: #008080; font-weight: bold\">0.00887805</span><span style=\"font-weight: bold\"> </span><span style=\"color: #008080; text-decoration-color: #008080; font-weight: bold\">0.00188517</span><span style=\"font-weight: bold\"> </span><span style=\"color: #008080; text-decoration-color: #008080; font-weight: bold\">0.01452111</span><span style=\"font-weight: bold\"> </span><span style=\"color: #808000; text-decoration-color: #808000; font-weight: bold\">...</span><span style=\"font-weight: bold\"> </span><span style=\"color: #008080; text-decoration-color: #008080; font-weight: bold\">0.00241368</span><span style=\"font-weight: bold\"> </span><span style=\"color: #008080; text-decoration-color: #008080; font-weight: bold\">0.01237871</span><span style=\"font-weight: bold\"> </span><span style=\"color: #008080; text-decoration-color: #008080; font-weight: bold\">0.0737143</span><span style=\"font-weight: bold\"> ]</span>\n",
       "<span style=\"font-weight: bold\">  [</span><span style=\"color: #008080; text-decoration-color: #008080; font-weight: bold\">0.00365361</span><span style=\"font-weight: bold\"> </span><span style=\"color: #008080; text-decoration-color: #008080; font-weight: bold\">0.0054062</span><span style=\"font-weight: bold\">  </span><span style=\"color: #008080; text-decoration-color: #008080; font-weight: bold\">0.00616117</span><span style=\"font-weight: bold\"> </span><span style=\"color: #808000; text-decoration-color: #808000; font-weight: bold\">...</span><span style=\"font-weight: bold\"> </span><span style=\"color: #008080; text-decoration-color: #008080; font-weight: bold\">0.01479628</span><span style=\"font-weight: bold\"> </span><span style=\"color: #008080; text-decoration-color: #008080; font-weight: bold\">0.00469317</span><span style=\"font-weight: bold\"> </span><span style=\"color: #008080; text-decoration-color: #008080; font-weight: bold\">0.00320285</span><span style=\"font-weight: bold\">]</span>\n",
       "<span style=\"font-weight: bold\">  [</span><span style=\"color: #008080; text-decoration-color: #008080; font-weight: bold\">0.01864362</span><span style=\"font-weight: bold\"> </span><span style=\"color: #008080; text-decoration-color: #008080; font-weight: bold\">0.00507222</span><span style=\"font-weight: bold\"> </span><span style=\"color: #008080; text-decoration-color: #008080; font-weight: bold\">0.01507359</span><span style=\"font-weight: bold\"> </span><span style=\"color: #808000; text-decoration-color: #808000; font-weight: bold\">...</span><span style=\"font-weight: bold\"> </span><span style=\"color: #008080; text-decoration-color: #008080; font-weight: bold\">0.00363851</span><span style=\"font-weight: bold\"> </span><span style=\"color: #008080; text-decoration-color: #008080; font-weight: bold\">0.00372286</span><span style=\"font-weight: bold\"> </span><span style=\"color: #008080; text-decoration-color: #008080; font-weight: bold\">0.01195509</span><span style=\"font-weight: bold\">]]]</span>\n",
       "</pre>\n"
      ],
      "text/plain": [
       "\u001b[1mattn_weights\u001b[0m\n",
       "\u001b[1m[\u001b[0m\u001b[1m[\u001b[0m\u001b[1m[\u001b[0m\u001b[1;36m0.00673581\u001b[0m\u001b[1m \u001b[0m\u001b[1;36m0.0053149\u001b[0m\u001b[1m  \u001b[0m\u001b[1;36m0.01861573\u001b[0m\u001b[1m \u001b[0m\u001b[1;33m...\u001b[0m\u001b[1m \u001b[0m\u001b[1;36m0.01196581\u001b[0m\u001b[1m \u001b[0m\u001b[1;36m0.00446145\u001b[0m\u001b[1m \u001b[0m\u001b[1;36m0.01678604\u001b[0m\u001b[1m]\u001b[0m\n",
       "\u001b[1m  \u001b[0m\u001b[1m[\u001b[0m\u001b[1;36m0.00707698\u001b[0m\u001b[1m \u001b[0m\u001b[1;36m0.01240387\u001b[0m\u001b[1m \u001b[0m\u001b[1;36m0.00666076\u001b[0m\u001b[1m \u001b[0m\u001b[1;33m...\u001b[0m\u001b[1m \u001b[0m\u001b[1;36m0.0310489\u001b[0m\u001b[1m  \u001b[0m\u001b[1;36m0.01219067\u001b[0m\u001b[1m \u001b[0m\u001b[1;36m0.0136446\u001b[0m\u001b[1m \u001b[0m\u001b[1m]\u001b[0m\n",
       "\u001b[1m  \u001b[0m\u001b[1m[\u001b[0m\u001b[1;36m0.00214672\u001b[0m\u001b[1m \u001b[0m\u001b[1;36m0.00981574\u001b[0m\u001b[1m \u001b[0m\u001b[1;36m0.04909388\u001b[0m\u001b[1m \u001b[0m\u001b[1;33m...\u001b[0m\u001b[1m \u001b[0m\u001b[1;36m0.02474811\u001b[0m\u001b[1m \u001b[0m\u001b[1;36m0.0011333\u001b[0m\u001b[1m  \u001b[0m\u001b[1;36m0.01806874\u001b[0m\u001b[1m]\u001b[0m\n",
       "\u001b[1m  \u001b[0m\u001b[1;33m...\u001b[0m\n",
       "\u001b[1m  \u001b[0m\u001b[1m[\u001b[0m\u001b[1;36m0.00887805\u001b[0m\u001b[1m \u001b[0m\u001b[1;36m0.00188517\u001b[0m\u001b[1m \u001b[0m\u001b[1;36m0.01452111\u001b[0m\u001b[1m \u001b[0m\u001b[1;33m...\u001b[0m\u001b[1m \u001b[0m\u001b[1;36m0.00241368\u001b[0m\u001b[1m \u001b[0m\u001b[1;36m0.01237871\u001b[0m\u001b[1m \u001b[0m\u001b[1;36m0.0737143\u001b[0m\u001b[1m \u001b[0m\u001b[1m]\u001b[0m\n",
       "\u001b[1m  \u001b[0m\u001b[1m[\u001b[0m\u001b[1;36m0.00365361\u001b[0m\u001b[1m \u001b[0m\u001b[1;36m0.0054062\u001b[0m\u001b[1m  \u001b[0m\u001b[1;36m0.00616117\u001b[0m\u001b[1m \u001b[0m\u001b[1;33m...\u001b[0m\u001b[1m \u001b[0m\u001b[1;36m0.01479628\u001b[0m\u001b[1m \u001b[0m\u001b[1;36m0.00469317\u001b[0m\u001b[1m \u001b[0m\u001b[1;36m0.00320285\u001b[0m\u001b[1m]\u001b[0m\n",
       "\u001b[1m  \u001b[0m\u001b[1m[\u001b[0m\u001b[1;36m0.01864362\u001b[0m\u001b[1m \u001b[0m\u001b[1;36m0.00507222\u001b[0m\u001b[1m \u001b[0m\u001b[1;36m0.01507359\u001b[0m\u001b[1m \u001b[0m\u001b[1;33m...\u001b[0m\u001b[1m \u001b[0m\u001b[1;36m0.00363851\u001b[0m\u001b[1m \u001b[0m\u001b[1;36m0.00372286\u001b[0m\u001b[1m \u001b[0m\u001b[1;36m0.01195509\u001b[0m\u001b[1m]\u001b[0m\u001b[1m]\u001b[0m\u001b[1m]\u001b[0m\n"
      ]
     },
     "metadata": {},
     "output_type": "display_data"
    },
    {
     "data": {
      "text/html": [
       "<pre style=\"white-space:pre;overflow-x:auto;line-height:normal;font-family:Menlo,'DejaVu Sans Mono',consolas,'Courier New',monospace\"><span style=\"font-weight: bold\">attn_weights mean: </span><span style=\"color: #008080; text-decoration-color: #008080; font-weight: bold\">0.009999998845160007</span><span style=\"font-weight: bold\">, std: </span><span style=\"color: #008080; text-decoration-color: #008080; font-weight: bold\">0.011963767930865288</span>\n",
       "</pre>\n"
      ],
      "text/plain": [
       "\u001b[1mattn_weights mean: \u001b[0m\u001b[1;36m0.009999998845160007\u001b[0m\u001b[1m, std: \u001b[0m\u001b[1;36m0.011963767930865288\u001b[0m\n"
      ]
     },
     "metadata": {},
     "output_type": "display_data"
    }
   ],
   "source": [
    "attn_weights = jax.nn.softmax(scaled_attn_logits)\n",
    "\n",
    "print_matrix(\"attn_weights\", attn_weights)\n",
    "print(f\"[bold]attn_weights mean: {jnp.mean(attn_weights)}, std: {jnp.std(attn_weights)}[/bold]\")"
   ]
  },
  {
   "cell_type": "code",
   "execution_count": 93,
   "metadata": {},
   "outputs": [
    {
     "data": {
      "image/png": "[encoded data removed]",
      "text/plain": [
       "<Figure size 640x480 with 1 Axes>"
      ]
     },
     "metadata": {},
     "output_type": "display_data"
    }
   ],
   "source": [
    "plt.hist(attn_weights.flatten(), bins=100);\n",
    "plt.yscale('log')"
   ]
  },
  {
   "cell_type": "markdown",
   "metadata": {},
   "source": [
    "## Deriving Variance Of A Product of `X` and `Y`"
   ]
  },
  {
   "cell_type": "markdown",
   "metadata": {},
   "source": [
    "$$\\begin{align*}\n",
    "X &\\sim \\mathcal{N}(0,1) \\\\\n",
    "Y &\\sim \\mathcal{N}(0,1) \\\\\n",
    "X \\text{ and } Y &\\text{ are IID} \\\\\n",
    "\\text{Var}[XY] &= \\mathbb{E}[X^2Y^2] - \\mathbb{E}[XY]^2 \\\\\n",
    "&= \\mathbb{E}[X^2]\\mathbb{E}[Y^2] - \\mathbb{E}[X]^2\\mathbb{E}[Y^2] \\\\\n",
    "&= \\mathbb{E}[X^2]\\mathbb{E}[Y^2] - \\mathbb{E}[Y^2]\\mathbb{E}[X^2] + \\mathbb{E}[Y^2]\\mathbb{E}[X^2] \\\\\n",
    "&= \\mathbb{E}[X^2] \\cdot \\mathbb{E}[Y^2] - \\mathbb{E}[Y^2] \\cdot \\mathbb{E}[X] ^ 2 + \\mathbb{E}[Y^2] \\cdot \\mathbb{E}[X]^2 \\\\\n",
    "&= \\mathbb{E}[Y^2] \\left( Var[X] + \\mathbb{E}[X]^2 \\right) = \\mathbb{E}[Y^2] * B\\\\\n",
    "&= \\mathbb{E}[Y^2] * B = \\mathbb{E}[Y^2] * B - \\mathbb{E}[Y]^2 * B + \\mathbb{E}[Y]^2 * B\\\\\n",
    "&= B * \\left( Var[Y] + \\mathbb{E}[Y]^2 \\right)\\\\\n",
    "&= \\left( Var[X] + \\mathbb{E}[X]^2 \\right) * \\left( Var[Y] + \\mathbb{E}[Y]^2 \\right)\\\\\n",
    "&= \\left( Var[X] + 0 \\right) * \\left( Var[Y] + 0 \\right)\\\\\n",
    "&= Var[X]*Var[Y]\\\\\n",
    "\\end{align*}\n",
    "$$\n"
   ]
  }
 ],
 "metadata": {
  "kernelspec": {
   "display_name": "jax-transformer",
   "language": "python",
   "name": "python3"
  },
  "language_info": {
   "codemirror_mode": {
    "name": "ipython",
    "version": 3
   },
   "file_extension": ".py",
   "mimetype": "text/x-python",
   "name": "python",
   "nbconvert_exporter": "python",
   "pygments_lexer": "ipython3",
   "version": "3.11.5"
  },
  "orig_nbformat": 4
 },
 "nbformat": 4,
 "nbformat_minor": 2
}
